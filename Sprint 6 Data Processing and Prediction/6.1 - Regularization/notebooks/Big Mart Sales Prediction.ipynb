{
 "cells": [
  {
   "cell_type": "markdown",
   "metadata": {
    "slideshow": {
     "slide_type": "slide"
    }
   },
   "source": [
    "<h1 align=\"center\">Advanced Linear Regression </h1>"
   ]
  },
  {
   "cell_type": "markdown",
   "metadata": {
    "slideshow": {
     "slide_type": "slide"
    }
   },
   "source": [
    "# Program so far \n",
    "***\n",
    "* Introduction to Python - You are now a budding pythonista\n",
    "\n",
    "* Introduction to Machine Learning - You can tell a classification task from a clustering \n",
    "\n",
    "* Basic Probability & Descriptive Stats - You are at peace with Statistics\n",
    "\n",
    "* Steps involved in solving an end-to-end ML problem - One Step Closer to Machine Learning"
   ]
  },
  {
   "cell_type": "markdown",
   "metadata": {
    "slideshow": {
     "slide_type": "slide"
    }
   },
   "source": [
    "# Agenda for the Day\n",
    "***\n",
    "- Shortcomings of linear regression\n",
    "- Polynomial Basis Function\n",
    "- Regularization(L1/L2)\n",
    "- Bias-variance trade-off"
   ]
  },
  {
   "cell_type": "markdown",
   "metadata": {},
   "source": [
    "# Recall\n",
    "***\n",
    "The bivariate linear regression model can be expressed as $y = theta * x + b$. You can estimate the value of the regression parameters `b and theta` using the Ordinary Least Squares(OLS) method of optimization. "
   ]
  },
  {
   "cell_type": "markdown",
   "metadata": {},
   "source": [
    "## Cost Function:\n",
    "***\n",
    "\n",
    "- An ideal case would be when all the individual points in the scatter plot fall directly on the line OR a straight line passes through all the points in our plot, but in reality, **that rarely happens**\n",
    "  \n",
    "- We can see that for a Particular Area, there is a difference between Price given by our data point (which is the correct observation) and the line (predicted observation or **Fitted Value**)\n",
    "\n",
    "- So how can we Mathematically capture such differences and represent it? "
   ]
  },
  {
   "cell_type": "markdown",
   "metadata": {},
   "source": [
    "### Cost Function\n",
    "***\n",
    "We choose  θs so that predicted values are as close to the actual values as possible\n",
    "\n",
    "We can define a mathematical function to capture the difference between the predicted and actual values.\n",
    "\n",
    "This function is known as the cost function and denoted by $J(θ)$"
   ]
  },
  {
   "cell_type": "markdown",
   "metadata": {},
   "source": [
    "### Cost function:\n",
    "***\n",
    "\n",
    "$$\\frac{1}{2m} \\sum _{i=1}^m (h_\\theta(X^{(i)})-Y^{(i)})^2$$\n",
    "\n",
    "* $\\theta$ is the coefficient of 'x' for our linear model intuitively. It measures how much of a unit change of 'x' will have an effect on 'y'\n",
    "- Here, we need to figure out the values of intercept and coefficients so that  the cost function is minimized.\n",
    "- We do this by a very important and widely used Algorithm: **Gradient Descent**"
   ]
  },
  {
   "cell_type": "markdown",
   "metadata": {},
   "source": [
    "### Gradient Descent Intuition\n",
    "***\n",
    " - So, we want to choose θ so as to minimize J(θ)\n",
    " - Gradient Descent is a search Algorithm that starts with some “initial guess” for θ, and that repeatedly changes θ to make J(θ) smaller, until hopefully we converge to a value of θ that minimizes J(θ)\n"
   ]
  },
  {
   "cell_type": "markdown",
   "metadata": {},
   "source": [
    " - It repeatedly performs an update on θ as shown:\n",
    "<img src=\"../images/Image1.PNG\">"
   ]
  },
  {
   "cell_type": "markdown",
   "metadata": {},
   "source": [
    "### Gradient Descent Intuition\n",
    "***\n",
    "  - Here α is called the learning rate. This is a very natural algorithm that repeatedly takes a step in the direction of steepest decrease of J"
   ]
  },
  {
   "cell_type": "markdown",
   "metadata": {},
   "source": [
    "### Gradient Descent Optimization \n",
    "***\n",
    "<br />\n",
    "Gradient in the previous  eq.(1) can be simplified as following\n",
    "\n",
    "<img src=\"../images/Image2.PNG\">"
   ]
  },
  {
   "cell_type": "markdown",
   "metadata": {},
   "source": [
    "### Gradient Descent Optimization \n",
    "***\n",
    "Hence, for a single training example, eq.(1) becomes\n",
    "\n",
    "<img src=\"../images/Image3.PNG\">"
   ]
  },
  {
   "cell_type": "markdown",
   "metadata": {},
   "source": [
    "For the training set, eq.(1) becomes\n",
    "\n",
    "<img src=\"../images/Image4.PNG\">\n",
    "\n",
    "Here,  xj is the corresponding predictor for  θj.\n",
    "\n",
    "For example, predictor corresponding to  θ1  and 2nd training example,  x(2)1  is 24.\n",
    "\n",
    "Value for all  x(i)0  is equal to 1."
   ]
  },
  {
   "cell_type": "markdown",
   "metadata": {},
   "source": [
    "## Gradient Descent Algorithm & Implementation in Python\n",
    "***\n",
    "To get the optimal value of  θ , perform following algorithm known as the **Batch Gradient Descent Algorithm**\n",
    "\n",
    "<img src=\"../images/Image5.PNG\">\n"
   ]
  },
  {
   "cell_type": "markdown",
   "metadata": {},
   "source": [
    "### Getting Started:\n",
    "***\n",
    "\n",
    "We have seen how Gradient Descent helps us to minimize the cost function. In this exercise we will learn to write functions to implement our own batch gradient descent algorithm for univariate linear regression! \n",
    "\n",
    "<div class=\"alert alert-block alert-success\">You may want to revise and refer to the Steps of the algorithm from the slides to get a strong intuition on what your functions should look like\n",
    "</div>\n",
    "\n",
    "<div class=\"alert alert-block alert-danger\">You should not use any sklearn objects for the purpose of this exercise </div>"
   ]
  },
  {
   "cell_type": "markdown",
   "metadata": {},
   "source": [
    "## Python Implementation of Gradient Descent Algorithm\n",
    "***\n",
    "\n",
    "Let's start with calculating the error of a given linear regression model.\n",
    "We will consider univariate model so that\n",
    "$$y = theta * x + b$$\n",
    "\n",
    "Let's write a function `error_calculator()` so that given `b`, `theta` and X and y, we can calculate the error.\n",
    "\n",
    "The fucntion would look something like this:"
   ]
  },
  {
   "cell_type": "code",
   "execution_count": null,
   "metadata": {},
   "outputs": [],
   "source": [
    "\n",
    "import numpy as np\n",
    "\n",
    "def error_calculator(b, theta, points):\n",
    "    data = np.array(points)\n",
    "    x = data[:,0]\n",
    "    y = data[:,-1]\n",
    "    y_predicted = theta * x + b\n",
    "    error = np.sum((y - y_predicted)**2) / data.shape[0]\n",
    "    return  error"
   ]
  },
  {
   "cell_type": "markdown",
   "metadata": {},
   "source": [
    "Now that we have calculated the mean square error, we can calculate the gradient.\n",
    "\n",
    "We can write a function, that, given current parameters, calculates the gradeint.\n",
    "\n",
    "Such a function would look like this:"
   ]
  },
  {
   "cell_type": "code",
   "execution_count": null,
   "metadata": {},
   "outputs": [],
   "source": [
    "def gradient(b_current, theta_current, points, learningRate):\n",
    "    data = np.array(points)\n",
    "    x = data[:, 0]\n",
    "    y = data[:, 1]\n",
    "    N = data.shape[0]\n",
    "    b_gradient = -2 * np.sum(y - (theta_current * x + b_current)) / N\n",
    "    theta_gradient = -2 * np.sum(x * (y - (theta_current * x + b_current))) / N\n",
    "    new_b = b_current - (learningRate * b_gradient)\n",
    "    new_theta = theta_current - (learningRate * theta_gradient)\n",
    "    return new_b, new_theta"
   ]
  },
  {
   "cell_type": "markdown",
   "metadata": {},
   "source": [
    "Now that we have calculated the gradient, we need to find num_iterations\n",
    "\n",
    "We can write a function, that, given current parameters, calculates the num_iteration and returns the list of calculated errors.\n",
    "\n",
    "Such a function would look like this:"
   ]
  },
  {
   "cell_type": "code",
   "execution_count": null,
   "metadata": {},
   "outputs": [],
   "source": [
    "def gradient_descent(starting_b, starting_theta, points, learning_rate, num_iterations):\n",
    "    b = starting_b\n",
    "    theta = starting_theta\n",
    "    b_list = []\n",
    "    theta_list = []\n",
    "    error_list = []\n",
    "    for i in range(num_iterations):\n",
    "        b, theta = gradient(b, theta, points, learning_rate)\n",
    "        error = error_calculator(b, theta, points)\n",
    "        b_list.append(b)\n",
    "        theta_list.append(theta)\n",
    "        error_list.append(error)\n",
    "    return b_list, theta_list, error_list"
   ]
  },
  {
   "cell_type": "code",
   "execution_count": null,
   "metadata": {},
   "outputs": [],
   "source": [
    "points = np.genfromtxt(\"../data/data.csv\", delimiter=\",\")\n",
    "learning_rate = 0.0001\n",
    "initial_b = 2 # initial y-intercept guess\n",
    "initial_m = 6 # initial slope guess\n",
    "num_iterations = 15"
   ]
  },
  {
   "cell_type": "code",
   "execution_count": null,
   "metadata": {},
   "outputs": [],
   "source": [
    "error_before = error_calculator(initial_b, initial_m, points)\n",
    "b, theta, error = gradient_descent(initial_b, initial_m, points, learning_rate, num_iterations)\n",
    "error_after = error_calculator(b[-1], theta[-1], points)"
   ]
  },
  {
   "cell_type": "code",
   "execution_count": null,
   "metadata": {},
   "outputs": [],
   "source": [
    "print (\"Starting gradient descent at b = {0}, m = {1}, error = {2}\".format(initial_b, initial_m, error_before))\n",
    "print (\"After {0} iterations b = {1}, m = {2}, error = {3}\".format(num_iterations, b[-1], theta[-1], error_after))"
   ]
  },
  {
   "cell_type": "markdown",
   "metadata": {},
   "source": [
    "Next we need to plot '$\\theta$'. So we write a function, that, given current parameters, plots the value to theta against iteration number.\n",
    "\n",
    "This function would look something like this."
   ]
  },
  {
   "cell_type": "code",
   "execution_count": null,
   "metadata": {},
   "outputs": [],
   "source": [
    "import matplotlib.pyplot as plt\n",
    "%matplotlib inline\n",
    "\n",
    "\n",
    "plt.plot(theta)\n",
    "plt.xlabel(\"Iterations\")\n",
    "plt.ylabel(\"theta\")\n",
    "plt.title(\"Theta\")\n",
    "plt.show()"
   ]
  },
  {
   "cell_type": "markdown",
   "metadata": {},
   "source": [
    "Next we need to plot 'b'. So we write a function, that, given current parameters, plots the value to 'b' against iteration number.\n",
    "\n",
    "This function would look like this."
   ]
  },
  {
   "cell_type": "code",
   "execution_count": null,
   "metadata": {},
   "outputs": [],
   "source": [
    "plt.plot(b)\n",
    "plt.xlabel(\"Iterations\")\n",
    "plt.ylabel(\"constant term\")\n",
    "plt.title(\"b\");"
   ]
  },
  {
   "cell_type": "markdown",
   "metadata": {},
   "source": [
    "Next we need to plot 'errors'. So we write a function, that, given current parameters, plots the value to 'errors' against iteration number.\n",
    "\n",
    "This function would look like this."
   ]
  },
  {
   "cell_type": "code",
   "execution_count": null,
   "metadata": {},
   "outputs": [],
   "source": [
    "plt.plot(error)\n",
    "plt.xlabel(\"Iterations\")\n",
    "plt.ylabel(\"Error\")\n",
    "plt.title(\"Error\");"
   ]
  },
  {
   "cell_type": "markdown",
   "metadata": {
    "slideshow": {
     "slide_type": "slide"
    }
   },
   "source": [
    "## John's Story so far..\n",
    "\n",
    "- We saw that John learnt to fit a model to the housing data he collected \n",
    "- He predicted the Price of the House given its Area \n",
    "- He started by fitting a **Linear Model** and made predictions \n",
    "- However, with further analyses, John realized that his predictions could be improved!"
   ]
  },
  {
   "cell_type": "markdown",
   "metadata": {
    "slideshow": {
     "slide_type": "slide"
    }
   },
   "source": [
    "# So, why was John unhappy with Linear Regression?\n",
    "***\n",
    "* He thought what if there are houses that are having prices way away from the regression line? Are these outliers? \n",
    " \n",
    "* **What happens when the model is exposed to outliers ?** \n",
    " \n",
    "* **Does this model prove to be good enough in examining the relationship between a dependent variable and independent variable?**"
   ]
  },
  {
   "cell_type": "markdown",
   "metadata": {
    "slideshow": {
     "slide_type": "slide"
    }
   },
   "source": [
    "Let's see what happens to our model when we expose it to outliers. \n",
    "## Outliers\n",
    "* We learnt about **outliers** in Descriptive Statistics. Lets intuitively understand what they are, quickly\n",
    "* What do you infer by looking at the image below?\n",
    "\n",
    "* The data point far away from the 'model' is basically an *Outlier*"
   ]
  },
  {
   "cell_type": "markdown",
   "metadata": {
    "slideshow": {
     "slide_type": "slide"
    }
   },
   "source": [
    "## John's Hesitancy\n",
    "\n",
    "* John was still confused on how outliers could affect the parameters of a Linear Model\n",
    "* So in order to understand about outliers, John genrated some random data points with his python skills and plotted it\n",
    "* Let's check out what he did! "
   ]
  },
  {
   "cell_type": "code",
   "execution_count": null,
   "metadata": {
    "slideshow": {
     "slide_type": "subslide"
    }
   },
   "outputs": [],
   "source": [
    "import numpy as np\n",
    "import matplotlib.pyplot as plt\n",
    "%matplotlib inline\n",
    "\n",
    "np.random.seed(9)"
   ]
  },
  {
   "cell_type": "code",
   "execution_count": null,
   "metadata": {
    "slideshow": {
     "slide_type": "subslide"
    }
   },
   "outputs": [],
   "source": [
    "rng = np.random.RandomState(1)\n",
    "x = 10 * rng.rand(50)\n",
    "y = 2 * x - 5 + rng.randn(50)\n",
    "plt.scatter(x, y);\n",
    "plt.xlabel(\"Random Values of x\")\n",
    "plt.ylabel(\"Random Values of Y\")\n",
    "plt.title(\"Random Plot\")"
   ]
  },
  {
   "cell_type": "markdown",
   "metadata": {
    "slideshow": {
     "slide_type": "slide"
    }
   },
   "source": [
    "## Fitting a line on the random data\n",
    "\n",
    "* Now john is curious to fit a Linear regression model and check how it fits the data."
   ]
  },
  {
   "cell_type": "code",
   "execution_count": null,
   "metadata": {
    "slideshow": {
     "slide_type": "subslide"
    }
   },
   "outputs": [],
   "source": [
    "from sklearn.linear_model import LinearRegression\n",
    "model1 = LinearRegression(fit_intercept=True)\n",
    "\n",
    "model1.fit(x[:, np.newaxis], y)\n",
    "\n",
    "xfit1 = np.linspace(0, 10, 50)\n",
    "yfit1 = model1.predict(xfit1[:, np.newaxis])\n",
    "print (\"model coeff: {0:.2f}\".format(model1.coef_[0]))\n",
    "print (\"model intercept: {0:.2f}\".format(model1.intercept_))\n",
    "\n",
    "plt.scatter(x, y)\n",
    "plt.plot(xfit1, yfit1);\n",
    "plt.xlabel(\"Random Values of x\")\n",
    "plt.ylabel(\"Random Values of Y\")\n",
    "plt.title(\"Random Plot\")"
   ]
  },
  {
   "cell_type": "markdown",
   "metadata": {
    "slideshow": {
     "slide_type": "slide"
    }
   },
   "source": [
    "* The Linear regression model fits well to the data he generated randomly. He got the regression equation to be:\n",
    "\n",
    "$$ y = -5.00 \\beta_0 + 2.03 \\beta_1 $$\n",
    "\n",
    "* Now john wants to see what would happen if there is an outlier, so he implemented it in Python. Let's check it out\n",
    "\n",
    "\n",
    "**Introducing Outliers:** "
   ]
  },
  {
   "cell_type": "code",
   "execution_count": null,
   "metadata": {
    "slideshow": {
     "slide_type": "subslide"
    }
   },
   "outputs": [],
   "source": [
    "###Adding first outlier\n",
    "rng = np.random.RandomState(1)\n",
    "x3 = 10 * rng.rand(50)\n",
    "y3 = 2 * x3 - 5 + rng.randn(50)\n",
    "y3[20] = 50\n",
    "plt.scatter(x3, y3)\n",
    "plt.xlabel(\"Random Values of x\")\n",
    "plt.ylabel(\"Random Values of Y\")\n",
    "plt.title(\"Random Plot w/ Outlier\")"
   ]
  },
  {
   "cell_type": "markdown",
   "metadata": {
    "slideshow": {
     "slide_type": "slide"
    }
   },
   "source": [
    "## In-class activity: \n",
    "***\n",
    "\n",
    "Now, let's use our skills to fit a model through our new data points and then plot the \"best-fitting\" line:\n"
   ]
  },
  {
   "cell_type": "code",
   "execution_count": null,
   "metadata": {
    "slideshow": {
     "slide_type": "subslide"
    }
   },
   "outputs": [],
   "source": [
    "## Your code here\n",
    "\n",
    "\n",
    "\n",
    "\n",
    "\n"
   ]
  },
  {
   "cell_type": "markdown",
   "metadata": {
    "slideshow": {
     "slide_type": "slide"
    }
   },
   "source": [
    "## Adding a second Outlier \n",
    "\n",
    "- Now, John thought of adding a second outlier and see how the regression line changes. Can you help him out with the code? "
   ]
  },
  {
   "cell_type": "code",
   "execution_count": null,
   "metadata": {
    "slideshow": {
     "slide_type": "subslide"
    }
   },
   "outputs": [],
   "source": [
    "#Adding second outlier\n",
    "\n",
    "rng = np.random.RandomState(1)\n",
    "x4 = 10 * rng.rand(50)\n",
    "y4 = 2 * x4 - 5 + rng.randn(50)\n",
    "y4[5] = 50\n",
    "plt.scatter(x4, y4);"
   ]
  },
  {
   "cell_type": "markdown",
   "metadata": {
    "slideshow": {
     "slide_type": "slide"
    }
   },
   "source": [
    "## In-class activity: \n",
    "***\n",
    "\n",
    "Now, let's use our skills to fit a model through our data points with 2 outliers and then plot the \"best-fitting\" line:\n"
   ]
  },
  {
   "cell_type": "code",
   "execution_count": null,
   "metadata": {
    "slideshow": {
     "slide_type": "subslide"
    }
   },
   "outputs": [],
   "source": [
    "# Your Code here\n",
    "\n",
    "\n",
    "\n",
    "\n",
    "\n",
    "\n"
   ]
  },
  {
   "cell_type": "markdown",
   "metadata": {
    "slideshow": {
     "slide_type": "slide"
    }
   },
   "source": [
    "Now let's see how our models look if put together."
   ]
  },
  {
   "cell_type": "code",
   "execution_count": null,
   "metadata": {
    "slideshow": {
     "slide_type": "subslide"
    }
   },
   "outputs": [],
   "source": [
    "# Your Code here\n",
    "\n",
    "\n",
    "\n",
    "\n",
    "\n"
   ]
  },
  {
   "cell_type": "markdown",
   "metadata": {
    "slideshow": {
     "slide_type": "subslide"
    }
   },
   "source": [
    "**Plotting three lines** it can be seen that all the three lines vary from each other significantly.\n",
    "\n",
    "`Verdict`: A single outlier can significantly change the model parameters.\n",
    "\n"
   ]
  },
  {
   "cell_type": "markdown",
   "metadata": {
    "slideshow": {
     "slide_type": "slide"
    }
   },
   "source": [
    "## Lesson Learnt \n",
    "\n",
    "* After this exercise, John knows what outliers could do to linear regression model\n",
    "\n",
    "* How are the linear model parameters changed by introducing outliers?\n",
    "\n",
    "* As we already studied in the assumption of linear regression, linear models are sensitive to outliers. Now John needs to tackle the Outliers in order to fit a linear model\n"
   ]
  },
  {
   "cell_type": "markdown",
   "metadata": {
    "slideshow": {
     "slide_type": "slide"
    }
   },
   "source": [
    "## What does John need to check apart from Outliers?\n",
    "***\n",
    "**Apart from outliers, John needs to check for the correlation between data points**\n",
    "\n",
    "* But, John is confused with the term correlation. Remember: We studied this in Descriptive Stats and EDA but using it in this case, just for better predictions\n",
    "\n",
    "* Linear correlation refers to straight-line relationships between two variables. But you might argue that the current dataset John's using, has 1 predictor so Correlation is not really something to worry about! There's always a *BUT*\n",
    "\n",
    "* **Remember**: But, for Multivariate Linear Regresssion, John used 78 columns of the housing data that he put together! Now, since his final analysis contains all these predictor variables, he must check for this as well. \n"
   ]
  },
  {
   "cell_type": "markdown",
   "metadata": {
    "slideshow": {
     "slide_type": "subslide"
    }
   },
   "source": [
    "## John's Experiment\n",
    "\n",
    "* John considered a toy dataset with 2 variables which are **not** linearly related and checked how his model behaved and predicted.\n",
    "\n",
    "* John generated the data in the below figure. Here, data is generated by adding noise to a *sin wave function*\n"
   ]
  },
  {
   "cell_type": "code",
   "execution_count": null,
   "metadata": {
    "slideshow": {
     "slide_type": "subslide"
    }
   },
   "outputs": [],
   "source": [
    "## Defining sinusodial relationship between x and y\n",
    "\n",
    "rng = np.random.RandomState(1)\n",
    "x = 10 * rng.rand(50)\n",
    "y = np.sin(x) + 0.1 * rng.randn(50)\n",
    "\n",
    "plt.scatter(x, y);\n",
    "plt.xlabel(\"X\")\n",
    "plt.ylabel(\"Y\")\n",
    "plt.title(\"Non-Linear Function \")"
   ]
  },
  {
   "cell_type": "markdown",
   "metadata": {
    "slideshow": {
     "slide_type": "slide"
    }
   },
   "source": [
    "* It is evident that a linear model will not be able to fit the data points properly. Still, John tries to fit a linear regression model to see what happens\n",
    "\n",
    "* In general, simple linear model fails to explain non-linear data distributions\n",
    "\n",
    "* We can see this below:\n"
   ]
  },
  {
   "cell_type": "code",
   "execution_count": null,
   "metadata": {
    "slideshow": {
     "slide_type": "slide"
    }
   },
   "outputs": [],
   "source": [
    "# Fit your linear regression here\n",
    "\n",
    "xfit1 = np.linspace(0, 10, 1000)\n",
    "yfit1 = model1.predict(xfit1[:, np.newaxis])\n",
    "print( \"model coeff:\", model1.coef_[0])\n",
    "print (\"model intercept:\", model1.intercept_)\n",
    "\n",
    "plt.scatter(x, y)\n",
    "plt.plot(xfit1, yfit1);\n",
    "plt.xlabel(\"X\")\n",
    "plt.ylabel(\"Y\")\n",
    "plt.title(\"Sin Function\")"
   ]
  },
  {
   "cell_type": "markdown",
   "metadata": {
    "slideshow": {
     "slide_type": "slide"
    }
   },
   "source": [
    "As expected, the linear model does an extremely poor job of explaining the target variable. Hence, fitting a linear line to such a nonlinear data *oversimplifies* the model.\n",
    "\n",
    "This is known as **underfitting**\n",
    "\n",
    " - Let's try and understand what underfitting is"
   ]
  },
  {
   "cell_type": "markdown",
   "metadata": {
    "slideshow": {
     "slide_type": "subslide"
    }
   },
   "source": [
    "\n",
    "## Underfitting\n",
    "***\n",
    "<br/>\n",
    "Underfitting is when the the model *fails to capture the overall 'trend' of the data.*\n",
    "\n",
    "A model that underfits is said to have **high bias.**\n",
    "\n",
    "- It is the difference between predictions and truths using models trained by specific learning algorithm\n",
    "\n",
    "- Error due to bias is because we assume that simple linear model will fit to non linear data distribution  while specifying the  algorithm\n",
    "\n",
    "- Basically, we are biased toward the data having a linear trend and we hypothesize that our target variable increases linearly EVEN THOUGH WE CAN SEE A CLEAR NON-LINEAR TREND \n",
    "\n"
   ]
  },
  {
   "cell_type": "markdown",
   "metadata": {
    "slideshow": {
     "slide_type": "slide"
    }
   },
   "source": [
    "## What is the issue here?\n",
    "\n",
    "John notices that the linear regression line is not able to fit \n",
    "\n",
    "- He thinks, what about a non-linear regression line? Polynomial regression line?\n",
    "\n"
   ]
  },
  {
   "cell_type": "markdown",
   "metadata": {
    "slideshow": {
     "slide_type": "slide"
    }
   },
   "source": [
    "\n",
    "## How does John tackle this situtation?\n",
    "***\n",
    "<br />\n",
    "\n",
    "* One way to tackle underfitting is through polynomial functions. Let's see the implementation of this technique.\n"
   ]
  },
  {
   "attachments": {
    "screenshot-en.wikipedia.org-2017-09-22-16-55-36-991.png": {
     "image/png": "[encoded data removed]"
    },
    "screenshot-en.wikipedia.org-2017-09-22-16-59-25-542.png": {
     "image/png": "[encoded data removed]"
    }
   },
   "cell_type": "markdown",
   "metadata": {
    "slideshow": {
     "slide_type": "subslide"
    }
   },
   "source": [
    "\n",
    "## Polynomial Basis Function with sklearn\n",
    "***\n",
    "<br />\n",
    "\n",
    "* In many settings, such a linear relationship may not hold. For example, if we are modeling the yield of a chemical synthesis in terms of the temperature at which the synthesis takes place, we may find that the yield improves by increasing amounts for each unit increase in temperature. In this case, we might propose a quadratic model of the form![screenshot-en.wikipedia.org-2017-09-22-16-55-36-991.png](attachment:screenshot-en.wikipedia.org-2017-09-22-16-55-36-991.png) \n",
    "\n",
    "* In general, we can model the expected value of y as an nth degree polynomial, yielding the general polynomial regression model![screenshot-en.wikipedia.org-2017-09-22-16-59-25-542.png](attachment:screenshot-en.wikipedia.org-2017-09-22-16-59-25-542.png)\n",
    "\n",
    " this is what is known as polynomial basis function  \n",
    " \n",
    "* Polynomial projection is built into Scikit-Learn, using the ``Polynomial Features`` transformer:"
   ]
  },
  {
   "cell_type": "markdown",
   "metadata": {
    "slideshow": {
     "slide_type": "slide"
    }
   },
   "source": [
    "## What is a Polynomial Feature Transformer? \n",
    "\n",
    " - This is nothing but taking the *n-th* degree of your variable\n",
    " - Below is an easy example to display what it does\n",
    "     - Say we wanted to take the 1st, 2nd and 3rd degree of the numbers 2,3 & 4. \n",
    "     - Intuitively we know that for 2 the 1st, 2nd and 3rd degrees are: 2, 4 $(2^2)$ and 8 $(2^3)$\n",
    " \n",
    " - Let's try and understand the code below: "
   ]
  },
  {
   "cell_type": "code",
   "execution_count": null,
   "metadata": {
    "slideshow": {
     "slide_type": "slide"
    }
   },
   "outputs": [],
   "source": [
    "#code to improvise polynomial regression model and increase the accuracy \n",
    "\n",
    "from sklearn.preprocessing import PolynomialFeatures\n",
    "x = np.array([2, 3, 4])\n",
    "poly = PolynomialFeatures(3, include_bias=False)\n",
    "poly.fit_transform(x[:, None])"
   ]
  },
  {
   "cell_type": "markdown",
   "metadata": {
    "slideshow": {
     "slide_type": "subslide"
    }
   },
   "source": [
    "Here the 3 in \"PolynomialFeatures(3, include_bias=False)\" is basically the value of degree of the polynomials up to which we want our data to be transformed to \n",
    "\n",
    "- We can see 3 values for 2,3 and 4. For example: $4^1$ (4), $4^2$ (16) and $4^3$ (64)"
   ]
  },
  {
   "cell_type": "markdown",
   "metadata": {
    "slideshow": {
     "slide_type": "slide"
    }
   },
   "source": [
    "**Now, John decides to use the same technique to create a 7th-degree polynomial model for the non-linear data that he generated  earlier **"
   ]
  },
  {
   "cell_type": "code",
   "execution_count": null,
   "metadata": {
    "slideshow": {
     "slide_type": "subslide"
    }
   },
   "outputs": [],
   "source": [
    "from sklearn.pipeline import make_pipeline\n",
    "poly_model = make_pipeline(PolynomialFeatures(7),\n",
    "                           LinearRegression())"
   ]
  },
  {
   "cell_type": "code",
   "execution_count": null,
   "metadata": {
    "slideshow": {
     "slide_type": "subslide"
    }
   },
   "outputs": [],
   "source": [
    "rng = np.random.RandomState(1)\n",
    "x = 10 * rng.rand(50)\n",
    "y = np.sin(x) + 0.1 * rng.randn(50)\n",
    "xfit = np.linspace(0, 10, 1000)\n",
    "\n",
    "poly_model.fit(x[:, np.newaxis], y)\n",
    "yfit = poly_model.predict(xfit[:, np.newaxis])\n",
    "\n",
    "plt.scatter(x, y)\n",
    "plt.plot(xfit, yfit)\n",
    "\n",
    "plt.xlabel(\"X\")\n",
    "plt.ylabel(\"Y\")\n",
    "plt.title(\"Sin Function\");"
   ]
  },
  {
   "cell_type": "markdown",
   "metadata": {
    "slideshow": {
     "slide_type": "slide"
    }
   },
   "source": [
    "7th-order polynomial basis function can provide an excellent fit to this non-linear data.\n",
    "\n",
    "There are many advantages of using Polynomial Regression as-\n",
    "-  Broad range of functions can be fit over model\n",
    "-  Polynomial fit a wide range of curvature \n",
    "-  It provides good approximation of the relationship and makes the transformation more interpretable."
   ]
  },
  {
   "cell_type": "markdown",
   "metadata": {
    "slideshow": {
     "slide_type": "slide"
    }
   },
   "source": [
    "## Side-tracking\n",
    "\n",
    "** John becomes greedy as he finds the previous model out-performed the linear model so now he added a 18th degree polynomial feature **"
   ]
  },
  {
   "cell_type": "code",
   "execution_count": null,
   "metadata": {
    "slideshow": {
     "slide_type": "slide"
    }
   },
   "outputs": [],
   "source": [
    "# added a 18th degree polynomial feature\n",
    "\n",
    "higher_polynomial = make_pipeline(PolynomialFeatures(18),\n",
    "                            LinearRegression())\n",
    "higher_polynomial.fit(x[:, np.newaxis], y)\n",
    "yfit = higher_polynomial.predict(xfit[:, np.newaxis])\n",
    "\n",
    "plt.scatter(x, y)\n",
    "plt.plot(xfit, yfit)\n",
    "plt.xlim(0, 10)\n",
    "\n",
    "plt.xlabel(\"X\")\n",
    "plt.ylabel(\"Y\")\n",
    "plt.title(\"Sin Function\");"
   ]
  },
  {
   "cell_type": "markdown",
   "metadata": {
    "slideshow": {
     "slide_type": "slide"
    }
   },
   "source": [
    "## Important Concept\n",
    "\n",
    "**In the plot below, we can see how the model fits almost all the data points exactly if we introduce further higher degree polynomials **"
   ]
  },
  {
   "attachments": {
    "L1_L2_7.png": {
     "image/png": "[encoded data removed]"
    }
   },
   "cell_type": "markdown",
   "metadata": {
    "slideshow": {
     "slide_type": "slide"
    }
   },
   "source": [
    "![L1_L2_7.png](attachment:L1_L2_7.png)"
   ]
  },
  {
   "cell_type": "markdown",
   "metadata": {
    "slideshow": {
     "slide_type": "subslide"
    }
   },
   "source": [
    "## What's going on?\n",
    "\n",
    "Here, it seems like the model is learning `too much` from the data\n",
    "\n",
    "*Not only is it learning legit data but also learning the noise.*\n",
    "\n",
    "Such a model is said to be **overfitting**.\n",
    "\n",
    " - Let's try and understand what Overfitting is and how this applies to our example? \n",
    " \n"
   ]
  },
  {
   "attachments": {
    "L1_L2_22.png": {
     "image/png": "[encoded data removed]"
    }
   },
   "cell_type": "markdown",
   "metadata": {
    "slideshow": {
     "slide_type": "slide"
    }
   },
   "source": [
    "## **Intutive Definition of Overfitting**\n",
    "***\n",
    "Overfitting occurs when your model follows the training dataset very rigorously i.e low training error, but it may not work well on generalized or test dataset i.e. high generalization error. \n",
    "\n",
    "For example- It's like a person cramming word to word from a book while studying for his exams. If the questions in the test are straight as is within the book, he will do well, else if the questions are more based on usage of multiple concepts outlined in the book he studied, the person may struggle.\n",
    "\n",
    "![L1_L2_22.png](attachment:L1_L2_22.png)\n",
    "An overfitting model is said to have high variance.\n",
    "\n",
    "We will discuss about bias and variance soon."
   ]
  },
  {
   "attachments": {
    "L1_L2_4.jpg": {
     "image/jpeg": "[encoded data removed]"
    }
   },
   "cell_type": "markdown",
   "metadata": {
    "slideshow": {
     "slide_type": "slide"
    }
   },
   "source": [
    "\n",
    "![L1_L2_4.jpg](attachment:L1_L2_4.jpg)"
   ]
  },
  {
   "cell_type": "markdown",
   "metadata": {
    "slideshow": {
     "slide_type": "slide"
    }
   },
   "source": [
    "# How would John improve the predictive power of his linear regression and tackle overfitting?\n",
    "***\n",
    "## Concept of Regularization\n",
    "***\n",
    " John doesn't know what to do. So, he asks his friend Jay about this!\n",
    " \n",
    " \n",
    "* Jay narrates his own story\n",
    "* As a parent Jay said that he is very cautious about the future of his children \n",
    "* He wants them to be successful in life without being strict with them. He took a decision about how much flexibility should be given to his children during their upbringing. \n",
    "* *Too much restriction may suppress their development of character*\n"
   ]
  },
  {
   "cell_type": "markdown",
   "metadata": {
    "slideshow": {
     "slide_type": "slide"
    }
   },
   "source": [
    "\n",
    "** Alternatively ** \n",
    "- Too much flexibility may spoil them. \n",
    "***\n",
    "- Jay decided to overcome this situation with the idea of regularized(regularization) flexibility, which is to give enough flexibility added with regularization. \n",
    "- By fulfilling some of the expectations of his kids, (continued)"
   ]
  },
  {
   "cell_type": "markdown",
   "metadata": {
    "slideshow": {
     "slide_type": "slide"
    }
   },
   "source": [
    "\n",
    "**like ** \n",
    "- comic books, drawing setups, \n",
    "- storytelling, chocolate, \n",
    "- ice cream, \n",
    "- mobile game etc. to make them happy. \n",
    "\n",
    "** But ** \n",
    "added some regularization like:\n",
    "\n",
    "- You have to finish your homework as well\n",
    "- \"Distribute chocolate equally with your sister\"\n",
    "- Checks exam tests, curfew, etc. \n",
    "\n",
    "** This is an example of a real life situation, just to build some intuition! Let's see what happens mathematically**"
   ]
  },
  {
   "cell_type": "markdown",
   "metadata": {
    "slideshow": {
     "slide_type": "slide"
    }
   },
   "source": [
    "## Even though John doesn't like mathematics, Jay explained it very well\n",
    "***\n",
    "This overfitting behavior when basis functions overlap:\n",
    "- The coefficients of adjacent basis functions grow large and cancel each other out.\n",
    "- We need to limit such spikes explicitly in the model by penalizing large values of the model parameters (the thetas of variables)\n",
    "- Such a penalty is known as regularization with two most used types of regularization\n",
    "\n",
    "It can be done in three ways -\n",
    "-  L1 Regularization (also called as Lasso Penalization/Regression)\n",
    "-  L2 Regularization (also called as Ridge Penalization/Regression)\n",
    "-  Elastic-net"
   ]
  },
  {
   "attachments": {
    "L1_L2_8.png": {
     "image/png": "[encoded data removed]"
    }
   },
   "cell_type": "markdown",
   "metadata": {
    "slideshow": {
     "slide_type": "slide"
    }
   },
   "source": [
    "# L1 Regularization (also called as Lasso penalisation)\n",
    "***\n",
    "<br />\n",
    "\n",
    "![L1_L2_8.png](attachment:L1_L2_8.png)"
   ]
  },
  {
   "cell_type": "markdown",
   "metadata": {
    "slideshow": {
     "slide_type": "subslide"
    }
   },
   "source": [
    "## Understanding L1\n",
    "\n",
    " - Here we are familiar with the First half of the Cost Function. We studied this yesterday\n",
    " \n",
    " - By adding all thetas to the cost function, which we want to minimize, we're adding further restrictions on these parameters\n",
    " \n",
    " - Notice how Theta_0 is not there as we're not penalizing our Intercept"
   ]
  },
  {
   "cell_type": "markdown",
   "metadata": {
    "slideshow": {
     "slide_type": "subslide"
    }
   },
   "source": [
    "** Jay gave an example to John for better understanding of it: **\n",
    "\n",
    "- Suppose the model has 100 coefficients but only 10 of them have non-zero coefficients, this is effectively saying that “ the other 90 predictors are useless in predicting the target values ”.\n",
    "- Though this is conceptually very similar to ridge regression(we will see in later slides), the results can differ surprisingly. For example, due to geometric reasons lasso regression tends to favor sparse models\n",
    "\n",
    "- A sparse matrix is a matrix with a **LOT OF 0's**\n",
    "\n",
    "- That is, it preferentially sets model coefficients to exactly zero!"
   ]
  },
  {
   "cell_type": "markdown",
   "metadata": {
    "slideshow": {
     "slide_type": "subslide"
    }
   },
   "source": [
    "## More on Lasso\n",
    "\n",
    "- With the lasso regression penalty, the majority of the coefficients are exactly zero\n",
    "- The  α  parameter tunes the strength of the penalty, and should be determined via cross-validation. (What is cross-validation? Later in this lecture)\n",
    "\n",
    "- Let's use Lasso on our model and see how it performs "
   ]
  },
  {
   "cell_type": "code",
   "execution_count": null,
   "metadata": {
    "slideshow": {
     "slide_type": "slide"
    }
   },
   "outputs": [],
   "source": [
    "from sklearn.linear_model import Lasso\n",
    "model = make_pipeline(PolynomialFeatures(15), Lasso(alpha=0.01))\n",
    "model.fit(x[:, np.newaxis], y)\n",
    "\n",
    "plt.scatter(x, y)\n",
    "plt.plot(xfit, model.predict(xfit[:, np.newaxis]))\n",
    "plt.xlim(0, 10)\n",
    "plt.ylim(-1.5, 1.5)\n",
    "\n",
    "plt.xlabel(\"X\")\n",
    "plt.ylabel(\"Y\")\n",
    "plt.title(\"Fitting Lasso model\");"
   ]
  },
  {
   "cell_type": "markdown",
   "metadata": {
    "slideshow": {
     "slide_type": "subslide"
    }
   },
   "source": [
    " - Now let's have a look at the model coefficients\n",
    " - Also let's plot the coefficients and see their trend as our variables increase"
   ]
  },
  {
   "cell_type": "code",
   "execution_count": null,
   "metadata": {
    "slideshow": {
     "slide_type": "slide"
    }
   },
   "outputs": [],
   "source": [
    "coef = model.steps[1][1].coef_\n",
    "plt.figure(figsize=(10,6))\n",
    "plt.subplot(121)\n",
    "plt.plot(range(len(coef)), coef);\n",
    "plt.plot(range(len(coef)), [0]*len(coef));\n",
    "plt.xticks(range(16),('x0','x1','x2','x3','x4','x5','x6','x7','x8','x9','x10','x11','x12','x13','x14','x15'))\n",
    "plt.title(\"LASSO Penalization\")\n",
    "\n",
    "\n",
    "plt.subplot(122)\n",
    "coef = model.steps[1][1].coef_\n",
    "plt.plot(range(len(coef)), coef);\n",
    "plt.plot(range(len(coef)), [0]*len(coef));\n",
    "plt.ylim(-5e-7, 5e-7)\n",
    "plt.xticks(range(16),('x0','x1','x2','x3','x4','x5','x6','x7','x8','x9','x10','x11','x12','x13','x14','x15'))\n",
    "plt.title(\"Closer Outlook\")\n",
    "\n",
    "print(coef)"
   ]
  },
  {
   "cell_type": "markdown",
   "metadata": {
    "slideshow": {
     "slide_type": "subslide"
    }
   },
   "source": [
    "* In the 1st graph we can observe that L1 regularization penalizes some of the co-efficients resulting them to zero. \n",
    "* It is appearing that after $X^4$ the coeff are reduced to zero.\n",
    "***\n",
    "* The second graph is a closer look and zooms in further to the scale of ($-5e^{-7}$, $5e^{-7}$).\n",
    "* On zooming the 1st graph we found out that coefficient $X^8$ and later are penalized and reduced to zero."
   ]
  },
  {
   "attachments": {
    "L1_L2_9.png": {
     "image/png": "[encoded data removed]"
    }
   },
   "cell_type": "markdown",
   "metadata": {
    "slideshow": {
     "slide_type": "slide"
    }
   },
   "source": [
    "# L2 Regularization (also called as Ridge penalisation) \n",
    "***\n",
    "<br />\n",
    "\n",
    "![L1_L2_9.png](attachment:L1_L2_9.png)\n",
    "\n"
   ]
  },
  {
   "cell_type": "markdown",
   "metadata": {
    "slideshow": {
     "slide_type": "subslide"
    }
   },
   "source": [
    "## L2 Regularization\n",
    "\n",
    "- The L2 regularization will force the parameters to be relatively small, the bigger the penalization, the smaller (and the more robust to overfitting) the coefficients are\n",
    "- Here we are considering every feature but we are penalizing the coefficients based on how significant the feature is"
   ]
  },
  {
   "cell_type": "markdown",
   "metadata": {
    "slideshow": {
     "slide_type": "slide"
    }
   },
   "source": [
    "Here,  α is a hyper-parameter that controls the strength of the penalty.\n",
    "The  α parameter controls complexity of the resulting model.\n",
    "- In the limit  α→0 , we recover the standard linear regression result.\n",
    "- In the limit  α→∞ , all model responses will be suppressed.\n",
    "\n",
    "Ridge regression can be computed very efficiently at hardly more computational cost than the original linear regression model.\n",
    "This type of penalized model is built into Scikit-Learn with the Ridge estimator.\n",
    "\n",
    "- Let's see how to implement this and get our coefficients "
   ]
  },
  {
   "cell_type": "code",
   "execution_count": null,
   "metadata": {
    "slideshow": {
     "slide_type": "slide"
    }
   },
   "outputs": [],
   "source": [
    "#code to implement l2 and to from sklearn.linear_model import Ridge\n",
    "from sklearn.linear_model import Ridge\n",
    "model = make_pipeline(PolynomialFeatures(16), Ridge(alpha=0.1))\n",
    "model.fit(x[:, np.newaxis], y)\n",
    "\n",
    "plt.scatter(x, y)\n",
    "plt.plot(xfit, model.predict(xfit[:, np.newaxis]))\n",
    "plt.xlim(0, 10)\n",
    "plt.ylim(-1.5, 1.5)\n",
    "\n",
    "plt.xlabel(\"X\")\n",
    "plt.ylabel(\"Y\")\n",
    "plt.title(\"Fitting Ridge model\")"
   ]
  },
  {
   "cell_type": "markdown",
   "metadata": {
    "slideshow": {
     "slide_type": "slide"
    }
   },
   "source": [
    "Now, let's get our co-efficients, just like how we did for Lasso\n",
    "\n",
    "- Also, let's plot it to see the trend of our coefficients. Again, this is similar to what we did"
   ]
  },
  {
   "cell_type": "code",
   "execution_count": null,
   "metadata": {
    "slideshow": {
     "slide_type": "slide"
    }
   },
   "outputs": [],
   "source": [
    "plt.figure(figsize=(10,6))\n",
    "\n",
    "plt.subplot(121)\n",
    "coef = model.steps[1][1].coef_\n",
    "plt.plot(range(len(coef)), coef);\n",
    "plt.plot(range(len(coef)), [0]*len(coef))\n",
    "plt.xticks(range(16),('x0','x1','x2','x3','x4','x5','x6','x7','x8','x9','x10','x11','x12','x13','x14','x15'))\n",
    "plt.title(\"RIDGE Penalization\")\n",
    "\n",
    "\n",
    "plt.subplot(122)\n",
    "coef = model.steps[1][1].coef_\n",
    "plt.plot(range(len(coef)), coef);\n",
    "plt.plot(range(len(coef)), [0]*len(coef));\n",
    "plt.ylim(-5e-7, 5e-7)\n",
    "plt.xticks(range(16),('x0','x1','x2','x3','x4','x5','x6','x7','x8','x9','x10','x11','x12','x13','x14','x15'))\n",
    "plt.title(\"Closer outlook\")\n",
    "\n",
    "print(coef)"
   ]
  },
  {
   "cell_type": "markdown",
   "metadata": {
    "slideshow": {
     "slide_type": "slide"
    }
   },
   "source": [
    "* On the contrary , L2 regularization does not reduces the coefficients to zero rather.\n",
    "\n",
    "* On zooming the 1st graph we found out that coefficient $X^{14}$ and later are appearing to be reduced to zero but out of 16 polynomial features L2 regularization is successful in producing non zero coefficients.\n",
    "\n",
    "- **NOTE** - Remember John had originally taken 18 features!"
   ]
  },
  {
   "cell_type": "markdown",
   "metadata": {
    "slideshow": {
     "slide_type": "slide"
    }
   },
   "source": [
    "## L1 vs L2 Regularization (1/2)\n",
    "***\n",
    "<br />\n",
    "* **Built-in feature selection**\n",
    "\n",
    "* As we increased the value of alpha, coefficients were approaching towards zero rather quickly, \n",
    "\n",
    "**but ** \n",
    "* if you see in case of lasso, even at smaller alpha's, our coefficients are reducing to absolute zeros. "
   ]
  },
  {
   "cell_type": "markdown",
   "metadata": {
    "slideshow": {
     "slide_type": "subslide"
    }
   },
   "source": [
    "## L1 vs L2 Regularization\n",
    "***\n",
    "<br />\n",
    "** Therefore **, \n",
    "* Lasso Regression technique selects only some feature while it reduces the coefficients of others to zero. This property is known as feature selection and which is absent in case of ridge.\n",
    "\n",
    "- A result of this, we tend to get a lot of 0s! \n",
    "- This doesn't necessarily happen in case of L2 - Ridge Regression"
   ]
  },
  {
   "attachments": {
    "L1_L2_11.png": {
     "image/png": "[encoded data removed]"
    }
   },
   "cell_type": "markdown",
   "metadata": {
    "slideshow": {
     "slide_type": "slide"
    }
   },
   "source": [
    "## Summary\n",
    "***\n",
    "![L1_L2_11.png](attachment:L1_L2_11.png)"
   ]
  },
  {
   "cell_type": "markdown",
   "metadata": {
    "slideshow": {
     "slide_type": "subslide"
    }
   },
   "source": [
    "## John's Curiosity\n",
    "\n",
    "John wants to know which technique would perform well if we have more feature(let's say 10000)?\n",
    " \n",
    "* lets say we have a large dataset which has 10,000 features. \n",
    "* And some of the independent features are correlated with other independent features. \n",
    "\n",
    "**What do you recommend, Rigde or Lasso?**\n"
   ]
  },
  {
   "cell_type": "markdown",
   "metadata": {
    "slideshow": {
     "slide_type": "subslide"
    }
   },
   "source": [
    "## Jay's Thoughts \n",
    "\n",
    "* If we apply ridge regression to it, it will retain all of the features \n",
    "\n",
    "**but**\n",
    "* it will shrink the coefficients. Still the problem is that model will remain complex as there are 10,000 features, thus may lead to poor model performance.\n",
    "\n",
    "* if we apply lasso regression to this problem. \n",
    "* The main problem with lasso regression is when we have correlated variables, it retains only one variable and sets other correlated variables to zero. \n",
    "* That will possibly lead to some loss of information resulting in lower accuracy in our model.\n",
    "\n",
    "** Then what is the solution for this problem? ** "
   ]
  },
  {
   "cell_type": "markdown",
   "metadata": {
    "slideshow": {
     "slide_type": "slide"
    }
   },
   "source": [
    "* For this we have another type of regression, known as \n",
    "\n",
    "** Elastic net regression,**\n",
    "\n",
    "* which is basically a hybrid of ridge and lasso regression. So let's try to understand it"
   ]
  },
  {
   "cell_type": "markdown",
   "metadata": {
    "slideshow": {
     "slide_type": "slide"
    }
   },
   "source": [
    "## Elastic-net\n",
    "***\n",
    "<br />\n",
    "\n",
    "Elastic Net regularization is the combination of both L1 and L2 regulrization.\n",
    "\n",
    "$$P = \\alpha \\displaystyle\\sum^{N}_{n=1}{|\\theta_n|} + (1 -\\alpha) \\displaystyle\\sum^{N}_{n=1}{\\theta_n^2}$$\n",
    "\n",
    "* Elastic Net generally seems to perform better than both the individual L1 and L2 regularizations. \n",
    "* However, it is computationally more expensive"
   ]
  },
  {
   "cell_type": "markdown",
   "metadata": {
    "slideshow": {
     "slide_type": "subslide"
    }
   },
   "source": [
    "## How does Elastic Regression work?\n",
    "\n",
    "John really doesn't understand how this works. He seeks out Jay for his input and this is what Jay had to say\n",
    "\n",
    "* So Let's say, we have a bunch of correlated independent variables in a dataset, \n",
    "* Then elastic net will simply form a group consisting of these correlated variables. \n",
    "* Now if any one of the variable of this group is a strong predictor (meaning having a strong relationship with dependent variable), then we will include the entire group in the model building, \n",
    "* Because omitting other variables (like what we did in lasso) might result in losing some information in terms of interpretation ability, leading to a poor model performance.So it results out as bias and variance balance trade off with manipulating the  $\\alpha$  which improves the model performance and reduces complexity."
   ]
  },
  {
   "cell_type": "markdown",
   "metadata": {
    "slideshow": {
     "slide_type": "subslide"
    }
   },
   "source": [
    " - Let's check how Elastic Net does. \n",
    " - As done earlier, we'll check the coefficients and a plot to see the trend in the coefficients "
   ]
  },
  {
   "cell_type": "code",
   "execution_count": null,
   "metadata": {
    "slideshow": {
     "slide_type": "slide"
    }
   },
   "outputs": [],
   "source": [
    "#code to implement ElasticNet\n",
    "from sklearn.linear_model import ElasticNet\n",
    "model = make_pipeline(PolynomialFeatures(16), ElasticNet(alpha=1e-7))\n",
    "model.fit(x[:, np.newaxis], y)\n",
    "\n",
    "plt.scatter(x, y)\n",
    "plt.plot(xfit, model.predict(xfit[:, np.newaxis]))\n",
    "plt.xlim(0, 10)\n",
    "plt.ylim(-1.5, 1.5)\n",
    "\n",
    "plt.xlabel(\"X\")\n",
    "plt.ylabel(\"Y\")\n",
    "plt.title(\"Fitting Elastic net model\");"
   ]
  },
  {
   "cell_type": "code",
   "execution_count": null,
   "metadata": {
    "slideshow": {
     "slide_type": "slide"
    }
   },
   "outputs": [],
   "source": [
    "#graph to show improvisation of elastic net \n",
    "coef = model.steps[1][1].coef_\n",
    "plt.plot(range(len(coef)), coef);\n",
    "plt.plot(range(len(coef)), [0]*len(coef))\n",
    "plt.xticks(range(16),('x0','x1','x2','x3','x4','x5','x6','x7','x8','x9','x10','x11','x12','x13','x14','x15'))\n",
    "plt.xlabel(\"Coefficients of $x_i$\")\n",
    "plt.ylabel(\"Y\")\n",
    "plt.title('Elastic net Penalisation')\n",
    "\n",
    "print(coef)"
   ]
  },
  {
   "cell_type": "markdown",
   "metadata": {
    "slideshow": {
     "slide_type": "slide"
    }
   },
   "source": [
    "## Bias - Variance -Trade off\n",
    "***\n",
    "<br />\n",
    "* Now John as understood regularization and also implemented the models and checked how the model fits the data.\n",
    "\n",
    "* But he is still confused, how to decide whether the model is overfitting or underfitting.\n",
    "\n",
    "* So his friend introduced one more concept or method to understand it, which is known as Bias - Variance -Trade off.\n",
    "\n"
   ]
  },
  {
   "cell_type": "markdown",
   "metadata": {
    "slideshow": {
     "slide_type": "slide"
    }
   },
   "source": [
    "## Bias-Variance Trade-off \n",
    "\n",
    "* So whenever we fit a model to a data, we can notice two properties; bias, giving us a some kind of measure on the model’s predictions’ average closeness to training data and variance, deviation of the predictions by John's model from the original data.\n",
    "\n",
    "*  If we fit a model with a low complexity, it will not follow the real trend in the data and John's model introduces high bias.\n",
    "\n",
    "* This high bias in our model will not be able to follow the real trend in data and will produce predictions that are closer to our other predictions hence low variance."
   ]
  },
  {
   "attachments": {
    "biasvariance.jpg": {
     "image/jpeg": "[encoded data removed]"
    }
   },
   "cell_type": "markdown",
   "metadata": {
    "slideshow": {
     "slide_type": "subslide"
    }
   },
   "source": [
    "![biasvariance.jpg](attachment:biasvariance.jpg)"
   ]
  },
  {
   "cell_type": "markdown",
   "metadata": {
    "slideshow": {
     "slide_type": "subslide"
    }
   },
   "source": [
    "## John's Approach for the Housing data\n",
    "\n",
    "* From above explaination John understood 60% of the concept, he was looking for other methods to tackle overfitting and underfitting on his **entire data set**\n",
    "\n",
    "* Jay mentioned that what if he took a small part of his data to test the model (or use it to validate the effectiveness of the model) and train the model on the rest of the data? \n",
    "\n",
    " - This would surely give a good idea on how it's performing since we already know the output of those rows used to test the model \n",
    " \n",
    "* Jay has insinuated to use Cross Validation which helps to tackle  overfitting and underfitting as well as Bias - Variance -Trade off.\n",
    "\n",
    "* John was more keen to learn, how cross validation works."
   ]
  },
  {
   "cell_type": "markdown",
   "metadata": {
    "slideshow": {
     "slide_type": "slide"
    }
   },
   "source": [
    "## Model Validation:\n",
    "***\n",
    "<br /> \n",
    " \n",
    " \n",
    "- Cross-Validation is another technique that helps tackle the issue of overfitting\n",
    "- Validation is a technique which involves reserving a particular sample of a data set on which you do not train the model.\n",
    "- Later, you test the model on this sample before finalizing the model (model validation)"
   ]
  },
  {
   "cell_type": "markdown",
   "metadata": {
    "slideshow": {
     "slide_type": "slide"
    }
   },
   "source": [
    "## Cross-validation\n",
    "***\n",
    "Keeping a validation set aside helps check overfitting on the training set, as the overfitted model will give high performance on the training set but will perform poorly on the validation set.\n",
    "This helps in measuring the model's ability to generalise\n",
    "\n",
    "\n",
    "- **NOTE** : WE ARE GOING TO PERFORM CROSS-VALIDATION AND L1/L2 REGULARIZATION ON THE ENTIRE DATA SET (NY HOUSING DATA SET COLLECTED BY JOHN)"
   ]
  },
  {
   "cell_type": "markdown",
   "metadata": {
    "slideshow": {
     "slide_type": "slide"
    }
   },
   "source": [
    "**Methods for model validation:**\n",
    "- Holdout sets\n",
    "- Cross-validation\n",
    "    - k-fold validation\n",
    "- Hold-one-out (also known as Leave-one-out validation)\n"
   ]
  },
  {
   "cell_type": "markdown",
   "metadata": {
    "slideshow": {
     "slide_type": "slide"
    }
   },
   "source": [
    "**Holdout sets**\n",
    "- We separate keep a portion of train data separate for validation.\n",
    "- The data used to train the model is known as “Training set”\n",
    "- The data used to validate the model is known as “Validation set”\n",
    "  sklearn's cross_validation provides train_test_split api"
   ]
  },
  {
   "cell_type": "markdown",
   "metadata": {
    "slideshow": {
     "slide_type": "slide"
    }
   },
   "source": [
    "## Validation through Holdout Set\n",
    "***\n",
    "<br/>\n",
    "Let's see how to do this in Python. This is going to be interesting so please pay close attention! Use Lasso/Ridge as exercise where the other is not implemented \n",
    "\n",
    " - Time Complexity of the Algorithm would be different for each method so it's normal if one method takes more time than the other! "
   ]
  },
  {
   "cell_type": "code",
   "execution_count": null,
   "metadata": {
    "slideshow": {
     "slide_type": "subslide"
    }
   },
   "outputs": [],
   "source": [
    "import pandas as pd\n",
    "data = pd.read_csv(\"../data/house_prices_multivariate.csv\")\n",
    "data.head()"
   ]
  },
  {
   "cell_type": "code",
   "execution_count": null,
   "metadata": {
    "slideshow": {
     "slide_type": "slide"
    }
   },
   "outputs": [],
   "source": [
    "from sklearn.model_selection import train_test_split\n",
    "\n",
    "X = data.iloc[:,:-1]\n",
    "y = data['SalePrice']\n",
    "\n",
    "# split the data with 50% in each set\n",
    "X_train, X_test, y_train, y_test = train_test_split(X, y, random_state=9, train_size=0.5)"
   ]
  },
  {
   "cell_type": "code",
   "execution_count": null,
   "metadata": {
    "slideshow": {
     "slide_type": "subslide"
    }
   },
   "outputs": [],
   "source": [
    "from sklearn.linear_model import LinearRegression, Lasso, Ridge\n",
    "from sklearn.metrics import mean_squared_error\n",
    "\n",
    "# Instantiate a Linear Regression model\n",
    "linear_model = LinearRegression()\n",
    "\n",
    "#Fit and predict\n",
    "\n",
    "# Code starts here\n",
    "\n",
    "\n",
    "\n"
   ]
  },
  {
   "cell_type": "code",
   "execution_count": null,
   "metadata": {
    "slideshow": {
     "slide_type": "slide"
    }
   },
   "outputs": [],
   "source": [
    "lasso_model=Lasso(alpha=140, max_iter=100000, random_state=9)\n",
    "\n",
    "# Code starts here\n",
    "\n",
    "# fit the model on one set of data\n",
    "\n",
    "# evaluate the model on the second set of data\n",
    "\n",
    "\n"
   ]
  },
  {
   "cell_type": "code",
   "execution_count": null,
   "metadata": {
    "slideshow": {
     "slide_type": "subslide"
    }
   },
   "outputs": [],
   "source": [
    "ridge_model=Ridge(alpha=0.00001, max_iter=100000, random_state=9)\n",
    "\n",
    "# Code starts here\n",
    "\n",
    "# fit the model on one set of data\n",
    "\n",
    "\n",
    "# evaluate the model on the second set of data\n",
    "\n",
    "\n"
   ]
  },
  {
   "cell_type": "markdown",
   "metadata": {},
   "source": [
    "### Visualize the trend of coefficients"
   ]
  },
  {
   "cell_type": "code",
   "execution_count": null,
   "metadata": {
    "slideshow": {
     "slide_type": "slide"
    }
   },
   "outputs": [],
   "source": [
    "linear_coef = linear_model.coef_\n",
    "plt.figure(figsize=(15, 8))\n",
    "plt.plot(range(len(linear_coef)), linear_coef)\n",
    "plt.plot(range(len(linear_coef)), [0]*len(linear_coef))\n",
    "ticks = tuple((\"x\"+str(i) for i in range(35)))\n",
    "plt.xticks(range(35),ticks)\n",
    "plt.xlabel(\"Coefficients of $x_i$\")\n",
    "plt.ylabel(\"Y\")\n",
    "plt.title('Linear Regression')\n",
    "plt.show()"
   ]
  },
  {
   "cell_type": "code",
   "execution_count": null,
   "metadata": {
    "slideshow": {
     "slide_type": "slide"
    }
   },
   "outputs": [],
   "source": [
    "lasso_coef = lasso_model.coef_\n",
    "plt.figure(figsize=(15, 8))\n",
    "plt.plot(range(len(lasso_coef)), lasso_coef)\n",
    "plt.plot(range(len(linear_coef)), [0]*len(linear_coef))\n",
    "ticks = tuple((\"x\"+str(i) for i in range(35)))\n",
    "plt.xticks(range(35),ticks)\n",
    "plt.xlabel(\"Coefficients of $x_i$\")\n",
    "plt.ylabel(\"Y\")\n",
    "plt.title('Lasso Regression')\n",
    "plt.show()"
   ]
  },
  {
   "cell_type": "code",
   "execution_count": null,
   "metadata": {
    "slideshow": {
     "slide_type": "slide"
    }
   },
   "outputs": [],
   "source": [
    "ridge_coef = ridge_model.coef_\n",
    "plt.figure(figsize=(15, 8))\n",
    "plt.plot(range(len(ridge_coef)), ridge_coef)\n",
    "plt.plot(range(len(linear_coef)), [0]*len(linear_coef))\n",
    "ticks = tuple((\"x\"+str(i) for i in range(35)))\n",
    "plt.xticks(range(35),ticks)\n",
    "plt.xlabel(\"Coefficients of $x_i$\")\n",
    "plt.ylabel(\"Y\")\n",
    "plt.title('Linear Regression')\n",
    "plt.show()"
   ]
  },
  {
   "cell_type": "code",
   "execution_count": null,
   "metadata": {
    "slideshow": {
     "slide_type": "subslide"
    }
   },
   "outputs": [],
   "source": [
    "# code to compare coefficients of each method and their graphs for better understanding! Very Important\n",
    "\n",
    "plt.figure(figsize=(15, 8))\n",
    "\n",
    "# Code starts here\n",
    "\n",
    "\n",
    "\n",
    "\n",
    "\n",
    "\n",
    "# Code ends here\n",
    "\n",
    "ticks = tuple((\"x\"+str(i) for i in range(35)))\n",
    "plt.xticks(range(35),ticks)\n",
    "plt.xlabel(\"Coefficients of $x_i$\")\n",
    "plt.ylabel(\"Y\")\n",
    "plt.show()"
   ]
  },
  {
   "cell_type": "markdown",
   "metadata": {
    "slideshow": {
     "slide_type": "slide"
    }
   },
   "source": [
    "## Model validation via Cross-Validation\n",
    "***\n",
    "<br />\n",
    "- Disadvantage of using a holdout set for model validation is that we have lost a portion of our data to the model training.\n",
    "- This is not optimal, and can cause problems – especially if the initial set of training data is small.\n",
    "- One way to address this is to use cross-validation; do a sequence of fits where each subset of the data is used both as a       training set and as a validation set."
   ]
  },
  {
   "attachments": {
    "L1_L2_12.png": {
     "image/png": "[encoded data removed]"
    }
   },
   "cell_type": "markdown",
   "metadata": {
    "slideshow": {
     "slide_type": "subslide"
    }
   },
   "source": [
    "Here we do two validation trials, alternately using each half of the data as a holdout set\n",
    "Accuracy scores could be combined (by, say, taking the mean) to get a better measure of the global model performance.\n",
    "This particular form of cross-validation is a two-fold cross-validation\n",
    "![L1_L2_12.png](attachment:L1_L2_12.png)"
   ]
  },
  {
   "attachments": {
    "L1_L2_13.png": {
     "image/png": "[encoded data removed]"
    }
   },
   "cell_type": "markdown",
   "metadata": {
    "slideshow": {
     "slide_type": "slide"
    }
   },
   "source": [
    "## Model validation through k-fold validation\n",
    "***\n",
    "<br />\n",
    "\n",
    "- We could expand on this idea to use even more trials, and more folds in the data.\n",
    "- Here we split the data into five groups, and use each of them in turn to evaluate the model fit on the other 4/5 of the data.\n",
    "- We can use Scikit-Learn's cross_val_score convenience routine to do it succinctly\n",
    "\n",
    "![L1_L2_13.png](attachment:L1_L2_13.png)"
   ]
  },
  {
   "cell_type": "code",
   "execution_count": null,
   "metadata": {
    "slideshow": {
     "slide_type": "subslide"
    }
   },
   "outputs": [],
   "source": [
    "# #code for implementing k-fold validation\n",
    "# ## Model validation through k-fold validationfrom sklearn.cross_validation import cross_val_score\n",
    "\n",
    "# from sklearn.model_selection import cross_val_score\n",
    "# scores = cross_val_score(model, X, y, scoring=\"neg_mean_squared_error\", cv=5)\n",
    "# scores.mean()"
   ]
  },
  {
   "cell_type": "markdown",
   "metadata": {
    "slideshow": {
     "slide_type": "slide"
    }
   },
   "source": [
    "## Hold-one-out (also known as Leave-one-out validation)\n",
    "***\n",
    "<br />\n",
    "\n",
    "- In this approach, we reserve only one data-point of the available data set for testing.\n",
    "- And, train model on the rest of data set. This process iterates for each data point.\n",
    "- We make use of all data points, hence low bias.\n",
    "- This approach leads to higher variation in testing model effectiveness because we test against one data point.\n",
    "- So, our estimation gets highly influenced by the data point.\n",
    "- If the data point turns out to be an outlier, it can lead to higher variation.\n",
    "\n",
    "If we have 150 samples, the leave one out cross-validation yields scores for 150 trials,"
   ]
  },
  {
   "cell_type": "code",
   "execution_count": null,
   "metadata": {
    "slideshow": {
     "slide_type": "subslide"
    }
   },
   "outputs": [],
   "source": [
    "# #code to implement Hold-one-out validation\n",
    "# from sklearn.cross_validation import LeaveOneOut\n",
    "# scores = cross_val_score(model, X,y, scoring=\"neg_mean_squared_error\", cv=LeaveOneOut(X.shape[0]))\n",
    "# print (\"mean score:\", scores.mean())\n",
    "# print (\"shape:\", scores.shape[0])"
   ]
  },
  {
   "cell_type": "markdown",
   "metadata": {},
   "source": [
    "# In-class Activity"
   ]
  },
  {
   "cell_type": "markdown",
   "metadata": {},
   "source": [
    "## Big Mart Sales\n",
    "\n",
    "## Problem Statement\n",
    "\n",
    "The data scientists at BigMart have collected 2013 sales data for 1559 products across 10 stores in different cities. Also, certain attributes of each product and store have been defined. The aim is to build a predictive model and find out the sales of each product at a particular store.\n",
    "\n",
    "Using this model, BigMart will try to understand the properties of products and stores which play a key role in increasing sales.\n",
    "\n",
    "\n",
    "## About the DataSet :\n",
    "We have train (8523) and test (5681) data set, train data set has both input and output variable(s). You need to predict the sales for test data set.\n",
    "\n",
    "|Features|Description|\n",
    "|-----|-----|\n",
    "|Item_Identifier|Unique product ID|\n",
    "|Item_Weight|Weight of product|\n",
    "|Item_Fat_Content|Whether the product is low fat or not|\n",
    "|Item_Visibility|The % of total display area of all products in a store allocated to the particular product|\n",
    "|Item_Type|The category to which the product belongs|\n",
    "|Item_MRP|Maximum Retail Price (list price) of the product|\n",
    "|Outlet_Identifier|Unique store ID|\n",
    "|Outlet_Establishment_Year|The year in which store was established|\n",
    "|Outlet_Size|The size of the store in terms of ground area covered|\n",
    "|Outlet_Location_Type|The type of city in which the store is located|\n",
    "|Outlet_Type|Whether the outlet is just a grocery store or some sort of supermarket|\n",
    "|Item_Outlet_Sales|Sales of the product in the particular store. This is the outcome variable to be predicted.|\n",
    "|source|is it a train data or test data point|\n",
    "\n",
    " \n",
    " Just to inform you guys that this data is preprocessed with necessary missing value imputation and feature engineering and encoding of features."
   ]
  },
  {
   "cell_type": "code",
   "execution_count": null,
   "metadata": {},
   "outputs": [],
   "source": [
    "# Load the data\n",
    "\n",
    "import pandas as pd\n",
    "import numpy as np\n",
    "from matplotlib import pyplot as plt\n",
    "from sklearn.metrics import r2_score,mean_squared_error\n",
    "from sklearn.model_selection import train_test_split\n",
    "import warnings\n",
    "warnings.filterwarnings(\"ignore\")\n",
    "\n",
    "sales_data = pd.read_csv('../data/sales.csv',index_col=False)\n",
    "\n",
    "sales_data.head()"
   ]
  },
  {
   "cell_type": "code",
   "execution_count": null,
   "metadata": {},
   "outputs": [],
   "source": [
    "#'Item_Type','Outlet_Establishment_Year' have  been converted to different types. Drop these columns:\n",
    "sales_data.drop(['Item_Type','Outlet_Establishment_Year'],axis=1,inplace=True)\n",
    "\n",
    "#Drop unnecessary columns:\n",
    "sales_data.drop(['source'],axis=1,inplace=True)"
   ]
  },
  {
   "cell_type": "markdown",
   "metadata": {},
   "source": [
    "### Create a baseline regression model and observe the error measured."
   ]
  },
  {
   "cell_type": "code",
   "execution_count": null,
   "metadata": {},
   "outputs": [],
   "source": [
    "from sklearn.linear_model import LinearRegression\n",
    "from sklearn.model_selection import train_test_split\n",
    "\n",
    "\n",
    "# Let's try out to set up a baseline model with just two explanatory variables\n",
    "X1 = sales_data.loc[:, ['Item_Weight', 'Item_MRP', 'Item_Visibility']]\n",
    "\n",
    "x_train1, x_test1, y_train1, y_test1 = train_test_split(X1, sales_data.Item_Outlet_Sales.values, test_size=0.3, random_state =43)\n",
    "\n",
    "# Code starts here\n",
    "\n",
    "# Intiating baseline model\n",
    "\n",
    "\n",
    "\n",
    "# Predicting on the sample subset \n",
    "\n",
    "\n",
    "# Calculating error\n",
    "\n",
    "\n",
    "\n",
    "# R-Square\n",
    "\n",
    "\n"
   ]
  },
  {
   "cell_type": "markdown",
   "metadata": {},
   "source": [
    "### What will happen to R-Square score if you increase the no. of predictors in your model.Use all features for prediction and implement a linear regression model"
   ]
  },
  {
   "cell_type": "code",
   "execution_count": null,
   "metadata": {},
   "outputs": [],
   "source": [
    "# Let's try out to set up a baseline model with just two explanatory variables\n",
    "X2 = sales_data.drop(columns=['Item_Outlet_Sales','Item_Identifier'],axis = 1)\n",
    "\n",
    "x_train2, x_test2, y_train2, y_test2 = train_test_split(X2, sales_data.Item_Outlet_Sales, test_size =0.3, random_state =100)\n",
    "\n",
    "# Code starts here\n",
    "\n",
    "# Intiating baseline model\n",
    "\n",
    "\n",
    "\n",
    "# Predicting on the sample subset \n",
    "\n",
    "\n",
    "# Calculating error\n",
    "\n",
    "\n",
    "\n",
    "# R-Square\n",
    "\n"
   ]
  },
  {
   "cell_type": "markdown",
   "metadata": {},
   "source": [
    "We saw that addition of `Item_Visibility` variable has caused the mse to further reduced value. There is an increase in the R-square value, does it mean that the addition of `Item_Visibility` is useful for out model.\n",
    "\n",
    "The only drawback of R2 is that if new predictors (X) are added to our model, R2 only increases or remains constant but it never decreases. We can not judge that by increasing complexity of our model, are we making it more accurate?\n",
    "\n",
    "That is why, we use “Adjusted R-Square”.\n",
    "\n"
   ]
  },
  {
   "cell_type": "markdown",
   "metadata": {},
   "source": [
    "### What will happen if we remove some features from the previous model. Also, how would associate the change in model accuracy with addition or negation of a feature in the model ? "
   ]
  },
  {
   "cell_type": "code",
   "execution_count": null,
   "metadata": {},
   "outputs": [],
   "source": [
    "\n",
    "X3 = sales_data.drop(columns=['Item_Outlet_Sales','Item_Identifier', 'Item_Visibility', 'Outlet_Years'],axis=1)\n",
    "x_train3, x_test3, y_train3, y_test3 = train_test_split(X3, sales_data.Item_Outlet_Sales, test_size =0.3, random_state =100)\n",
    "\n",
    "# Code starts here\n",
    "\n",
    "# Intiating baseline model\n",
    "\n",
    "\n",
    "\n",
    "# Predicting on the sample subset \n",
    "\n",
    "\n",
    "# Calculating error\n",
    "\n",
    "\n",
    "\n",
    "# R-Square\n",
    "\n"
   ]
  },
  {
   "cell_type": "code",
   "execution_count": null,
   "metadata": {},
   "outputs": [],
   "source": [
    "# Comparing r square and across three models\n",
    "\n",
    "# Code starts here\n",
    "\n",
    "\n"
   ]
  },
  {
   "cell_type": "markdown",
   "metadata": {},
   "source": [
    "### Apply Regularization techniques on the dataset that performed best."
   ]
  },
  {
   "cell_type": "code",
   "execution_count": null,
   "metadata": {},
   "outputs": [],
   "source": [
    "# Ridge\n",
    "\n",
    "# Code Starts here\n",
    "\n",
    "\n",
    "\n",
    "\n",
    "# fit the model on one set of data\n",
    "\n",
    "\n",
    "# evaluate the model on the second set of data\n",
    "\n"
   ]
  },
  {
   "cell_type": "code",
   "execution_count": null,
   "metadata": {},
   "outputs": [],
   "source": [
    "# Ridge\n",
    "\n",
    "# Code Starts here\n",
    "\n",
    "\n",
    "\n",
    "# fit the model on one set of data\n",
    "\n",
    "\n",
    "# evaluate the model on the second set of data\n",
    "\n",
    "\n"
   ]
  },
  {
   "cell_type": "code",
   "execution_count": null,
   "metadata": {},
   "outputs": [],
   "source": [
    "# Elastic Net\n",
    "\n",
    "# Code Starts here\n",
    "\n",
    "\n",
    "\n",
    "# fit the model on one set of data\n",
    "\n",
    "\n",
    "# evaluate the model on the second set of data\n",
    "\n"
   ]
  },
  {
   "cell_type": "markdown",
   "metadata": {
    "slideshow": {
     "slide_type": "slide"
    }
   },
   "source": [
    "# Further Reading\n",
    "***\n",
    "* [Ridge and Lasso in Python](https://www.analyticsvidhya.com/blog/2016/01/complete-tutorial-ridge-lasso-regression-python/)\n",
    "* [Overview of Bias-Variance Trade-Off](http://www.kdnuggets.com/2016/08/bias-variance-tradeoff-overview.html)"
   ]
  },
  {
   "cell_type": "markdown",
   "metadata": {
    "collapsed": true,
    "slideshow": {
     "slide_type": "slide"
    }
   },
   "source": [
    "# Thank You\n",
    "***\n",
    "### Next Session\n",
    "***\n",
    "- Scaling, Centering, Skewness \n",
    "- Basic data cleaning and Preprocessing\n",
    "- Feature extraction and Feature engineering"
   ]
  },
  {
   "cell_type": "code",
   "execution_count": null,
   "metadata": {},
   "outputs": [],
   "source": []
  }
 ],
 "metadata": {
  "celltoolbar": "Slideshow",
  "kernelspec": {
   "display_name": "Python 3",
   "language": "python",
   "name": "python3"
  },
  "language_info": {
   "codemirror_mode": {
    "name": "ipython",
    "version": 3
   },
   "file_extension": ".py",
   "mimetype": "text/x-python",
   "name": "python",
   "nbconvert_exporter": "python",
   "pygments_lexer": "ipython3",
   "version": "3.7.6"
  },
  "widgets": {
   "state": {},
   "version": "1.1.2"
  }
 },
 "nbformat": 4,
 "nbformat_minor": 2
}
