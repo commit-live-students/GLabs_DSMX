{
 "cells": [
  {
   "cell_type": "markdown",
   "metadata": {
    "slideshow": {
     "slide_type": "slide"
    }
   },
   "source": [
    "<h1 align=\"center\">Gradient Boosting and XGBoost</h1>"
   ]
  },
  {
   "cell_type": "markdown",
   "metadata": {
    "slideshow": {
     "slide_type": "slide"
    }
   },
   "source": [
    "## Program so far\n",
    "***\n",
    "- Linear and Logistic Regression\n",
    "- Decision Trees\n",
    "- Ensembling "
   ]
  },
  {
   "cell_type": "markdown",
   "metadata": {
    "slideshow": {
     "slide_type": "slide"
    }
   },
   "source": [
    "## John does it again\n",
    "***\n",
    "John was desperately looking for a pair of clothes when Lucius arrived to pick him up. Looking at the pile dirty laundry, Lucius couldn't stop himself but comment: \"John, why do you keep on making the same mistakes? It takes exactly 20 minutes to get your laundry done.\""
   ]
  },
  {
   "cell_type": "markdown",
   "metadata": {
    "slideshow": {
     "slide_type": "slide"
    }
   },
   "source": [
    "## John's thoughts\n",
    "***\n",
    "John started thinking aloud, wouldn't it be great if we could literally learn from our mistakes, and try to avoid/minimize it in the future?\n",
    "\n",
    "This thought rattled his mind, when he had forgotten the laundry for umpteenth time as he was busy building models.\n",
    "He wondered, whether this idea could be applied, to his just build model?\n",
    "That would surely be interesting, and his model would surely outperform him.\n",
    "\n",
    "To Lucius's frustration, John went berserk, and searched over the entire internet for such a thing, and when he found it, he was so happy.\n",
    "**BOOSTING**, he muttered."
   ]
  },
  {
   "cell_type": "markdown",
   "metadata": {
    "slideshow": {
     "slide_type": "slide"
    }
   },
   "source": [
    "<img src=\"../images/Concept-Alert.png\" alt=\"Concept-Alert\" style=\"width: 100px;float:left; margin-right:15px\"/>\n",
    "<br />\n",
    "## Boosting (1/3)\n",
    "***\n",
    "The idea of boosting came out of the idea of **whether a weak learner can be sequentially modified to become better.**\n",
    "\n",
    "\n",
    "Boosting (aka hypothesis boosting) refers to any Ensemble method that can combine several weak learners into a strong learner.\n",
    "\n",
    "The general idea of most boosting methods is to train predictors sequentially, each trying to correct its predecessor. "
   ]
  },
  {
   "cell_type": "markdown",
   "metadata": {
    "slideshow": {
     "slide_type": "subslide"
    }
   },
   "source": [
    "<img src=\"../images/Concept-Alert.png\" alt=\"Concept-Alert\" style=\"width: 100px;float:left; margin-right:15px\"/>\n",
    "<br />\n",
    "## Boosting (2/3)\n",
    "***\n",
    "Hypothesis boosting works by filtering observations, leaving those observations that the previous weak learners can handle and focusing on developing new weak learns to handle the remaining difficult observations.\n",
    "\n",
    "\n",
    "Boosting improves by reducing bias of every subsequent weak learner."
   ]
  },
  {
   "cell_type": "markdown",
   "metadata": {
    "slideshow": {
     "slide_type": "subslide"
    }
   },
   "source": [
    "<img src=\"../images/Concept-Alert.png\" alt=\"Concept-Alert\" style=\"width: 100px;float:left; margin-right:15px\"/>\n",
    "<br />\n",
    "## Boosting (3/3)\n",
    "***\n",
    "_The idea is to use the weak learning method several times to get a succession of hypotheses, each one refocused on the examples that the previous ones found difficult and misclassified._ "
   ]
  },
  {
   "cell_type": "markdown",
   "metadata": {
    "slideshow": {
     "slide_type": "subslide"
    }
   },
   "source": [
    "## Boosting Intuition\n",
    "***\n",
    "This far into the intro and the mathematician in Lucius started taking over. We will go partying some other time, thought Lucius, as this is a matter of utmost importance. No wonder both John and Lucius were both single!\n",
    "\n",
    "Lucius started reading and explaining: Let's say we have been given a binary classification problem as shown in the boxes "
   ]
  },
  {
   "cell_type": "markdown",
   "metadata": {
    "slideshow": {
     "slide_type": "subslide"
    }
   },
   "source": [
    "<img src=\"../images/Concept-Alert.png\" alt=\"Concept-Alert\" style=\"width: 100px;float:left; margin-right:15px\"/>\n",
    "<br />\n",
    "## How Boosting Works\n",
    "***\n",
    "![](../images/image21.png)\n",
    "\n",
    "\n",
    "**Step 1.1:**\n",
    "We start with box 1, we employ a weak learner which creates a boundary D1, which predicts blue region as positive and red region as negative."
   ]
  },
  {
   "cell_type": "markdown",
   "metadata": {
    "slideshow": {
     "slide_type": "subslide"
    }
   },
   "source": [
    "<img src=\"../images/Concept-Alert.png\" alt=\"Concept-Alert\" style=\"width: 100px;float:left; margin-right:15px\"/>\n",
    "<br />\n",
    "## How Boosting Works\n",
    "***\n",
    "![](../images/image21.png)\n",
    "\n",
    "\n",
    "**Step 1.2:**\n",
    "Hence, we have identified 2 observations on the left hand side correctly positive, but we marked three positive observations on the right side incorrectly.\n",
    "\n",
    "\n"
   ]
  },
  {
   "cell_type": "markdown",
   "metadata": {
    "slideshow": {
     "slide_type": "subslide"
    }
   },
   "source": [
    "<img src=\"../images/Concept-Alert.png\" alt=\"Concept-Alert\" style=\"width: 100px;float:left; margin-right:15px\"/>\n",
    "<br />\n",
    "## How Boosting Works\n",
    "***\n",
    "![](../images/image21.png)\n",
    "\n",
    "\n",
    "**Step 2.1:**\n",
    "We come to box 2.\n",
    "We employ another weak learner. But this time we pay more attention to classify the three positive observations (enlarged +) that we predicted incorrectly.\n"
   ]
  },
  {
   "cell_type": "markdown",
   "metadata": {
    "slideshow": {
     "slide_type": "subslide"
    }
   },
   "source": [
    "<img src=\"../images/Concept-Alert.png\" alt=\"Concept-Alert\" style=\"width: 100px;float:left; margin-right:15px\"/>\n",
    "<br />\n",
    "## How Boosting Works\n",
    "***\n",
    "![](../images/image21.png)\n",
    "\n",
    "\n",
    "**Step 2.2:**\n",
    "The learner comes up with the boundary D2, which correctly identifies previously wrongly predicted observations.\n",
    "However, this time it wrongly predicts 3 negative observations as positives (- in blues region)\n",
    "\n",
    "\n"
   ]
  },
  {
   "cell_type": "markdown",
   "metadata": {
    "slideshow": {
     "slide_type": "subslide"
    }
   },
   "source": [
    "<img src=\"../images/Concept-Alert.png\" alt=\"Concept-Alert\" style=\"width: 100px;float:left; margin-right:15px\"/>\n",
    "<br />\n",
    "## How Boosting Works\n",
    "***\n",
    "![](../images/image21.png)\n",
    "\n",
    "**Step 3.1:**\n",
    "We move on to box 3.\n",
    "This time, the objective is to identify the 3 negative observations (enlarged --) correctly.\n",
    "\n",
    "\n"
   ]
  },
  {
   "cell_type": "markdown",
   "metadata": {
    "slideshow": {
     "slide_type": "subslide"
    }
   },
   "source": [
    "<img src=\"../images/Concept-Alert.png\" alt=\"Concept-Alert\" style=\"width: 100px;float:left; margin-right:15px\"/>\n",
    "<br />\n",
    "## How Boosting Works\n",
    "***\n",
    "![](../images/image21.png)\n",
    "\n",
    "**Step 3.2:**\n",
    "The weak learner comes up with boundary D3, which identifies the three \"-\" correctly as negatives.\n",
    "\n",
    "\n"
   ]
  },
  {
   "cell_type": "markdown",
   "metadata": {
    "slideshow": {
     "slide_type": "subslide"
    }
   },
   "source": [
    "<img src=\"../images/Concept-Alert.png\" alt=\"Concept-Alert\" style=\"width: 100px;float:left; margin-right:15px\"/>\n",
    "<br />\n",
    "## How Boosting Works\n",
    "***\n",
    "![](../images/image21.png)\n",
    "\n",
    "**Step 4:**\n",
    "We combine all the boundaries to come with the boosting model which is a strong learner, made up of weak rules."
   ]
  },
  {
   "cell_type": "markdown",
   "metadata": {
    "slideshow": {
     "slide_type": "subslide"
    }
   },
   "source": [
    "## Types of Boosting\n",
    "***\n",
    "\"But how to perform boosting?\" wondered Lucius, and turned to the best teacher in the world: The internet.\n",
    "\n",
    "There are many types of Boosting, said the internet, however the most popular ones are :\n",
    "\n",
    "* AdaBoost (**Ada**ptive **Boost**ing)\n",
    "* Gradient Boosting\n",
    "\n",
    "Let me tell you more about these"
   ]
  },
  {
   "cell_type": "markdown",
   "metadata": {
    "slideshow": {
     "slide_type": "subslide"
    }
   },
   "source": [
    "## AdaBoost\n",
    "***\n",
    "AdaBoost is one of the first boosting algorithms to be adapted in solving practices. Adaboost helps you **combine multiple “weak classifiers” into a single “strong classifier”**. Here are some (fun) facts about Adaboost!\n",
    "\n",
    "* The weak learners in AdaBoost are decision trees with a single split, called decision stumps.\n",
    "* AdaBoost works by putting more weight on difficult to classify instances and less on those already handled well.\n",
    "* AdaBoost algorithms can be used for both classification and regression problem."
   ]
  },
  {
   "cell_type": "markdown",
   "metadata": {
    "slideshow": {
     "slide_type": "subslide"
    }
   },
   "source": [
    "<img src=\"../images/Maths-Insight.png\" alt=\"Maths-Insight\" style=\"width: 100px;float:left; margin-right:15px\"/>\n",
    "<br />\n",
    "## Math behind AdaBoost (Optional)\n",
    "***\n",
    "Lucius ran and brought some papers and a pen to quickly go through the math behind Adaboost, so that he can explain it to John. It went something like this. "
   ]
  },
  {
   "attachments": {
    "image20.png": {
     "image/png": "[encoded data removed]"
    }
   },
   "cell_type": "markdown",
   "metadata": {
    "slideshow": {
     "slide_type": "subslide"
    }
   },
   "source": [
    "<img src=\"../images/Maths-Insight.png\" alt=\"Maths-Insight\" style=\"width: 100px;float:left; margin-right:15px\"/>\n",
    "<br />\n",
    "## Math behind AdaBoost (Optional)\n",
    "***\n",
    "Suppose we are given a training set D = {(x1, y1),(x2, y2)...(xn, yn)}, where xi ∈ RD and y ∈ {+1, −1}. \n",
    "Our weak classifiers are functions h : x → y. The strong classifier has the following form:\n",
    "![image20.png](attachment:image20.png)\n",
    "\n",
    "We want to figure out how to choose the T weak classifiers h<sub>k</sub>."
   ]
  },
  {
   "attachments": {
    "image27.png": {
     "image/png": "[encoded data removed]"
    }
   },
   "cell_type": "markdown",
   "metadata": {
    "slideshow": {
     "slide_type": "subslide"
    }
   },
   "source": [
    "<img src=\"../images/Maths-Insight.png\" alt=\"Maths-Insight\" style=\"width: 100px;float:left; margin-right:15px\"/>\n",
    "<br />\n",
    "## Math behind AdaBoost (Optional)\n",
    "***\n",
    "We want minimize the exponential loss.\n",
    "The exponential loss function is\n",
    "![image27.png](attachment:image27.png)\n",
    "\n",
    "\n",
    "We are using exponential loss function instead of 1/0 loss function, because it is differentiable.\n",
    "\n"
   ]
  },
  {
   "attachments": {
    "image26.png": {
     "image/png": "[encoded data removed]"
    }
   },
   "cell_type": "markdown",
   "metadata": {
    "slideshow": {
     "slide_type": "subslide"
    }
   },
   "source": [
    "<img src=\"../images/Maths-Insight.png\" alt=\"Maths-Insight\" style=\"width: 100px;float:left; margin-right:15px\"/>\n",
    "<br />\n",
    "## Math behind AdaBoost (Optional)\n",
    "***\n",
    "Suppose we have the first t weak classifiers, and now we are interested in choosing h<sub>t+1</sub> and the corresponding weight α<sub>t+1</sub>.\n",
    "We can pose the t + 1 iteration of AdaBoost as the following optimization:\n",
    " \n",
    "![image26.png](attachment:image26.png)"
   ]
  },
  {
   "attachments": {
    "image28.png": {
     "image/png": "[encoded data removed]"
    }
   },
   "cell_type": "markdown",
   "metadata": {
    "slideshow": {
     "slide_type": "subslide"
    }
   },
   "source": [
    "<img src=\"../images/Maths-Insight.png\" alt=\"Maths-Insight\" style=\"width: 100px;float:left; margin-right:15px\"/>\n",
    "<br />\n",
    "## Math behind AdaBoost (Optional)\n",
    "***\n",
    "Note that the factor e<sup>−yiHt(xi)</sup> does not depend on the arguments of the min operation \n",
    "So we can regard it as a constant, which we can think of as a weight for each point at iteration t which we will denote w<sub>t</sub>(i).\n",
    "\n",
    "Let’s continue to manipulate the algebra:\n",
    "\n",
    "![image28.png](attachment:image28.png)\n"
   ]
  },
  {
   "attachments": {
    "image22.png": {
     "image/png": "[encoded data removed]"
    },
    "image25.png": {
     "image/png": "[encoded data removed]"
    }
   },
   "cell_type": "markdown",
   "metadata": {
    "slideshow": {
     "slide_type": "subslide"
    }
   },
   "source": [
    "<img src=\"../images/Maths-Insight.png\" alt=\"Maths-Insight\" style=\"width: 100px;float:left; margin-right:15px\"/>\n",
    "<br />\n",
    "## Math behind AdaBoost (Optional)\n",
    "***\n",
    "We can see that h<sub>t+1</sub> =  arg min<sub>t</sub>![image25.png](attachment:image25.png) \n",
    "Let 𝜖t = ![image25.png](attachment:image25.png)\n",
    "We must solve the following equation :\n",
    "![image22.png](attachment:image22.png)"
   ]
  },
  {
   "attachments": {
    "image23.png": {
     "image/png": "[encoded data removed]"
    },
    "image35.png": {
     "image/png": "[encoded data removed]"
    }
   },
   "cell_type": "markdown",
   "metadata": {
    "slideshow": {
     "slide_type": "subslide"
    }
   },
   "source": [
    "<img src=\"../images/Maths-Insight.png\" alt=\"Maths-Insight\" style=\"width: 100px;float:left; margin-right:15px\"/>\n",
    "<br />\n",
    "## Math behind AdaBoost (Optional)\n",
    "***\n",
    "![image35.png](attachment:image35.png)\n",
    "\n",
    "With a bit more manipulation we can prove that :\n",
    "![image23.png](attachment:image23.png)"
   ]
  },
  {
   "cell_type": "markdown",
   "metadata": {
    "slideshow": {
     "slide_type": "subslide"
    }
   },
   "source": [
    "<img src=\"../images/Maths-Insight.png\" alt=\"Maths-Insight\" style=\"width: 100px;float:left; margin-right:15px\"/>\n",
    "<br />\n",
    "## Math behind AdaBoost (Optional)\n",
    "***\n",
    "* As you can see, this sequential learning technique has some similarities with Gradient Descent, \n",
    "* However,  instead of tweaking a single predictor’s parameters to minimize a cost function, AdaBoost adds predictors to the ensemble, gradually making it better.\n",
    "* Once all predictors are trained, the ensemble makes predictions very much like bagging or pasting, except that predictors have different weights depending on their overall accuracy on the weighted training set.\n"
   ]
  },
  {
   "cell_type": "markdown",
   "metadata": {
    "slideshow": {
     "slide_type": "subslide"
    }
   },
   "source": [
    "<img src=\"../images/Maths-Insight.png\" alt=\"Maths-Insight\" style=\"width: 100px;float:left; margin-right:15px\"/>\n",
    "<br />\n",
    "## AdaBoost Algorithm\n",
    "***\n",
    "![](../images/image35.png)"
   ]
  },
  {
   "cell_type": "markdown",
   "metadata": {
    "slideshow": {
     "slide_type": "subslide"
    }
   },
   "source": [
    "<img src=\"../images/Technical-Stuff.png\" alt=\"Technical-Stuff\" style=\"width: 100px;float:left; margin-right:15px\"/>\n",
    "<br />\n",
    "## Adaboost in `sklearn`\n",
    "***"
   ]
  },
  {
   "cell_type": "code",
   "execution_count": 1,
   "metadata": {
    "slideshow": {
     "slide_type": "subslide"
    }
   },
   "outputs": [
    {
     "data": {
      "text/plain": [
       "AdaBoostClassifier(algorithm='SAMME.R',\n",
       "          base_estimator=DecisionTreeClassifier(class_weight=None, criterion='gini', max_depth=1,\n",
       "            max_features=None, max_leaf_nodes=None,\n",
       "            min_impurity_decrease=0.0, min_impurity_split=None,\n",
       "            min_samples_leaf=1, min_samples_split=2,\n",
       "            min_weight_fraction_leaf=0.0, presort=False, random_state=None,\n",
       "            splitter='best'),\n",
       "          learning_rate=0.5, n_estimators=200, random_state=42)"
      ]
     },
     "execution_count": 1,
     "metadata": {},
     "output_type": "execute_result"
    }
   ],
   "source": [
    "from sklearn.model_selection import train_test_split\n",
    "from sklearn.datasets import make_moons\n",
    "from sklearn.ensemble import AdaBoostClassifier\n",
    "from sklearn.tree import DecisionTreeClassifier\n",
    "\n",
    "X, y = make_moons(n_samples=500, noise=0.30, random_state=42)\n",
    "X_train, X_test, y_train, y_test = train_test_split(X, y, random_state=42)\n",
    "\n",
    "ada_clf = AdaBoostClassifier(DecisionTreeClassifier(max_depth=1), \n",
    "                             n_estimators=200,\n",
    "                             algorithm=\"SAMME.R\", \n",
    "                             learning_rate=0.5, \n",
    "                             random_state=42)\n",
    "ada_clf.fit(X_train, y_train)"
   ]
  },
  {
   "cell_type": "markdown",
   "metadata": {
    "slideshow": {
     "slide_type": "subslide"
    }
   },
   "source": [
    "## Need for generalization\n",
    "***\n",
    "John was thrilled to learn the Adaboost algorithm, but something was not quite right. Adaboost can only be possible if use `exponential loss` function as the loss function. What if we wanted to use an arbitrary loss function? Let's say MSE or f1 score?\n",
    "\n",
    "This is where Gradient Boosting Machine comes in, said Lucius, after finishing his long read."
   ]
  },
  {
   "cell_type": "markdown",
   "metadata": {
    "slideshow": {
     "slide_type": "subslide"
    }
   },
   "source": [
    "## Generalizing Boosting: Gradient Boosting Introduction (1/2)\n",
    "***\n",
    "**GBM is a generalized version of AdaBoosting.**\n",
    "\n",
    "Just like AdaBoost, Gradient Boosting works by sequentially adding predictors to an ensemble, each one correcting its predecessor. "
   ]
  },
  {
   "cell_type": "markdown",
   "metadata": {
    "slideshow": {
     "slide_type": "subslide"
    }
   },
   "source": [
    "## Generalizing Boosting: Gradient Boosting Introduction (2/2)\n",
    "***\n",
    "However, instead of tweaking the instance weights at every iteration like AdaBoost does, **this method tries to fit the new predictor to the residual errors made by the previous predictor.**\n",
    "\n",
    "A benefit of the gradient boosting framework is that a new boosting algorithm **does not have to be derived for each loss function that may want to be used, instead, it is generic enough framework so that any differentiable loss function can be used.**"
   ]
  },
  {
   "cell_type": "markdown",
   "metadata": {
    "slideshow": {
     "slide_type": "subslide"
    }
   },
   "source": [
    "<img src=\"../images/Technical-Stuff.png\" alt=\"Technical-Stuff\" style=\"width: 100px;float:left; margin-right:15px\"/>\n",
    "<br />\n",
    "## Gradient Boosting Algorithm Intuition\n",
    "***\n",
    "GBM uses Gradient Descent to find the shortcomings in the previous learner's predictions.\n",
    "\n",
    "\n",
    "Let's understand GBM using a toy regression data. \n",
    "If the loss function is MSE, then gradients are the residuals.\n",
    "In such a case, the GBM algorithm can be given by following steps.\n",
    "\n",
    "* Fit a model to the data,  F1(x) = y\n",
    "* Fit a model to the residuals,  h1(x) = y−F1(x)\n",
    "* Create a new model,  F2(x) = F1(x) + h1(x)\n",
    "\n",
    "Let's understand this using an example."
   ]
  },
  {
   "cell_type": "markdown",
   "metadata": {
    "slideshow": {
     "slide_type": "subslide"
    }
   },
   "source": [
    "## Gradient Boosting Algorithm Intuition\n",
    "***\n",
    "We start by making a dataset which roughly follows the relationship $y = 3x^2$"
   ]
  },
  {
   "cell_type": "code",
   "execution_count": 2,
   "metadata": {
    "collapsed": true,
    "slideshow": {
     "slide_type": "subslide"
    }
   },
   "outputs": [],
   "source": [
    "import numpy as np\n",
    "import matplotlib.pyplot as plt\n",
    "\n",
    "np.random.seed(42)\n",
    "X = np.random.rand(100, 1) - 0.5\n",
    "y = 3*X[:, 0]**2 + 0.05 * np.random.randn(100)"
   ]
  },
  {
   "cell_type": "markdown",
   "metadata": {
    "slideshow": {
     "slide_type": "subslide"
    }
   },
   "source": [
    "## Gradient Boosting Algorithm Intuition\n",
    "***\n",
    "Now let's write a function to plot the models that we are going to train on the original data as well as the residuals. If this seems confusing, don't worry, you will get a better idea once we start fitting the models."
   ]
  },
  {
   "cell_type": "code",
   "execution_count": 3,
   "metadata": {
    "collapsed": true,
    "slideshow": {
     "slide_type": "subslide"
    }
   },
   "outputs": [],
   "source": [
    "def plot_predictions(regressors, X, y, axes, label=None, style=\"r-\", data_style=\"b.\", data_label=None):\n",
    "    x1 = np.linspace(axes[0], axes[1], 500)\n",
    "    y_pred = sum(regressor.predict(x1.reshape(-1, 1)) for regressor in regressors)\n",
    "    plt.plot(X[:, 0], y, data_style, label=data_label)\n",
    "    plt.plot(x1, y_pred, style, linewidth=2, label=label)\n",
    "    if label or data_label:\n",
    "        plt.legend(loc=\"upper center\", fontsize=16)\n",
    "    plt.axis(axes)"
   ]
  },
  {
   "cell_type": "markdown",
   "metadata": {
    "slideshow": {
     "slide_type": "subslide"
    }
   },
   "source": [
    "## Gradient Boosting Algorithm Intuition\n",
    "***\n",
    "Now let's fit the first decision tree as usual on the data, find out the residuals for each point and save them in a variable called y2."
   ]
  },
  {
   "cell_type": "code",
   "execution_count": 4,
   "metadata": {
    "collapsed": true,
    "slideshow": {
     "slide_type": "subslide"
    }
   },
   "outputs": [],
   "source": [
    "from sklearn.tree import DecisionTreeRegressor\n",
    "\n",
    "tree_reg1 = DecisionTreeRegressor(max_depth=2, random_state=42)\n",
    "tree_reg1.fit(X, y)\n",
    "y2 = y - tree_reg1.predict(X)"
   ]
  },
  {
   "cell_type": "markdown",
   "metadata": {
    "slideshow": {
     "slide_type": "subslide"
    }
   },
   "source": [
    "## Gradient Boosting Algorithm Intuition\n",
    "***\n",
    "Plotting the decision boundary looks something like this."
   ]
  },
  {
   "cell_type": "code",
   "execution_count": 5,
   "metadata": {
    "slideshow": {
     "slide_type": "subslide"
    }
   },
   "outputs": [
    {
     "data": {
      "image/png": "[encoded data removed]",
      "text/plain": [
       "<matplotlib.figure.Figure at 0x7f706a740e80>"
      ]
     },
     "metadata": {},
     "output_type": "display_data"
    }
   ],
   "source": [
    "plt.figure(figsize=(6,4))\n",
    "plot_predictions([tree_reg1], X, y, axes=[-0.5, 0.5, -0.1, 0.8], label=\"$h(x_1) = h_1(x_1)$\", data_label=\"Training set\")\n",
    "plt.ylabel(\"$y$\", fontsize=16, rotation=0)\n",
    "plt.title(\"Ensemble predictions\", fontsize=16)\n",
    "\n",
    "plt.show()"
   ]
  },
  {
   "cell_type": "markdown",
   "metadata": {
    "slideshow": {
     "slide_type": "subslide"
    }
   },
   "source": [
    "## Gradient Boosting Algorithm Intuition\n",
    "***\n",
    "Now, as mentioned before, GBM fits models sequentially to correct the errors by the previously fit models. So, let's fit the next model on the residuals (y2) and X. Also, we will calculate the errors made by this model, and save it in y3."
   ]
  },
  {
   "cell_type": "code",
   "execution_count": 6,
   "metadata": {
    "collapsed": true,
    "slideshow": {
     "slide_type": "subslide"
    }
   },
   "outputs": [],
   "source": [
    "tree_reg2 = DecisionTreeRegressor(max_depth=2, random_state=42)\n",
    "tree_reg2.fit(X, y2)\n",
    "y3 = y2 - tree_reg2.predict(X)"
   ]
  },
  {
   "cell_type": "markdown",
   "metadata": {
    "slideshow": {
     "slide_type": "subslide"
    }
   },
   "source": [
    "## Gradient Boosting Algorithm Intuition\n",
    "***\n",
    "Now, the graph on the left hand side shows how the second model fits the model on the residuals.\n",
    "\n",
    "The graph on the right hand side shows the collective predictions made by 1st and 2nd model on the original data. As can we can notice, the fit is better than just the first model."
   ]
  },
  {
   "cell_type": "code",
   "execution_count": 7,
   "metadata": {
    "slideshow": {
     "slide_type": "subslide"
    }
   },
   "outputs": [
    {
     "data": {
      "image/png": "[encoded data removed]",
      "text/plain": [
       "<matplotlib.figure.Figure at 0x7f70673be518>"
      ]
     },
     "metadata": {},
     "output_type": "display_data"
    }
   ],
   "source": [
    "plt.figure(figsize=(12,4))\n",
    "\n",
    "plt.subplot(121)\n",
    "plot_predictions([tree_reg2], X, y2, axes=[-0.5, 0.5, -0.5, 0.5], label=\"$h_2(x_1)$\", style=\"g-\", data_style=\"k+\", data_label=\"Residuals\")\n",
    "plt.ylabel(\"$y - h_1(x_1)$\", fontsize=16)\n",
    "\n",
    "plt.subplot(122)\n",
    "plot_predictions([tree_reg1, tree_reg2], X, y, axes=[-0.5, 0.5, -0.1, 0.8], label=\"$h(x_1) = h_1(x_1) + h_2(x_1)$\")\n",
    "plt.ylabel(\"$y$\", fontsize=16, rotation=0)\n",
    "\n",
    "plt.show()"
   ]
  },
  {
   "cell_type": "markdown",
   "metadata": {
    "slideshow": {
     "slide_type": "subslide"
    }
   },
   "source": [
    "## Gradient Boosting Algorithm Intuition\n",
    "***\n",
    "Now, let's repeat the same process for y3. We will be fitting just 3 sequential models, so we will not calculate the errors by the third model."
   ]
  },
  {
   "cell_type": "code",
   "execution_count": 8,
   "metadata": {
    "slideshow": {
     "slide_type": "subslide"
    }
   },
   "outputs": [
    {
     "data": {
      "text/plain": [
       "DecisionTreeRegressor(criterion='mse', max_depth=2, max_features=None,\n",
       "           max_leaf_nodes=None, min_impurity_decrease=0.0,\n",
       "           min_impurity_split=None, min_samples_leaf=1,\n",
       "           min_samples_split=2, min_weight_fraction_leaf=0.0,\n",
       "           presort=False, random_state=42, splitter='best')"
      ]
     },
     "execution_count": 8,
     "metadata": {},
     "output_type": "execute_result"
    }
   ],
   "source": [
    "tree_reg3 = DecisionTreeRegressor(max_depth=2, random_state=42)\n",
    "tree_reg3.fit(X, y3)"
   ]
  },
  {
   "cell_type": "markdown",
   "metadata": {
    "slideshow": {
     "slide_type": "subslide"
    }
   },
   "source": [
    "## Gradient Boosting Algorithm Intuition\n",
    "***\n",
    "Predicting a token value."
   ]
  },
  {
   "cell_type": "code",
   "execution_count": 9,
   "metadata": {
    "slideshow": {
     "slide_type": "subslide"
    }
   },
   "outputs": [
    {
     "data": {
      "text/plain": [
       "array([ 0.75026781])"
      ]
     },
     "execution_count": 9,
     "metadata": {},
     "output_type": "execute_result"
    }
   ],
   "source": [
    "X_new = np.array([[0.8]])\n",
    "y_pred = sum(tree.predict(X_new) for tree in (tree_reg1, tree_reg2, tree_reg3))\n",
    "y_pred"
   ]
  },
  {
   "cell_type": "markdown",
   "metadata": {
    "slideshow": {
     "slide_type": "subslide"
    }
   },
   "source": [
    "## Gradient Boosting Algorithm Intuition\n",
    "***\n",
    "Finally, the left hand side graph shows how the third model fits the errors from the second model. Also, notice how the errors are gradually converging to 0 with each iteration.\n",
    "\n",
    "The graph on the right hand side shows the collective predictions made by 1st, 2nd and 3rd model on the original data. As can we can notice, the fit is better than the previous iteration."
   ]
  },
  {
   "cell_type": "code",
   "execution_count": 10,
   "metadata": {
    "slideshow": {
     "slide_type": "subslide"
    }
   },
   "outputs": [
    {
     "data": {
      "image/png": "[encoded data removed]",
      "text/plain": [
       "<matplotlib.figure.Figure at 0x7f706727c0b8>"
      ]
     },
     "metadata": {},
     "output_type": "display_data"
    }
   ],
   "source": [
    "plt.figure(figsize=(12,4))\n",
    "\n",
    "plt.subplot(121)\n",
    "plot_predictions([tree_reg3], X, y3, axes=[-0.5, 0.5, -0.5, 0.5], label=\"$h_3(x_1)$\", style=\"g-\", data_style=\"k+\")\n",
    "plt.ylabel(\"$y - h_1(x_1) - h_2(x_1)$\", fontsize=16)\n",
    "plt.xlabel(\"$x_1$\", fontsize=16)\n",
    "\n",
    "plt.subplot(122)\n",
    "plot_predictions([tree_reg1, tree_reg2, tree_reg3], X, y, axes=[-0.5, 0.5, -0.1, 0.8], label=\"$h(x_1) = h_1(x_1) + h_2(x_1) + h_3(x_1)$\")\n",
    "plt.xlabel(\"$x_1$\", fontsize=16)\n",
    "plt.ylabel(\"$y$\", fontsize=16, rotation=0)\n",
    "\n",
    "plt.show()"
   ]
  },
  {
   "cell_type": "markdown",
   "metadata": {
    "slideshow": {
     "slide_type": "subslide"
    }
   },
   "source": [
    "## GBM in `sklearn`\n",
    "***\n",
    "Here is a sklearn implementation of GBM with n_estimators = 3"
   ]
  },
  {
   "cell_type": "code",
   "execution_count": 11,
   "metadata": {
    "slideshow": {
     "slide_type": "subslide"
    }
   },
   "outputs": [
    {
     "data": {
      "text/plain": [
       "GradientBoostingRegressor(alpha=0.9, criterion='friedman_mse', init=None,\n",
       "             learning_rate=1.0, loss='ls', max_depth=2, max_features=None,\n",
       "             max_leaf_nodes=None, min_impurity_decrease=0.0,\n",
       "             min_impurity_split=None, min_samples_leaf=1,\n",
       "             min_samples_split=2, min_weight_fraction_leaf=0.0,\n",
       "             n_estimators=3, presort='auto', random_state=42,\n",
       "             subsample=1.0, verbose=0, warm_start=False)"
      ]
     },
     "execution_count": 11,
     "metadata": {},
     "output_type": "execute_result"
    }
   ],
   "source": [
    "from sklearn.ensemble import GradientBoostingRegressor\n",
    "\n",
    "gbrt = GradientBoostingRegressor(max_depth=2, n_estimators=3, learning_rate=1.0, random_state=42)\n",
    "gbrt.fit(X, y)"
   ]
  },
  {
   "cell_type": "markdown",
   "metadata": {
    "slideshow": {
     "slide_type": "subslide"
    }
   },
   "source": [
    "## GBM in `sklearn`\n",
    "***\n",
    "Here is a sklearn implementation of GBM with n_estimators = 200"
   ]
  },
  {
   "cell_type": "code",
   "execution_count": 12,
   "metadata": {
    "slideshow": {
     "slide_type": "subslide"
    }
   },
   "outputs": [
    {
     "data": {
      "text/plain": [
       "GradientBoostingRegressor(alpha=0.9, criterion='friedman_mse', init=None,\n",
       "             learning_rate=0.1, loss='ls', max_depth=2, max_features=None,\n",
       "             max_leaf_nodes=None, min_impurity_decrease=0.0,\n",
       "             min_impurity_split=None, min_samples_leaf=1,\n",
       "             min_samples_split=2, min_weight_fraction_leaf=0.0,\n",
       "             n_estimators=200, presort='auto', random_state=42,\n",
       "             subsample=1.0, verbose=0, warm_start=False)"
      ]
     },
     "execution_count": 12,
     "metadata": {},
     "output_type": "execute_result"
    }
   ],
   "source": [
    "gbrt_slow = GradientBoostingRegressor(max_depth=2, n_estimators=200, learning_rate=0.1, random_state=42)\n",
    "gbrt_slow.fit(X, y)"
   ]
  },
  {
   "cell_type": "markdown",
   "metadata": {
    "slideshow": {
     "slide_type": "subslide"
    }
   },
   "source": [
    "## GBM in `sklearn`\n",
    "***\n",
    "Now let's see how both models vary in terms of decision boundaries."
   ]
  },
  {
   "cell_type": "code",
   "execution_count": 13,
   "metadata": {
    "slideshow": {
     "slide_type": "subslide"
    }
   },
   "outputs": [
    {
     "data": {
      "image/png": "[encoded data removed]",
      "text/plain": [
       "<matplotlib.figure.Figure at 0x7f706736ee80>"
      ]
     },
     "metadata": {},
     "output_type": "display_data"
    }
   ],
   "source": [
    "plt.figure(figsize=(11,4))\n",
    "\n",
    "plt.subplot(121)\n",
    "plot_predictions([gbrt], X, y, axes=[-0.5, 0.5, -0.1, 0.8], label=\"Ensemble predictions\")\n",
    "plt.title(\"learning_rate={}, n_estimators={}\".format(gbrt.learning_rate, gbrt.n_estimators), fontsize=14)\n",
    "\n",
    "plt.subplot(122)\n",
    "plot_predictions([gbrt_slow], X, y, axes=[-0.5, 0.5, -0.1, 0.8])\n",
    "plt.title(\"learning_rate={}, n_estimators={}\".format(gbrt_slow.learning_rate, gbrt_slow.n_estimators), fontsize=14)\n",
    "\n",
    "plt.show()"
   ]
  },
  {
   "cell_type": "markdown",
   "metadata": {
    "slideshow": {
     "slide_type": "subslide"
    }
   },
   "source": [
    "## GBM in `sklearn`\n",
    "***\n",
    "As we can see, the model with n_estimators = 200 has much higher variance than the one with 3 estimators. This brings us to the **most crucial part of using GBM: Hyperparameter Tuning.**\n",
    "\n",
    "Let's try and understand a bit more about it."
   ]
  },
  {
   "cell_type": "markdown",
   "metadata": {
    "slideshow": {
     "slide_type": "subslide"
    }
   },
   "source": [
    "## Improving Gradient Boost\n",
    "***\n",
    "Gradient boosting is a greedy algorithm and can overfit a training dataset quickly.\n",
    "Regularization methods penalize various parts of the algorithm and generally improve the performance of the algorithm by reducing overfitting.\n",
    "\n",
    "The overall parameters can be divided into 3 categories:\n",
    "* **Algorithm-Specific Parameters:** These affect each individual tree in the model\n",
    "* **Training Parameters:** These affect the boosting operation in the model\n",
    "* **Miscellaneous Parameters:** Other parameters for overall functioning\n"
   ]
  },
  {
   "cell_type": "markdown",
   "metadata": {
    "slideshow": {
     "slide_type": "subslide"
    }
   },
   "source": [
    "## Algorithm specific parameters\n",
    "***\n",
    "#### min_samples_split :\n",
    "\n",
    "* minimum number of samples required at a node to be considered for further splitting.\n",
    "* Controls over-fitting.\n",
    "* Higher values prevent a model from learning relations which might be highly specific to the particular sample selected for a tree.\n",
    "* Too high values can lead to under-fitting hence, it should be tuned using CV.\n",
    "\n",
    "#### min_samples_leaf :\n",
    "* minimum samples required in a terminal node or leaf.\n",
    "* Controls over-fitting.\n",
    "* Generally lower values should be chosen for imbalanced class problems because the regions in which the minority class will be in majority will be very small.\n",
    "\n"
   ]
  },
  {
   "cell_type": "markdown",
   "metadata": {
    "slideshow": {
     "slide_type": "subslide"
    }
   },
   "source": [
    "## Algorithm specific parameters\n",
    "***\n",
    "#### max_depth :\n",
    "* The maximum depth of a tree.\n",
    "* Controls over-fitting as higher depth will allow model to learn relations very specific to a particular sample.\n",
    "* Should be tuned using CV.\n",
    "\n",
    "#### max_features :\n",
    "* The number of features to consider while searching for a best split.\n",
    "* These will be randomly selected.\n",
    "* As a thumb-rule, square root of the total number of features works great but we should check upto 30-40% of the total number of features.\n",
    "* Higher values may lead to over-fitting\n",
    "\n"
   ]
  },
  {
   "cell_type": "markdown",
   "metadata": {
    "slideshow": {
     "slide_type": "subslide"
    }
   },
   "source": [
    "## Training parameters\n",
    "***\n",
    "#### learning_rate :\n",
    "* Determines the impact of each tree on the final outcome. GBM works by starting with an initial estimate which is updated using the output of each tree.\n",
    "* The learning parameter controls the magnitude of this change in the estimates.\n",
    "* Lower values are generally preferred as they make the model robust to the specific characteristics of tree and thus allowing it to generalize well.\n",
    "* Lower values would require higher number of trees to model all the relations and will be computationally expensive.\n",
    "\n",
    "#### n_estimators :\n",
    "* The number of sequential trees to be modeled\n",
    "* More robust at higher number of trees but it can still overfit at a point.\n",
    "* Hence, this should be tuned using CV for a particular learning rate."
   ]
  },
  {
   "cell_type": "markdown",
   "metadata": {
    "collapsed": true,
    "slideshow": {
     "slide_type": "subslide"
    }
   },
   "source": [
    "## Training parameters\n",
    "***\n",
    "#### subsample\n",
    "* The fraction of observations to be selected for each tree. Selection is done by random sampling.\n",
    "* Values slightly less than 1 make the model robust by reducing the variance.\n",
    "* Typical values ~0.8 generally work fine but can be fine-tuned further.\n"
   ]
  },
  {
   "cell_type": "markdown",
   "metadata": {
    "slideshow": {
     "slide_type": "subslide"
    }
   },
   "source": [
    "## Misc Parameters\n",
    "***\n",
    "#### loss\n",
    "* It refers to the loss function to be minimized in each split."
   ]
  },
  {
   "cell_type": "markdown",
   "metadata": {
    "slideshow": {
     "slide_type": "subslide"
    }
   },
   "source": [
    "## Lucius is not done yet\n",
    "***\n",
    "Lucius had that proud smile when he finished explaining all those things. But something told John that he was not quite done yet. And right John was!\n",
    "\n",
    "There has been a recent implementation of GBM which has suddenly made it one the most popular ML algorithm out there, said Lucius, still glancing at an official documentation page of a website. The name read - **XGBoost**"
   ]
  },
  {
   "cell_type": "markdown",
   "metadata": {
    "slideshow": {
     "slide_type": "subslide"
    }
   },
   "source": [
    "<img src=\"../images/Concept-Alert.png\" alt=\"Concept-Alert\" style=\"width: 100px;float:left; margin-right:15px\"/>\n",
    "<br />\n",
    "# XGBoost\n",
    "***\n",
    "* XGBoost stands for **eXtreme Gradient Boosting**.\n",
    "* XGBoost has recently been dominating applied machine learning and Kaggle competitions for structured or tabular data.\n",
    "* XGBoost is an implementation of gradient boosted decision trees designed for speed and performance."
   ]
  },
  {
   "cell_type": "markdown",
   "metadata": {
    "slideshow": {
     "slide_type": "subslide"
    }
   },
   "source": [
    "<img src=\"../images/Concept-Alert.png\" alt=\"Concept-Alert\" style=\"width: 100px;float:left; margin-right:15px\"/>\n",
    "<br />\n",
    "## XGBoost\n",
    "***\n",
    "* Gradient boosting machines are generally very slow in implementation because of sequential model training. Hence, they are not very scalable\n",
    "* However, it all changed with XGboost Library\n",
    "* The library is laser focused on computational speed and model performance, as such there are few frills.\n"
   ]
  },
  {
   "cell_type": "markdown",
   "metadata": {
    "slideshow": {
     "slide_type": "subslide"
    }
   },
   "source": [
    "<img src=\"../images/Concept-Alert.png\" alt=\"Concept-Alert\" style=\"width: 100px;float:left; margin-right:15px\"/>\n",
    "<br />\n",
    "## XGboost System Features - Lucius can't believe his eyes\n",
    "***\n",
    "* The library provides a system for use in a range of computing environments, not least:\n",
    "* Parallelization of tree construction using all of your CPU cores during training.\n",
    "* Distributed Computing for training very large models using a cluster of machines.\n",
    "* Out-of-Core Computing for very large datasets that don’t fit into memory.\n",
    "* Cache Optimization of data structures and algorithm to make best use of hardware.\n"
   ]
  },
  {
   "cell_type": "markdown",
   "metadata": {
    "slideshow": {
     "slide_type": "subslide"
    }
   },
   "source": [
    "## XGBoost Execution Speed - Lucius can't believe his eyes\n",
    "***\n",
    "According [this](http://datascience.la/benchmarking-random-forest-implementations/) speed benchmarking study showed that XGBoost was almost always faster than the other benchmarked implementations from R, Python Spark and H2O.\n",
    "\n",
    "![](../images/image34.png)"
   ]
  },
  {
   "cell_type": "markdown",
   "metadata": {
    "slideshow": {
     "slide_type": "subslide"
    }
   },
   "source": [
    "<img src=\"../images/Technical-Stuff.png\" alt=\"Technical-Stuff\" style=\"width: 100px;float:left; margin-right:15px\"/>\n",
    "<br />\n",
    "## `XGBoost` Implementation - `sklearn` style\n",
    "***\n",
    "XGBoost has the same api as sklearn that we have learnt so far. Let's see how it works on John's problem."
   ]
  },
  {
   "cell_type": "code",
   "execution_count": 14,
   "metadata": {
    "slideshow": {
     "slide_type": "subslide"
    }
   },
   "outputs": [
    {
     "name": "stderr",
     "output_type": "stream",
     "text": [
      "/home/bijit23/miniconda3/envs/py35/lib/python3.5/site-packages/sklearn/cross_validation.py:41: DeprecationWarning: This module was deprecated in version 0.18 in favor of the model_selection module into which all the refactored classes and functions are moved. Also note that the interface of the new CV iterators are different from that of this module. This module will be removed in 0.20.\n",
      "  \"This module will be removed in 0.20.\", DeprecationWarning)\n"
     ]
    }
   ],
   "source": [
    "# First XGBoost model for Pima Indians dataset\n",
    "from numpy import loadtxt\n",
    "from xgboost import XGBClassifier\n",
    "from sklearn.cross_validation import train_test_split\n",
    "from sklearn.metrics import accuracy_score"
   ]
  },
  {
   "cell_type": "code",
   "execution_count": 15,
   "metadata": {
    "collapsed": true,
    "slideshow": {
     "slide_type": "subslide"
    }
   },
   "outputs": [],
   "source": [
    "# load data\n",
    "import pandas as pd\n",
    "dataset = pd.read_csv('../data/loan_prediction.csv', delimiter=\",\")\n",
    "# split data into X and y\n",
    "X = dataset.iloc[:,0:-1]\n",
    "Y = dataset.iloc[:,-1]"
   ]
  },
  {
   "cell_type": "code",
   "execution_count": 16,
   "metadata": {
    "collapsed": true,
    "slideshow": {
     "slide_type": "subslide"
    }
   },
   "outputs": [],
   "source": [
    "# split data into train and test sets\n",
    "seed = 7\n",
    "test_size = 0.33\n",
    "X_train, X_test, y_train, y_test = train_test_split(X, Y, test_size=test_size,\n",
    "    random_state=seed)"
   ]
  },
  {
   "cell_type": "code",
   "execution_count": 17,
   "metadata": {
    "slideshow": {
     "slide_type": "subslide"
    }
   },
   "outputs": [
    {
     "data": {
      "text/plain": [
       "XGBClassifier(base_score=0.5, colsample_bylevel=1, colsample_bytree=1,\n",
       "       gamma=0, learning_rate=0.1, max_delta_step=0, max_depth=3,\n",
       "       min_child_weight=1, missing=None, n_estimators=100, nthread=-1,\n",
       "       objective='binary:logistic', reg_alpha=0, reg_lambda=1,\n",
       "       scale_pos_weight=1, seed=0, silent=True, subsample=1)"
      ]
     },
     "execution_count": 17,
     "metadata": {},
     "output_type": "execute_result"
    }
   ],
   "source": [
    "# fit model no training data\n",
    "model = XGBClassifier()\n",
    "model.fit(X_train, y_train)"
   ]
  },
  {
   "cell_type": "code",
   "execution_count": 18,
   "metadata": {
    "collapsed": true,
    "slideshow": {
     "slide_type": "subslide"
    }
   },
   "outputs": [],
   "source": [
    "# make predictions for test data\n",
    "y_pred = model.predict(X_test)\n",
    "predictions = [round(value) for value in y_pred]"
   ]
  },
  {
   "cell_type": "code",
   "execution_count": 19,
   "metadata": {
    "slideshow": {
     "slide_type": "subslide"
    }
   },
   "outputs": [
    {
     "name": "stdout",
     "output_type": "stream",
     "text": [
      "Accuracy: 73.89%\n"
     ]
    }
   ],
   "source": [
    "# evaluate predictions\n",
    "accuracy = accuracy_score(y_test, predictions)\n",
    "print(\"Accuracy: %.2f%%\" % (accuracy * 100.0))"
   ]
  },
  {
   "cell_type": "markdown",
   "metadata": {
    "slideshow": {
     "slide_type": "subslide"
    }
   },
   "source": [
    "<img src=\"../images/Technical-Stuff.png\" alt=\"Technical-Stuff\" style=\"width: 100px;float:left; margin-right:15px\"/>\n",
    "<br />\n",
    "## Saving and Loading trained model\n",
    "***\n",
    "We can also save and retrieve xgboost (or any other) model in/from a pickle file with a single line of command. It is in general a good practice to save your trained models so that you don't have to start from scratch every time."
   ]
  },
  {
   "cell_type": "code",
   "execution_count": 20,
   "metadata": {
    "collapsed": true,
    "slideshow": {
     "slide_type": "subslide"
    }
   },
   "outputs": [],
   "source": [
    "import pickle\n",
    "# save model to file\n",
    "pickle.dump(model, open(\"loan.pickle.dat\", \"wb\"))"
   ]
  },
  {
   "cell_type": "code",
   "execution_count": 21,
   "metadata": {
    "collapsed": true,
    "slideshow": {
     "slide_type": "subslide"
    }
   },
   "outputs": [],
   "source": [
    "# load model from file\n",
    "loaded_model = pickle.load(open(\"loan.pickle.dat\", \"rb\"))\n",
    "# y_pred = loaded_model.predict(X_test)"
   ]
  },
  {
   "cell_type": "markdown",
   "metadata": {
    "slideshow": {
     "slide_type": "slide"
    }
   },
   "source": [
    "## Feature Importances\n",
    "***\n",
    "Just like any other tree based method, xgboost also gets you the feature importances. More importantly you can print and observe the feature importances from an internal api of xgboost. Here is an example."
   ]
  },
  {
   "cell_type": "code",
   "execution_count": 22,
   "metadata": {
    "slideshow": {
     "slide_type": "subslide"
    }
   },
   "outputs": [
    {
     "data": {
      "image/png": "[encoded data removed]",
      "text/plain": [
       "<matplotlib.figure.Figure at 0x7f70638ae5c0>"
      ]
     },
     "metadata": {},
     "output_type": "display_data"
    }
   ],
   "source": [
    "import matplotlib.pyplot as plt\n",
    "\n",
    "# plot feature importance using built-in function\n",
    "from xgboost import plot_importance\n",
    "plot_importance(model)\n",
    "plt.show()"
   ]
  },
  {
   "cell_type": "markdown",
   "metadata": {
    "slideshow": {
     "slide_type": "subslide"
    }
   },
   "source": [
    "## Early Stopping:\n",
    "***\n",
    "It was late in the night and Lucius, with red eyes, was looking at a website called [machine learning mastery](https://machinelearningmastery.com/avoid-overfitting-by-early-stopping-with-xgboost-in-python/). The website was talking about an interesting concept called 'early stopping'. The website read:\n",
    "\n",
    "> Early stopping is an approach to training complex machine learning models to avoid overfitting.\n",
    "\n",
    "> It works by monitoring the performance of the model that is being trained on a separate test dataset and stopping the training procedure once the performance on the test dataset has not improved after a fixed number of training iterations.\n",
    "\n",
    "> It avoids overfitting by attempting to automatically select the inflection point where performance on the test dataset starts to decrease while performance on the training dataset continues to improve as the model starts to overfit."
   ]
  },
  {
   "cell_type": "code",
   "execution_count": 23,
   "metadata": {
    "slideshow": {
     "slide_type": "subslide"
    }
   },
   "outputs": [
    {
     "name": "stdout",
     "output_type": "stream",
     "text": [
      "[0]\tvalidation_0-logloss:0.665716\n",
      "Will train until validation_0-logloss hasn't improved in 10 rounds.\n",
      "[1]\tvalidation_0-logloss:0.644009\n",
      "[2]\tvalidation_0-logloss:0.627409\n",
      "[3]\tvalidation_0-logloss:0.61318\n",
      "[4]\tvalidation_0-logloss:0.602669\n",
      "[5]\tvalidation_0-logloss:0.594347\n",
      "[6]\tvalidation_0-logloss:0.586456\n",
      "[7]\tvalidation_0-logloss:0.580796\n",
      "[8]\tvalidation_0-logloss:0.576902\n",
      "[9]\tvalidation_0-logloss:0.57278\n",
      "[10]\tvalidation_0-logloss:0.568859\n",
      "[11]\tvalidation_0-logloss:0.566034\n",
      "[12]\tvalidation_0-logloss:0.563663\n",
      "[13]\tvalidation_0-logloss:0.562195\n",
      "[14]\tvalidation_0-logloss:0.561439\n",
      "[15]\tvalidation_0-logloss:0.561408\n",
      "[16]\tvalidation_0-logloss:0.561192\n",
      "[17]\tvalidation_0-logloss:0.561167\n",
      "[18]\tvalidation_0-logloss:0.561042\n",
      "[19]\tvalidation_0-logloss:0.561864\n",
      "[20]\tvalidation_0-logloss:0.560098\n",
      "[21]\tvalidation_0-logloss:0.559346\n",
      "[22]\tvalidation_0-logloss:0.558184\n",
      "[23]\tvalidation_0-logloss:0.55742\n",
      "[24]\tvalidation_0-logloss:0.557925\n",
      "[25]\tvalidation_0-logloss:0.558533\n",
      "[26]\tvalidation_0-logloss:0.557577\n",
      "[27]\tvalidation_0-logloss:0.556928\n",
      "[28]\tvalidation_0-logloss:0.557612\n",
      "[29]\tvalidation_0-logloss:0.557618\n",
      "[30]\tvalidation_0-logloss:0.557761\n",
      "[31]\tvalidation_0-logloss:0.558571\n",
      "[32]\tvalidation_0-logloss:0.559951\n",
      "[33]\tvalidation_0-logloss:0.560502\n",
      "[34]\tvalidation_0-logloss:0.560892\n",
      "[35]\tvalidation_0-logloss:0.561385\n",
      "[36]\tvalidation_0-logloss:0.56208\n",
      "[37]\tvalidation_0-logloss:0.562161\n",
      "Stopping. Best iteration:\n",
      "[27]\tvalidation_0-logloss:0.556928\n",
      "\n"
     ]
    },
    {
     "data": {
      "text/plain": [
       "XGBClassifier(base_score=0.5, colsample_bylevel=1, colsample_bytree=1,\n",
       "       gamma=0, learning_rate=0.1, max_delta_step=0, max_depth=3,\n",
       "       min_child_weight=1, missing=None, n_estimators=100, nthread=-1,\n",
       "       objective='binary:logistic', reg_alpha=0, reg_lambda=1,\n",
       "       scale_pos_weight=1, seed=0, silent=True, subsample=1)"
      ]
     },
     "execution_count": 23,
     "metadata": {},
     "output_type": "execute_result"
    }
   ],
   "source": [
    "eval_set = [(X_test, y_test)]\n",
    "model.fit(X_train, y_train, early_stopping_rounds=10, eval_metric=\"logloss\", eval_set=eval_set, verbose=True)"
   ]
  },
  {
   "cell_type": "markdown",
   "metadata": {
    "slideshow": {
     "slide_type": "subslide"
    }
   },
   "source": [
    "## XGBoost Model Configuration\n",
    "***\n",
    "\n",
    "Same as GBM in sklearn, XGBoost has parameters in 3 categories:\n",
    "\n",
    "* **General Parameters:** Guide the overall functioning\n",
    "* **Booster Parameters:** Guide the individual booster (tree/regression) at each step\n",
    "* **Learning Task Parameters:** Guide the optimization performed\n",
    "\n",
    "They are similar to GBM parameter configuration"
   ]
  },
  {
   "cell_type": "markdown",
   "metadata": {
    "slideshow": {
     "slide_type": "subslide"
    }
   },
   "source": [
    "## XGBoost Model Configuration\n",
    "***\n",
    "And finally to get John started with building a model, Lucius referred him to another article. According to [that article](https://www.linkedin.com/pulse/approaching-almost-any-machine-learning-problem-abhishek-thakur), following are suggested values for hyperparameters\n",
    "\n",
    "\n",
    "![](../images/image33.png)"
   ]
  },
  {
   "cell_type": "markdown",
   "metadata": {
    "slideshow": {
     "slide_type": "subslide"
    }
   },
   "source": [
    "## With great power comes great responsibilities\n",
    "***\n",
    "Seemed like Lucius was finally done and returning to his normal human state. He uttered a few words of cautions before finally closing the lid of John's laptop:\n",
    "\n",
    "* XGBoost can be **sensitive to noisy** data and might **overfit**\n",
    "* XGBoost **needs much more hyperparameter** tuning than bagged decision trees\n",
    "\n",
    "With this, the evening which was supposed to be spent with alcohol, was spent with a different kind of spirit, a more mathematical in nature, and both John and Lucius seemed riding those high spirits!"
   ]
  },
  {
   "cell_type": "markdown",
   "metadata": {
    "slideshow": {
     "slide_type": "slide"
    }
   },
   "source": [
    "<img src=\"../images/Recap.png\" alt=\"Recap\" style=\"width: 100px;float:left; margin-right:15px\"/>\n",
    "<br />\n",
    "# In-session Recap Time\n",
    "***\n",
    "* What is Boosting?\n",
    "* Intuitive understanding of Boosting\n",
    "* AdaBoost\n",
    "* Intuitive understanding of Gradient Boosting\n",
    "* Boosting in sklearn\n",
    "* XGBoost\n",
    "* Hyper parameter tuning of XGBoost"
   ]
  },
  {
   "cell_type": "markdown",
   "metadata": {
    "slideshow": {
     "slide_type": "slide"
    }
   },
   "source": [
    "# Thank You\n",
    "***\n",
    "### Next Session: Challenges in ML\n",
    "For more queries - Reach out to academics@greyatom.com "
   ]
  },
  {
   "cell_type": "code",
   "execution_count": null,
   "metadata": {
    "collapsed": true
   },
   "outputs": [],
   "source": []
  }
 ],
 "metadata": {
  "celltoolbar": "Slideshow",
  "kernelspec": {
   "display_name": "Python 3",
   "language": "python",
   "name": "python3"
  },
  "language_info": {
   "codemirror_mode": {
    "name": "ipython",
    "version": 3
   },
   "file_extension": ".py",
   "mimetype": "text/x-python",
   "name": "python",
   "nbconvert_exporter": "python",
   "pygments_lexer": "ipython3",
   "version": "3.6.5"
  },
  "widgets": {
   "state": {},
   "version": "1.1.2"
  }
 },
 "nbformat": 4,
 "nbformat_minor": 2
}
