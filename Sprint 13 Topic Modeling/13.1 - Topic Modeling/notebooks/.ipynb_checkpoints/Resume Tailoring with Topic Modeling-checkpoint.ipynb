{
 "cells": [
  {
   "cell_type": "code",
   "execution_count": 1,
   "metadata": {},
   "outputs": [],
   "source": [
    "#!python -m spacy download en\n",
    "#nltk.download('stopwords') # run this one time"
   ]
  },
  {
   "cell_type": "markdown",
   "metadata": {},
   "source": [
    "### Resume tailoring\n",
    "\n",
    "A company has a requirement for two job roles i.e Android Developer and Journalist. And your manager wants you to do some basic analysis for him.\n",
    "\n",
    "For most job openings, a particular skill set is desired to perform specific tasks. Tailoring your resume is about recognizing those skills and responsibilities on the job description and making it obvious that you’re up to the task. Your company's goal is to draw the shortest line possible between your experience and what’s stated in the job description.\n",
    "\n",
    "Tailoring your resume connects the dots for recruiters and hiring managers who are overwhelmed by a flood of generic applicants. Instead of proving that you’re an experienced professional in general, it shows them that you’re a perfect fit for this specific job.\n",
    "\n",
    " \n",
    "\n",
    "\n",
    "### About the dataset\n",
    "When performing data science tasks, it’s common to use data found on the internet. You’ll usually be able to access this data in CSV format, or via an Application Programming Interface (API). However, there are times when the data you want can only be accessed as part of a web page. In cases like this, you’ll want to use a technique called web scraping to get the data from the web page into a format you can work within your analysis.\n",
    "\n",
    "You need to perform Topic Modelling on the given data and extract useful topics that will help your manager to short list the candidates based on the topics for a specified job role.\n",
    "\n",
    "The scraped data is been provided to you in the form of `csv`.\n",
    "\n",
    "|Feature|Description|\n",
    "|-----|-----|\n",
    "|company| Name of the company|\n",
    "|job| job title|\n",
    "|job_desc| description of jobs|\n",
    "|location|job locaton|\n",
    "|url|Link of the jobs from it was scraped|\n",
    "|job_type|type of the job|"
   ]
  },
  {
   "cell_type": "markdown",
   "metadata": {},
   "source": [
    "### Importing necessary libraries"
   ]
  },
  {
   "cell_type": "code",
   "execution_count": 2,
   "metadata": {},
   "outputs": [],
   "source": [
    "import pandas as pd\n",
    "import numpy as np\n",
    "import re\n",
    "import spacy\n",
    "import gensim\n",
    "from gensim import corpora\n",
    "pd.set_option(\"display.max_colwidth\", 200)\n",
    "\n",
    "\n",
    "import operator\n",
    "from nltk.corpus import stopwords\n",
    "from sklearn.feature_extraction.text import CountVectorizer\n",
    "\n",
    "import nltk\n",
    "from nltk.stem import WordNetLemmatizer\n",
    "from string import punctuation\n",
    "from nltk.tokenize import word_tokenize\n",
    "from collections import Counter\n",
    "import operator\n",
    "\n",
    "# libraries for visualization\n",
    "import pyLDAvis\n",
    "import pyLDAvis.gensim\n",
    "import matplotlib.pyplot as plt\n",
    "import warnings\n",
    "warnings.filterwarnings(\"ignore\")\n",
    "import seaborn as sns\n",
    "%matplotlib inline"
   ]
  },
  {
   "cell_type": "markdown",
   "metadata": {},
   "source": [
    "### Loading the dataset "
   ]
  },
  {
   "cell_type": "code",
   "execution_count": 3,
   "metadata": {},
   "outputs": [
    {
     "data": {
      "text/html": [
       "<div>\n",
       "<style scoped>\n",
       "    .dataframe tbody tr th:only-of-type {\n",
       "        vertical-align: middle;\n",
       "    }\n",
       "\n",
       "    .dataframe tbody tr th {\n",
       "        vertical-align: top;\n",
       "    }\n",
       "\n",
       "    .dataframe thead th {\n",
       "        text-align: right;\n",
       "    }\n",
       "</style>\n",
       "<table border=\"1\" class=\"dataframe\">\n",
       "  <thead>\n",
       "    <tr style=\"text-align: right;\">\n",
       "      <th></th>\n",
       "      <th>company</th>\n",
       "      <th>job</th>\n",
       "      <th>job_desc</th>\n",
       "      <th>location</th>\n",
       "      <th>url</th>\n",
       "      <th>job_type</th>\n",
       "    </tr>\n",
       "  </thead>\n",
       "  <tbody>\n",
       "    <tr>\n",
       "      <th>0</th>\n",
       "      <td>Micro Focus</td>\n",
       "      <td>Core Java Developer</td>\n",
       "      <td>Core Java Developer\\r\\r\\n\\r\\r\\nJob Description:\\r\\r\\n\\r\\r\\nAt Micro Focus, everything we do is based on a simple idea: The fastest way to get results is to build on what you have. Our software sol...</td>\n",
       "      <td>Bangalore</td>\n",
       "      <td>https://www.indeed.co.in/pagead/clk?mo=r&amp;ad=-6NYlbfkN0BduEgvIgdT7EDM_O2GxHkw7QoaouEWjxefAvaX3ZwZ9tYBt705y4baMnhcBFo_61Er-rE59t0DIcl816jpSPhQlE2-XsX8ZtBLxXVsMZdq8VWbZfs3uXN1oqCxQ7zxUL2JTHVmAEZthPEL...</td>\n",
       "      <td>Android Developer</td>\n",
       "    </tr>\n",
       "    <tr>\n",
       "      <th>1</th>\n",
       "      <td>MS Clinical Research (P) Ltd</td>\n",
       "      <td>Android App Developer</td>\n",
       "      <td>Job Summary\\r\\r\\nOver 3 years experience designing, developing, integrating, and supporting Android App development\\r\\r\\nApply in-depth understanding of business and IT requirements to streamline ...</td>\n",
       "      <td>Bangalore</td>\n",
       "      <td>https://www.indeed.co.in/pagead/clk?mo=r&amp;ad=-6NYlbfkN0BduEgvIgdT7EDM_O2GxHkw7QoaouEWjxefAvaX3ZwZ9tYBt705y4baMnhcBFo_61Er-rE59t0DIcl816jpSPhQlE2-XsX8ZtBLxXVsMZdq8VWbZfs3uXN1oqCxQ7zxUL2JTHVmAEZthPEL...</td>\n",
       "      <td>Android Developer</td>\n",
       "    </tr>\n",
       "    <tr>\n",
       "      <th>2</th>\n",
       "      <td>Applied Materials Inc.</td>\n",
       "      <td>Software Engineer – Unity Developer</td>\n",
       "      <td>Company Introduction\\r\\r\\nApplied Materials , Inc. is the global leader in materials engineering solutions for the semiconductor, flat panel display and solar photovoltaic (PV) industries. applied...</td>\n",
       "      <td>Bangalore</td>\n",
       "      <td>https://www.indeed.co.in/pagead/clk?mo=r&amp;ad=-6NYlbfkN0BduEgvIgdT7EDM_O2GxHkw7QoaouEWjxefAvaX3ZwZ9tYBt705y4baMnhcBFo_61Er-rE59t0DIcl816jpSPhQlE2-XsX8ZtBLxXVsMZdq8VWbZfs3uXN1oqCxQ7zxUL2JTHVmAEZthPEL...</td>\n",
       "      <td>Android Developer</td>\n",
       "    </tr>\n",
       "    <tr>\n",
       "      <th>3</th>\n",
       "      <td>Shaw Academy</td>\n",
       "      <td>Lead Mobile Developer</td>\n",
       "      <td>Senior Mobile App Developer/Lead (Android or iOS)\\r\\r\\nShaw Academy is seeking a Mobile Development Lead, initially to be the hands-on coder for our apps and then to build a team aroundyou. The ro...</td>\n",
       "      <td>Bangalore</td>\n",
       "      <td>https://www.indeed.co.in/pagead/clk?mo=r&amp;ad=-6NYlbfkN0BduEgvIgdT7EDM_O2GxHkw7QoaouEWjxefAvaX3ZwZ9tYBt705y4baMnhcBFo_61Er-rE59t0DIcl816jpSPhQlE2-XsX8ZtBLxXVsMZdq8VWbZfs3uXN1oqCxQ7zxUL2JTHVmAEZthPEL...</td>\n",
       "      <td>Android Developer</td>\n",
       "    </tr>\n",
       "    <tr>\n",
       "      <th>4</th>\n",
       "      <td>Letsgettin Private Limited</td>\n",
       "      <td>Android Developer- Freshers</td>\n",
       "      <td>Job Summary\\r\\r\\nPosition: Android developer\\r\\r\\nEducation: Bachelor's\\r\\r\\nRequired candidates: Freshers\\r\\r\\nResponsibilities and Duties\\r\\r\\nDesign and build advanced applications for the Andr...</td>\n",
       "      <td>Bangalore</td>\n",
       "      <td>https://www.indeed.co.in/pagead/clk?mo=r&amp;ad=-6NYlbfkN0BduEgvIgdT7EDM_O2GxHkw7QoaouEWjxefAvaX3ZwZ9tYBt705y4baMnhcBFo_61Er-rE59t0DIcl816jpSPhQlE2-XsX8ZtBLxXVsMZdq8VWbZfs3uXN1oqCxQ7zxUL2JTHVmAEZthPEL...</td>\n",
       "      <td>Android Developer</td>\n",
       "    </tr>\n",
       "  </tbody>\n",
       "</table>\n",
       "</div>"
      ],
      "text/plain": [
       "                        company                                  job  \\\n",
       "0                   Micro Focus                  Core Java Developer   \n",
       "1  MS Clinical Research (P) Ltd                Android App Developer   \n",
       "2        Applied Materials Inc.  Software Engineer – Unity Developer   \n",
       "3                  Shaw Academy                Lead Mobile Developer   \n",
       "4    Letsgettin Private Limited          Android Developer- Freshers   \n",
       "\n",
       "                                                                                                                                                                                                  job_desc  \\\n",
       "0  Core Java Developer\\r\\r\\n\\r\\r\\nJob Description:\\r\\r\\n\\r\\r\\nAt Micro Focus, everything we do is based on a simple idea: The fastest way to get results is to build on what you have. Our software sol...   \n",
       "1  Job Summary\\r\\r\\nOver 3 years experience designing, developing, integrating, and supporting Android App development\\r\\r\\nApply in-depth understanding of business and IT requirements to streamline ...   \n",
       "2  Company Introduction\\r\\r\\nApplied Materials , Inc. is the global leader in materials engineering solutions for the semiconductor, flat panel display and solar photovoltaic (PV) industries. applied...   \n",
       "3  Senior Mobile App Developer/Lead (Android or iOS)\\r\\r\\nShaw Academy is seeking a Mobile Development Lead, initially to be the hands-on coder for our apps and then to build a team aroundyou. The ro...   \n",
       "4  Job Summary\\r\\r\\nPosition: Android developer\\r\\r\\nEducation: Bachelor's\\r\\r\\nRequired candidates: Freshers\\r\\r\\nResponsibilities and Duties\\r\\r\\nDesign and build advanced applications for the Andr...   \n",
       "\n",
       "    location  \\\n",
       "0  Bangalore   \n",
       "1  Bangalore   \n",
       "2  Bangalore   \n",
       "3  Bangalore   \n",
       "4  Bangalore   \n",
       "\n",
       "                                                                                                                                                                                                       url  \\\n",
       "0  https://www.indeed.co.in/pagead/clk?mo=r&ad=-6NYlbfkN0BduEgvIgdT7EDM_O2GxHkw7QoaouEWjxefAvaX3ZwZ9tYBt705y4baMnhcBFo_61Er-rE59t0DIcl816jpSPhQlE2-XsX8ZtBLxXVsMZdq8VWbZfs3uXN1oqCxQ7zxUL2JTHVmAEZthPEL...   \n",
       "1  https://www.indeed.co.in/pagead/clk?mo=r&ad=-6NYlbfkN0BduEgvIgdT7EDM_O2GxHkw7QoaouEWjxefAvaX3ZwZ9tYBt705y4baMnhcBFo_61Er-rE59t0DIcl816jpSPhQlE2-XsX8ZtBLxXVsMZdq8VWbZfs3uXN1oqCxQ7zxUL2JTHVmAEZthPEL...   \n",
       "2  https://www.indeed.co.in/pagead/clk?mo=r&ad=-6NYlbfkN0BduEgvIgdT7EDM_O2GxHkw7QoaouEWjxefAvaX3ZwZ9tYBt705y4baMnhcBFo_61Er-rE59t0DIcl816jpSPhQlE2-XsX8ZtBLxXVsMZdq8VWbZfs3uXN1oqCxQ7zxUL2JTHVmAEZthPEL...   \n",
       "3  https://www.indeed.co.in/pagead/clk?mo=r&ad=-6NYlbfkN0BduEgvIgdT7EDM_O2GxHkw7QoaouEWjxefAvaX3ZwZ9tYBt705y4baMnhcBFo_61Er-rE59t0DIcl816jpSPhQlE2-XsX8ZtBLxXVsMZdq8VWbZfs3uXN1oqCxQ7zxUL2JTHVmAEZthPEL...   \n",
       "4  https://www.indeed.co.in/pagead/clk?mo=r&ad=-6NYlbfkN0BduEgvIgdT7EDM_O2GxHkw7QoaouEWjxefAvaX3ZwZ9tYBt705y4baMnhcBFo_61Er-rE59t0DIcl816jpSPhQlE2-XsX8ZtBLxXVsMZdq8VWbZfs3uXN1oqCxQ7zxUL2JTHVmAEZthPEL...   \n",
       "\n",
       "            job_type  \n",
       "0  Android Developer  \n",
       "1  Android Developer  \n",
       "2  Android Developer  \n",
       "3  Android Developer  \n",
       "4  Android Developer  "
      ]
     },
     "execution_count": 3,
     "metadata": {},
     "output_type": "execute_result"
    }
   ],
   "source": [
    "jobs = pd.read_csv(\"../data/merged_indeed_new.csv\")\n",
    "jobs.head()"
   ]
  },
  {
   "cell_type": "markdown",
   "metadata": {},
   "source": [
    "### Drop unnecessary Columns\n",
    "\n",
    "For the analysis of the job description, we are only interested in the text data associated with the jobs. We will analyze this text data using natural language processing. Since the file contains some metadata such as company, location and url. It is necessary to remove all the columns that do not contain useful text information."
   ]
  },
  {
   "cell_type": "code",
   "execution_count": 4,
   "metadata": {},
   "outputs": [
    {
     "data": {
      "text/html": [
       "<div>\n",
       "<style scoped>\n",
       "    .dataframe tbody tr th:only-of-type {\n",
       "        vertical-align: middle;\n",
       "    }\n",
       "\n",
       "    .dataframe tbody tr th {\n",
       "        vertical-align: top;\n",
       "    }\n",
       "\n",
       "    .dataframe thead th {\n",
       "        text-align: right;\n",
       "    }\n",
       "</style>\n",
       "<table border=\"1\" class=\"dataframe\">\n",
       "  <thead>\n",
       "    <tr style=\"text-align: right;\">\n",
       "      <th></th>\n",
       "      <th>job_desc</th>\n",
       "      <th>job_type</th>\n",
       "    </tr>\n",
       "  </thead>\n",
       "  <tbody>\n",
       "    <tr>\n",
       "      <th>0</th>\n",
       "      <td>Core Java Developer\\r\\r\\n\\r\\r\\nJob Description:\\r\\r\\n\\r\\r\\nAt Micro Focus, everything we do is based on a simple idea: The fastest way to get results is to build on what you have. Our software sol...</td>\n",
       "      <td>Android Developer</td>\n",
       "    </tr>\n",
       "    <tr>\n",
       "      <th>1</th>\n",
       "      <td>Job Summary\\r\\r\\nOver 3 years experience designing, developing, integrating, and supporting Android App development\\r\\r\\nApply in-depth understanding of business and IT requirements to streamline ...</td>\n",
       "      <td>Android Developer</td>\n",
       "    </tr>\n",
       "    <tr>\n",
       "      <th>2</th>\n",
       "      <td>Company Introduction\\r\\r\\nApplied Materials , Inc. is the global leader in materials engineering solutions for the semiconductor, flat panel display and solar photovoltaic (PV) industries. applied...</td>\n",
       "      <td>Android Developer</td>\n",
       "    </tr>\n",
       "    <tr>\n",
       "      <th>3</th>\n",
       "      <td>Senior Mobile App Developer/Lead (Android or iOS)\\r\\r\\nShaw Academy is seeking a Mobile Development Lead, initially to be the hands-on coder for our apps and then to build a team aroundyou. The ro...</td>\n",
       "      <td>Android Developer</td>\n",
       "    </tr>\n",
       "    <tr>\n",
       "      <th>4</th>\n",
       "      <td>Job Summary\\r\\r\\nPosition: Android developer\\r\\r\\nEducation: Bachelor's\\r\\r\\nRequired candidates: Freshers\\r\\r\\nResponsibilities and Duties\\r\\r\\nDesign and build advanced applications for the Andr...</td>\n",
       "      <td>Android Developer</td>\n",
       "    </tr>\n",
       "  </tbody>\n",
       "</table>\n",
       "</div>"
      ],
      "text/plain": [
       "                                                                                                                                                                                                  job_desc  \\\n",
       "0  Core Java Developer\\r\\r\\n\\r\\r\\nJob Description:\\r\\r\\n\\r\\r\\nAt Micro Focus, everything we do is based on a simple idea: The fastest way to get results is to build on what you have. Our software sol...   \n",
       "1  Job Summary\\r\\r\\nOver 3 years experience designing, developing, integrating, and supporting Android App development\\r\\r\\nApply in-depth understanding of business and IT requirements to streamline ...   \n",
       "2  Company Introduction\\r\\r\\nApplied Materials , Inc. is the global leader in materials engineering solutions for the semiconductor, flat panel display and solar photovoltaic (PV) industries. applied...   \n",
       "3  Senior Mobile App Developer/Lead (Android or iOS)\\r\\r\\nShaw Academy is seeking a Mobile Development Lead, initially to be the hands-on coder for our apps and then to build a team aroundyou. The ro...   \n",
       "4  Job Summary\\r\\r\\nPosition: Android developer\\r\\r\\nEducation: Bachelor's\\r\\r\\nRequired candidates: Freshers\\r\\r\\nResponsibilities and Duties\\r\\r\\nDesign and build advanced applications for the Andr...   \n",
       "\n",
       "            job_type  \n",
       "0  Android Developer  \n",
       "1  Android Developer  \n",
       "2  Android Developer  \n",
       "3  Android Developer  \n",
       "4  Android Developer  "
      ]
     },
     "execution_count": 4,
     "metadata": {},
     "output_type": "execute_result"
    }
   ],
   "source": [
    "# Remove the columns\n",
    "jobs = jobs.drop(columns=['company', 'job', 'location','url'], axis=1)\n",
    "\n",
    "# Print out the first rows of papers\n",
    "jobs.head()"
   ]
  },
  {
   "cell_type": "markdown",
   "metadata": {},
   "source": [
    "###  Calculate the number of jobs for each job type. "
   ]
  },
  {
   "cell_type": "code",
   "execution_count": null,
   "metadata": {},
   "outputs": [],
   "source": []
  },
  {
   "cell_type": "markdown",
   "metadata": {},
   "source": [
    "### Subset the jobs(i.e Android Developer & Journalist) based on job_type. And store only job_desc based on job type.\n",
    "\n",
    "Further analysis will be done only on `job_desc` column."
   ]
  },
  {
   "cell_type": "code",
   "execution_count": null,
   "metadata": {},
   "outputs": [],
   "source": []
  },
  {
   "cell_type": "markdown",
   "metadata": {},
   "source": [
    "### Retain alphabets/remove unnecessary space\n",
    "Now, we will perform some simple preprocessing on the job description column(i.e `job_desc`) in order to make them more amenable for analysis. We will use a regular expression to retain only alphabets in the description and remove unnecessary space."
   ]
  },
  {
   "cell_type": "code",
   "execution_count": null,
   "metadata": {},
   "outputs": [],
   "source": [
    "\n"
   ]
  },
  {
   "cell_type": "markdown",
   "metadata": {},
   "source": [
    "### Exploratory Analysis: Plot the word cloud of the most common words\n",
    "In order to verify whether the preprocessing happened correctly, we can make a word cloud of the text of the job descriptions. This will give us a visual representation of the most common words. Visualization is key to understanding whether we are still on the right track! In addition, it allows us to verify whether we need additional preprocessing before further analyzing the text data. Python has a massive number of open libraries! Instead of trying to develop a method to create word clouds ourselves, we'll use Andreas Mueller's wordcloud library"
   ]
  },
  {
   "cell_type": "code",
   "execution_count": 1,
   "metadata": {},
   "outputs": [],
   "source": [
    "\n",
    "# # Import the wordcloud library\n",
    "from wordcloud import WordCloud\n"
   ]
  },
  {
   "cell_type": "markdown",
   "metadata": {},
   "source": [
    "### Let's remove some common words that every job description contain. A common words list is provided to you(you can add more). Display top 10 most occuring words.\n",
    "LDA does not work directly on text data. First, it is necessary to convert the documents into a simple vector representation. This representation will then be used by LDA to determine the topics. Each entry of a 'document vector' will correspond with the number of times a word occurred in the document."
   ]
  },
  {
   "cell_type": "code",
   "execution_count": null,
   "metadata": {},
   "outputs": [],
   "source": []
  },
  {
   "cell_type": "markdown",
   "metadata": {},
   "source": [
    "It seems that now most frequent terms in our data are relevant."
   ]
  },
  {
   "cell_type": "markdown",
   "metadata": {},
   "source": [
    "### Perform lowercasing and calculate the frequency of top 10  words. "
   ]
  },
  {
   "cell_type": "code",
   "execution_count": null,
   "metadata": {
    "scrolled": false
   },
   "outputs": [],
   "source": []
  },
  {
   "cell_type": "markdown",
   "metadata": {},
   "source": [
    "### Model buliding with LSA"
   ]
  },
  {
   "cell_type": "code",
   "execution_count": null,
   "metadata": {},
   "outputs": [],
   "source": []
  },
  {
   "cell_type": "markdown",
   "metadata": {},
   "source": [
    "### Model buliding with LDA\n",
    "\n",
    "In LSA we saw that Topic 1 has some different words which are not related to the Journalist job. Lets see if we can improve our topics by using LDA algorithm."
   ]
  },
  {
   "cell_type": "code",
   "execution_count": null,
   "metadata": {},
   "outputs": [],
   "source": []
  },
  {
   "cell_type": "markdown",
   "metadata": {},
   "source": [
    "### Analyzing with LDA model\n",
    "\n",
    "To visualize the topics in a 2-dimensional space we will use the pyLDAvis library. This visualization is interactive in nature and displays topics along with the most relevant words.\n",
    "\n",
    "pyLDAvis package is designed to help users interpret the topics in a topic model that has been fit to a corpus of text data. The interactive visualization pyLDAvis produces is helpful for both:\n",
    "\n",
    "1. Better understanding and interpreting individual topics, and\n",
    "2. Better understanding the relationships between the topics.\n",
    "\n",
    "For (1), you can manually select each topic to view its top most freqeuent and/or “relevant” terms, using different values of the λ parameter. This can help when you’re trying to assign a human interpretable name or “meaning” to each topic.\n",
    "\n",
    "For (2), exploring the Intertopic Distance Plot can help you learn about how topics relate to each other, including potential higher-level structure between groups of topics.\n",
    "\n",
    "\n",
    "Here is the documentation for <a href=\"https://pyldavis.readthedocs.io/en/latest/readme.html\">pyLDAvis</a>"
   ]
  },
  {
   "cell_type": "code",
   "execution_count": 13,
   "metadata": {},
   "outputs": [
    {
     "data": {
      "text/html": [
       "\n",
       "<link rel=\"stylesheet\" type=\"text/css\" href=\"https://cdn.rawgit.com/bmabey/pyLDAvis/files/ldavis.v1.0.0.css\">\n",
       "\n",
       "\n",
       "<div id=\"ldavis_el1337215242992278085954333879\"></div>\n",
       "<script type=\"text/javascript\">\n",
       "\n",
       "var ldavis_el1337215242992278085954333879_data = {\"mdsDat\": {\"x\": [0.12284015864133833, -0.12284015864133833], \"y\": [0.0, 0.0], \"topics\": [1, 2], \"cluster\": [1, 1], \"Freq\": [51.56523132324219, 48.43476867675781]}, \"tinfo\": {\"Category\": [\"Default\", \"Default\", \"Default\", \"Default\", \"Default\", \"Default\", \"Default\", \"Default\", \"Default\", \"Default\", \"Default\", \"Default\", \"Default\", \"Default\", \"Default\", \"Default\", \"Default\", \"Default\", \"Default\", \"Default\", \"Default\", \"Default\", \"Default\", \"Default\", \"Default\", \"Default\", \"Default\", \"Default\", \"Default\", \"Default\", \"Topic1\", \"Topic1\", \"Topic1\", \"Topic1\", \"Topic1\", \"Topic1\", \"Topic1\", \"Topic1\", \"Topic1\", \"Topic1\", \"Topic1\", \"Topic1\", \"Topic1\", \"Topic1\", \"Topic1\", \"Topic1\", \"Topic1\", \"Topic1\", \"Topic1\", \"Topic1\", \"Topic1\", \"Topic1\", \"Topic1\", \"Topic1\", \"Topic1\", \"Topic1\", \"Topic1\", \"Topic1\", \"Topic1\", \"Topic1\", \"Topic1\", \"Topic1\", \"Topic1\", \"Topic1\", \"Topic1\", \"Topic1\", \"Topic1\", \"Topic1\", \"Topic1\", \"Topic1\", \"Topic1\", \"Topic1\", \"Topic1\", \"Topic1\", \"Topic1\", \"Topic1\", \"Topic1\", \"Topic1\", \"Topic1\", \"Topic1\", \"Topic1\", \"Topic1\", \"Topic1\", \"Topic1\", \"Topic1\", \"Topic2\", \"Topic2\", \"Topic2\", \"Topic2\", \"Topic2\", \"Topic2\", \"Topic2\", \"Topic2\", \"Topic2\", \"Topic2\", \"Topic2\", \"Topic2\", \"Topic2\", \"Topic2\", \"Topic2\", \"Topic2\", \"Topic2\", \"Topic2\", \"Topic2\", \"Topic2\", \"Topic2\", \"Topic2\", \"Topic2\", \"Topic2\", \"Topic2\", \"Topic2\", \"Topic2\", \"Topic2\", \"Topic2\", \"Topic2\", \"Topic2\", \"Topic2\", \"Topic2\", \"Topic2\", \"Topic2\", \"Topic2\", \"Topic2\", \"Topic2\", \"Topic2\", \"Topic2\", \"Topic2\", \"Topic2\", \"Topic2\", \"Topic2\", \"Topic2\", \"Topic2\", \"Topic2\", \"Topic2\", \"Topic2\", \"Topic2\", \"Topic2\", \"Topic2\", \"Topic2\"], \"Freq\": [289.0, 130.0, 139.0, 105.0, 100.0, 173.0, 97.0, 69.0, 87.0, 50.0, 56.0, 47.0, 43.0, 52.0, 44.0, 47.0, 52.0, 44.0, 68.0, 37.0, 39.0, 31.0, 30.0, 28.0, 38.0, 52.0, 27.0, 30.0, 26.0, 23.0, 288.0859069824219, 50.01707458496094, 44.12206268310547, 37.36587142944336, 68.76168060302734, 27.321128845214844, 25.63672637939453, 24.773950576782227, 23.118942260742188, 21.435693740844727, 21.429054260253906, 21.42705535888672, 20.59735679626465, 20.591758728027344, 18.912155151367188, 23.009586334228516, 18.898996353149414, 18.896984100341797, 18.047178268432617, 16.390029907226562, 16.38606834411621, 54.8900260925293, 38.49238967895508, 15.552801132202148, 25.336563110351562, 13.871292114257812, 13.871282577514648, 13.870257377624512, 14.68559455871582, 51.32017517089844, 126.23461151123047, 29.26816177368164, 132.45245361328125, 92.50533294677734, 36.7108154296875, 155.14427185058594, 28.12198829650879, 62.33509826660156, 46.6202507019043, 23.146005630493164, 67.16903686523438, 63.96483612060547, 58.42164993286133, 54.51118087768555, 55.091121673583984, 44.82613754272461, 41.644622802734375, 42.55603790283203, 31.699928283691406, 48.26687240600586, 37.9253044128418, 30.025365829467773, 32.91836166381836, 32.91189956665039, 29.535934448242188, 43.13942337036133, 31.207937240600586, 30.343420028686523, 27.779682159423828, 22.64755630493164, 46.10685348510742, 20.95347785949707, 21.772226333618164, 43.477272033691406, 18.374418258666992, 18.365394592285156, 20.86210060119629, 16.67569351196289, 18.289430618286133, 14.951064109802246, 21.593034744262695, 102.07549285888672, 18.25643539428711, 15.760468482971191, 14.092874526977539, 14.091151237487793, 14.089273452758789, 13.249913215637207, 14.077951431274414, 96.840576171875, 17.371862411499023, 15.686018943786621, 46.193111419677734, 11.546479225158691, 12.334477424621582, 50.259002685546875, 80.78094482421875, 23.41077423095703, 21.83502960205078, 28.724275588989258, 18.416473388671875, 20.22520637512207, 33.696346282958984, 20.130569458007812, 27.936227798461914, 28.35778045654297, 29.31001091003418, 46.698673248291016, 24.948678970336914, 26.35940170288086, 22.629602432250977, 24.580305099487305, 30.345434188842773, 21.84058380126953, 24.04483413696289, 22.37161636352539, 23.02775764465332, 22.38105583190918], \"Term\": [\"android\", \"application\", \"design\", \"medium\", \"content\", \"development\", \"mobile\", \"developer\", \"communication\", \"apis\", \"code\", \"journalist\", \"community\", \"social\", \"writing\", \"marketing\", \"java\", \"sdk\", \"app\", \"integration\", \"performance\", \"event\", \"brand\", \"news\", \"familiarity\", \"understanding\", \"api\", \"technical\", \"library\", \"story\", \"android\", \"apis\", \"sdk\", \"integration\", \"developer\", \"api\", \"library\", \"json\", \"interface\", \"apps\", \"ui\", \"unit\", \"bug\", \"git\", \"back\", \"framework\", \"studio\", \"restful\", \"javascript\", \"notification\", \"case\", \"code\", \"performance\", \"usability\", \"end\", \"robustness\", \"reliability\", \"advanced\", \"php\", \"java\", \"application\", \"technical\", \"design\", \"mobile\", \"familiarity\", \"development\", \"io\", \"app\", \"understanding\", \"general\", \"technology\", \"full\", \"working\", \"type\", \"time\", \"build\", \"strong\", \"service\", \"software\", \"team\", \"requirement\", \"using\", \"good\", \"new\", \"summary\", \"community\", \"event\", \"brand\", \"news\", \"story\", \"journalist\", \"pr\", \"strategy\", \"writing\", \"relation\", \"editing\", \"digital\", \"article\", \"video\", \"relationship\", \"office\", \"medium\", \"journalism\", \"across\", \"research\", \"press\", \"campaign\", \"fargo\", \"channel\", \"content\", \"writer\", \"background\", \"marketing\", \"institute\", \"indian\", \"social\", \"communication\", \"manager\", \"hindi\", \"english\", \"twitter\", \"online\", \"company\", \"relevant\", \"well\", \"customer\", \"degree\", \"team\", \"management\", \"candidate\", \"support\", \"business\", \"time\", \"excellent\", \"technology\", \"qualification\", \"full\", \"type\"], \"Total\": [289.0, 130.0, 139.0, 105.0, 100.0, 173.0, 97.0, 69.0, 87.0, 50.0, 56.0, 47.0, 43.0, 52.0, 44.0, 47.0, 52.0, 44.0, 68.0, 37.0, 39.0, 31.0, 30.0, 28.0, 38.0, 52.0, 27.0, 30.0, 26.0, 23.0, 289.2438049316406, 50.452735900878906, 44.5675163269043, 37.84181213378906, 69.80043029785156, 27.751867294311523, 26.070344924926758, 25.229930877685547, 23.547985076904297, 21.86646270751953, 21.866548538208008, 21.866605758666992, 21.025659561157227, 21.025754928588867, 19.34416389465332, 23.549829483032227, 19.344379425048828, 19.344419479370117, 18.503820419311523, 16.82186508178711, 16.821884155273438, 56.35515213012695, 39.531761169433594, 15.981035232543945, 26.07452392578125, 14.299492835998535, 14.299491882324219, 14.299509048461914, 15.140657424926758, 52.99586486816406, 130.38905334472656, 30.283477783203125, 139.6903076171875, 97.61531829833984, 38.707942962646484, 173.5120391845703, 29.448152542114258, 68.20130157470703, 52.2220458984375, 24.402132034301758, 91.2138671875, 86.99259185791016, 79.39031219482422, 76.8922348022461, 85.43655395507812, 64.2295913696289, 59.1524658203125, 62.55833053588867, 40.506256103515625, 94.96554565429688, 59.21736145019531, 37.969181060791016, 47.32853698730469, 51.60586929321289, 43.110347747802734, 43.6183967590332, 31.642959594726562, 30.787349700927734, 28.221054077148438, 23.088396072387695, 47.03217697143555, 21.37782096862793, 22.232603073120117, 44.46453857421875, 18.81125259399414, 18.811080932617188, 21.376176834106445, 17.100587844848633, 18.809734344482422, 15.389449119567871, 22.229398727416992, 105.16407012939453, 18.809049606323242, 16.243942260742188, 14.533919334411621, 14.53392219543457, 14.533883094787598, 13.678692817687988, 14.533681869506836, 100.02996063232422, 17.95320701599121, 16.242279052734375, 47.87417221069336, 11.967988967895508, 12.822103500366211, 52.9881477355957, 87.9832763671875, 24.782371520996094, 23.07357406616211, 31.599435806274414, 19.65186309814453, 22.20522117614746, 41.773963928222656, 23.04427146911621, 36.630531311035156, 37.47853088378906, 41.69872283935547, 94.96554565429688, 34.89775085449219, 41.648109436035156, 32.33566665649414, 44.980674743652344, 85.43655395507812, 34.84442901611328, 91.2138671875, 50.82817459106445, 86.99259185791016, 76.8922348022461], \"loglift\": [30.0, 29.0, 28.0, 27.0, 26.0, 25.0, 24.0, 23.0, 22.0, 21.0, 20.0, 19.0, 18.0, 17.0, 16.0, 15.0, 14.0, 13.0, 12.0, 11.0, 10.0, 9.0, 8.0, 7.0, 6.0, 5.0, 4.0, 3.0, 2.0, 1.0, 0.65829998254776, 0.6536999940872192, 0.6523000001907349, 0.6496999859809875, 0.6473000049591064, 0.6467000246047974, 0.6456000208854675, 0.64410001039505, 0.6438999772071838, 0.6424000263214111, 0.6420999765396118, 0.6420000195503235, 0.641700029373169, 0.6414999961853027, 0.6396999955177307, 0.6391000151634216, 0.6389999985694885, 0.6388999819755554, 0.6373000144958496, 0.6363000273704529, 0.6360999941825867, 0.6359999775886536, 0.635699987411499, 0.635200023651123, 0.6335999965667725, 0.6319000124931335, 0.6319000124931335, 0.6317999958992004, 0.6317999958992004, 0.6302000284194946, 0.6298999786376953, 0.6281999945640564, 0.6090999841690063, 0.6086000204086304, 0.6093000173568726, 0.5504000186920166, 0.6161999702453613, 0.5723999738693237, 0.5489000082015991, 0.609499990940094, 0.3562999963760376, 0.3547999858856201, 0.3555999994277954, 0.3183000087738037, 0.22349999845027924, 0.302700012922287, 0.31139999628067017, 0.2770000100135803, 0.4171999990940094, -0.014399999752640724, 0.2167000025510788, 0.4275999963283539, 0.29919999837875366, 0.21250000596046448, 0.2842000126838684, 0.7139000296592712, 0.7110999822616577, 0.7103999853134155, 0.7092000246047974, 0.7056999802589417, 0.7050999999046326, 0.7049000263214111, 0.7039999961853027, 0.7024999856948853, 0.7014999985694885, 0.7009999752044678, 0.7006000280380249, 0.6998000144958496, 0.6969000101089478, 0.6960999965667725, 0.695900022983551, 0.6951000094413757, 0.6951000094413757, 0.6947000026702881, 0.694100022315979, 0.6940000057220459, 0.6938999891281128, 0.6930999755859375, 0.6930999755859375, 0.6924999952316284, 0.6919999718666077, 0.6901000142097473, 0.6891999840736389, 0.6891000270843506, 0.6862000226974487, 0.6721000075340271, 0.6395000219345093, 0.6679999828338623, 0.6697999835014343, 0.6295999884605408, 0.6600000262260437, 0.631600022315979, 0.5101000070571899, 0.5898000001907349, 0.45399999618530273, 0.44609999656677246, 0.3723999857902527, 0.015200000256299973, 0.38940000534057617, 0.26750001311302185, 0.36800000071525574, 0.12070000171661377, -0.3102000057697296, 0.25780001282691956, -0.608299970626831, -0.09570000320672989, -0.604200005531311, -0.5091999769210815], \"logprob\": [30.0, 29.0, 28.0, 27.0, 26.0, 25.0, 24.0, 23.0, 22.0, 21.0, 20.0, 19.0, 18.0, 17.0, 16.0, 15.0, 14.0, 13.0, 12.0, 11.0, 10.0, 9.0, 8.0, 7.0, 6.0, 5.0, 4.0, 3.0, 2.0, 1.0, -3.3059000968933105, -5.05679988861084, -5.182199954986572, -5.348400115966797, -4.738500118255615, -5.661499977111816, -5.725100040435791, -5.759399890899658, -5.828499794006348, -5.904099941253662, -5.904399871826172, -5.9045000076293945, -5.943999767303467, -5.944300174713135, -6.029399871826172, -5.833199977874756, -6.030099868774414, -6.030200004577637, -6.076200008392334, -6.172500133514404, -6.172699928283691, -4.963799953460693, -5.318699836730957, -6.224899768829346, -5.7368998527526855, -6.339300155639648, -6.339300155639648, -6.339399814605713, -6.282299995422363, -5.031099796295166, -4.13100004196167, -5.592700004577637, -4.082900047302246, -4.44189977645874, -5.366099834442139, -3.924799919128418, -5.632599830627441, -4.836599826812744, -5.127099990844727, -5.827300071716309, -4.761899948120117, -4.810800075531006, -4.901500225067139, -4.970799922943115, -4.96019983291626, -5.166399955749512, -5.239999771118164, -5.218299865722656, -5.512800216674805, -5.092400074005127, -5.333499908447266, -5.5671000480651855, -5.475100040435791, -5.475299835205078, -5.583600044250488, -5.142099857330322, -5.46589994430542, -5.49399995803833, -5.582200050354004, -5.786499977111816, -5.0756001472473145, -5.864200115203857, -5.825900077819824, -5.134300231933594, -5.99560022354126, -5.996099948883057, -5.868599891662598, -6.092599868774414, -6.000199794769287, -6.201700210571289, -5.834199905395508, -4.280799865722656, -6.001999855041504, -6.14900016784668, -6.260900020599365, -6.261000156402588, -6.261099815368652, -6.322500228881836, -6.261899948120117, -4.333499908447266, -6.051700115203857, -6.153800010681152, -5.073699951171875, -6.460100173950195, -6.394100189208984, -4.989299774169922, -4.514800071716309, -5.753300189971924, -5.822999954223633, -5.548799991607666, -5.993299961090088, -5.899600028991699, -5.389100074768066, -5.904300212860107, -5.576600074768066, -5.561600208282471, -5.528600215911865, -5.06279993057251, -5.689700126647949, -5.634699821472168, -5.787300109863281, -5.704599857330322, -5.493899822235107, -5.822800159454346, -5.726600170135498, -5.798699855804443, -5.769800186157227, -5.798299789428711]}, \"token.table\": {\"Topic\": [2, 1, 1, 2, 1, 1, 1, 2, 1, 2, 1, 2, 1, 1, 2, 2, 1, 1, 2, 1, 2, 2, 1, 2, 1, 2, 1, 2, 1, 2, 2, 1, 2, 1, 2, 1, 2, 1, 2, 1, 2, 1, 2, 1, 2, 1, 2, 2, 1, 2, 1, 2, 2, 1, 2, 1, 2, 2, 1, 2, 1, 2, 1, 2, 1, 1, 2, 1, 2, 2, 2, 1, 1, 1, 2, 1, 2, 1, 1, 2, 1, 2, 1, 1, 1, 2, 1, 2, 1, 2, 1, 2, 1, 2, 1, 2, 2, 1, 1, 2, 1, 2, 1, 2, 1, 2, 2, 1, 2, 2, 2, 1, 2, 1, 1, 2, 2, 1, 1, 1, 1, 2, 1, 2, 1, 2, 2, 2, 1, 2, 1, 1, 2, 1, 2, 1, 2, 1, 2, 1, 2, 1, 2, 1, 2, 1, 2, 1, 1, 2, 1, 1, 1, 2, 1, 2, 1, 2, 1, 2, 1, 2, 1, 2], \"Freq\": [0.9849825501441956, 0.9790545701980591, 0.9956998229026794, 0.0034572910517454147, 0.9729074835777283, 0.9910265207290649, 0.909073531627655, 0.08797486126422882, 0.9663388133049011, 0.030677421018481255, 0.9603748321533203, 0.9941178560256958, 0.9822083711624146, 0.06156771630048752, 0.9850834608078003, 0.9744262099266052, 0.9987795948982239, 0.7006116509437561, 0.29581379890441895, 0.44463539123535156, 0.5557942390441895, 0.9632663130760193, 0.3601604104042053, 0.6242780089378357, 0.9511419534683228, 0.963279664516449, 0.9759533405303955, 0.017744606360793114, 0.07956057786941528, 0.9206295013427734, 0.9858225584030151, 0.19150684773921967, 0.8139041066169739, 0.029991013929247856, 0.9697094559669495, 0.2401374876499176, 0.7470943927764893, 0.2877785861492157, 0.6954649686813354, 0.9449474215507507, 0.05011085048317909, 0.9885326027870178, 0.014326559379696846, 0.8933097720146179, 0.10373920202255249, 0.04678105190396309, 0.9824020266532898, 0.9568828344345093, 0.9587903022766113, 0.03835161030292511, 0.09493840485811234, 0.9177379012107849, 0.9796807765960693, 0.3730868995189667, 0.6313778162002563, 0.9558761715888977, 0.051668982952833176, 0.950383186340332, 0.9766525030136108, 0.04246315360069275, 0.7356948256492615, 0.26439031958580017, 0.9425405859947205, 0.0409800261259079, 0.998775064945221, 0.6972537636756897, 0.29580461978912354, 0.043339621275663376, 0.9534717202186584, 0.9358838796615601, 1.0026746988296509, 0.9777544736862183, 0.9767289757728577, 0.9508236646652222, 0.033957988023757935, 0.9623392224311829, 0.03773879259824753, 0.9727720618247986, 0.053165897727012634, 0.956986129283905, 0.021262038499116898, 0.9780538082122803, 0.9908865690231323, 0.9973016977310181, 0.28655141592025757, 0.7163785696029663, 0.0403512641787529, 0.9280790686607361, 0.041776180267333984, 0.9608521461486816, 0.028526853770017624, 0.9699130058288574, 0.9527193307876587, 0.051221467554569244, 0.6394621729850769, 0.3681751787662506, 0.992167055606842, 0.9511430263519287, 0.04498547315597534, 0.9896804094314575, 0.09006890654563904, 0.9006890654563904, 0.9612523913383484, 0.02529611624777317, 0.9907099604606628, 0.9823265075683594, 0.963263750076294, 0.5508756041526794, 0.432830810546875, 0.9568740725517273, 0.974693775177002, 0.13018420338630676, 0.8678946495056152, 0.9790557622909546, 0.641703724861145, 0.35462573170661926, 0.9632639288902283, 0.9821954369544983, 0.9790557026863098, 0.9872661232948303, 0.6873584985733032, 0.319701611995697, 0.05661643296480179, 0.9436072707176208, 0.7900014519691467, 0.22218790650367737, 0.9961714148521423, 0.98953777551651, 0.7100295424461365, 0.30429840087890625, 0.9821974635124207, 0.6958886384963989, 0.3247480094432831, 0.30925604701042175, 0.7112888693809509, 0.5054464936256409, 0.4949163496494293, 0.9576178789138794, 0.03302130475640297, 0.7345374226570129, 0.26311787962913513, 0.6437525749206543, 0.35113775730133057, 0.05088575929403305, 0.9159436821937561, 0.7152867913246155, 0.28611472249031067, 0.9603710174560547, 0.9000030159950256, 0.11489400267601013, 0.9603685140609741, 1.001186728477478, 0.7901144623756409, 0.21069718897342682, 0.053163960576057434, 0.9569513201713562, 0.24569667875766754, 0.76438969373703, 0.7305677533149719, 0.2645159065723419, 0.055700354278087616, 0.9469060301780701, 0.02248983271420002, 0.967062771320343], \"Term\": [\"across\", \"advanced\", \"android\", \"android\", \"api\", \"apis\", \"app\", \"app\", \"application\", \"application\", \"apps\", \"article\", \"back\", \"background\", \"background\", \"brand\", \"bug\", \"build\", \"build\", \"business\", \"business\", \"campaign\", \"candidate\", \"candidate\", \"case\", \"channel\", \"code\", \"code\", \"communication\", \"communication\", \"community\", \"company\", \"company\", \"content\", \"content\", \"customer\", \"customer\", \"degree\", \"degree\", \"design\", \"design\", \"developer\", \"developer\", \"development\", \"development\", \"digital\", \"digital\", \"editing\", \"end\", \"end\", \"english\", \"english\", \"event\", \"excellent\", \"excellent\", \"familiarity\", \"familiarity\", \"fargo\", \"framework\", \"framework\", \"full\", \"full\", \"general\", \"general\", \"git\", \"good\", \"good\", \"hindi\", \"hindi\", \"indian\", \"institute\", \"integration\", \"interface\", \"io\", \"io\", \"java\", \"java\", \"javascript\", \"journalism\", \"journalism\", \"journalist\", \"journalist\", \"json\", \"library\", \"management\", \"management\", \"manager\", \"manager\", \"marketing\", \"marketing\", \"medium\", \"medium\", \"mobile\", \"mobile\", \"new\", \"new\", \"news\", \"notification\", \"office\", \"office\", \"online\", \"online\", \"performance\", \"performance\", \"php\", \"pr\", \"press\", \"qualification\", \"qualification\", \"relation\", \"relationship\", \"relevant\", \"relevant\", \"reliability\", \"requirement\", \"requirement\", \"research\", \"restful\", \"robustness\", \"sdk\", \"service\", \"service\", \"social\", \"social\", \"software\", \"software\", \"story\", \"strategy\", \"strong\", \"strong\", \"studio\", \"summary\", \"summary\", \"support\", \"support\", \"team\", \"team\", \"technical\", \"technical\", \"technology\", \"technology\", \"time\", \"time\", \"twitter\", \"twitter\", \"type\", \"type\", \"ui\", \"understanding\", \"understanding\", \"unit\", \"usability\", \"using\", \"using\", \"video\", \"video\", \"well\", \"well\", \"working\", \"working\", \"writer\", \"writer\", \"writing\", \"writing\"]}, \"R\": 30, \"lambda.step\": 0.01, \"plot.opts\": {\"xlab\": \"PC1\", \"ylab\": \"PC2\"}, \"topic.order\": [2, 1]};\n",
       "\n",
       "function LDAvis_load_lib(url, callback){\n",
       "  var s = document.createElement('script');\n",
       "  s.src = url;\n",
       "  s.async = true;\n",
       "  s.onreadystatechange = s.onload = callback;\n",
       "  s.onerror = function(){console.warn(\"failed to load library \" + url);};\n",
       "  document.getElementsByTagName(\"head\")[0].appendChild(s);\n",
       "}\n",
       "\n",
       "if(typeof(LDAvis) !== \"undefined\"){\n",
       "   // already loaded: just create the visualization\n",
       "   !function(LDAvis){\n",
       "       new LDAvis(\"#\" + \"ldavis_el1337215242992278085954333879\", ldavis_el1337215242992278085954333879_data);\n",
       "   }(LDAvis);\n",
       "}else if(typeof define === \"function\" && define.amd){\n",
       "   // require.js is available: use it to load d3/LDAvis\n",
       "   require.config({paths: {d3: \"https://cdnjs.cloudflare.com/ajax/libs/d3/3.5.5/d3.min\"}});\n",
       "   require([\"d3\"], function(d3){\n",
       "      window.d3 = d3;\n",
       "      LDAvis_load_lib(\"https://cdn.rawgit.com/bmabey/pyLDAvis/files/ldavis.v1.0.0.js\", function(){\n",
       "        new LDAvis(\"#\" + \"ldavis_el1337215242992278085954333879\", ldavis_el1337215242992278085954333879_data);\n",
       "      });\n",
       "    });\n",
       "}else{\n",
       "    // require.js not available: dynamically load d3 & LDAvis\n",
       "    LDAvis_load_lib(\"https://cdnjs.cloudflare.com/ajax/libs/d3/3.5.5/d3.min.js\", function(){\n",
       "         LDAvis_load_lib(\"https://cdn.rawgit.com/bmabey/pyLDAvis/files/ldavis.v1.0.0.js\", function(){\n",
       "                 new LDAvis(\"#\" + \"ldavis_el1337215242992278085954333879\", ldavis_el1337215242992278085954333879_data);\n",
       "            })\n",
       "         });\n",
       "}\n",
       "</script>"
      ],
      "text/plain": [
       "PreparedData(topic_coordinates=             x    y  topics  cluster       Freq\n",
       "topic                                          \n",
       "1      0.12284  0.0       1        1  51.565231\n",
       "0     -0.12284  0.0       2        1  48.434769, topic_info=     Category        Freq           Term       Total  loglift  logprob\n",
       "term                                                                  \n",
       "8     Default  289.000000        android  289.000000  30.0000  30.0000\n",
       "210   Default  130.000000    application  130.000000  29.0000  29.0000\n",
       "50    Default  139.000000         design  139.000000  28.0000  28.0000\n",
       "333   Default  105.000000         medium  105.000000  27.0000  27.0000\n",
       "863   Default  100.000000        content  100.000000  26.0000  26.0000\n",
       "219   Default  173.000000    development  173.000000  25.0000  25.0000\n",
       "338   Default   97.000000         mobile   97.000000  24.0000  24.0000\n",
       "53    Default   69.000000      developer   69.000000  23.0000  23.0000\n",
       "32    Default   87.000000  communication   87.000000  22.0000  22.0000\n",
       "495   Default   50.000000           apis   50.000000  21.0000  21.0000\n",
       "28    Default   56.000000           code   56.000000  20.0000  20.0000\n",
       "1594  Default   47.000000     journalist   47.000000  19.0000  19.0000\n",
       "910   Default   43.000000      community   43.000000  18.0000  18.0000\n",
       "779   Default   52.000000         social   52.000000  17.0000  17.0000\n",
       "396   Default   44.000000        writing   44.000000  16.0000  16.0000\n",
       "637   Default   47.000000      marketing   47.000000  15.0000  15.0000\n",
       "110   Default   52.000000           java   52.000000  14.0000  14.0000\n",
       "550   Default   44.000000            sdk   44.000000  13.0000  13.0000\n",
       "209   Default   68.000000            app   68.000000  12.0000  12.0000\n",
       "105   Default   37.000000    integration   37.000000  11.0000  11.0000\n",
       "346   Default   39.000000    performance   39.000000  10.0000  10.0000\n",
       "1591  Default   31.000000          event   31.000000   9.0000   9.0000\n",
       "1612  Default   30.000000          brand   30.000000   8.0000   8.0000\n",
       "971   Default   28.000000           news   28.000000   7.0000   7.0000\n",
       "295   Default   38.000000    familiarity   38.000000   6.0000   6.0000\n",
       "193   Default   52.000000  understanding   52.000000   5.0000   5.0000\n",
       "588   Default   27.000000            api   27.000000   4.0000   4.0000\n",
       "486   Default   30.000000      technical   30.000000   3.0000   3.0000\n",
       "532   Default   26.000000        library   26.000000   2.0000   2.0000\n",
       "997   Default   23.000000          story   23.000000   1.0000   1.0000\n",
       "...       ...         ...            ...         ...      ...      ...\n",
       "904    Topic2   14.077951        channel   14.533682   0.6931  -6.2619\n",
       "863    Topic2   96.840576        content  100.029961   0.6925  -4.3335\n",
       "1725   Topic2   17.371862         writer   17.953207   0.6920  -6.0517\n",
       "1394   Topic2   15.686019     background   16.242279   0.6901  -6.1538\n",
       "637    Topic2   46.193111      marketing   47.874172   0.6892  -5.0737\n",
       "1618   Topic2   11.546479      institute   11.967989   0.6891  -6.4601\n",
       "1656   Topic2   12.334477         indian   12.822104   0.6862  -6.3941\n",
       "779    Topic2   50.259003         social   52.988148   0.6721  -4.9893\n",
       "32     Topic2   80.780945  communication   87.983276   0.6395  -4.5148\n",
       "965    Topic2   23.410774        manager   24.782372   0.6680  -5.7533\n",
       "1339   Topic2   21.835030          hindi   23.073574   0.6698  -5.8230\n",
       "692    Topic2   28.724276        english   31.599436   0.6296  -5.5488\n",
       "781    Topic2   18.416473        twitter   19.651863   0.6600  -5.9933\n",
       "466    Topic2   20.225206         online   22.205221   0.6316  -5.8996\n",
       "273    Topic2   33.696346        company   41.773964   0.5101  -5.3891\n",
       "1247   Topic2   20.130569       relevant   23.044271   0.5898  -5.9043\n",
       "199    Topic2   27.936228           well   36.630531   0.4540  -5.5766\n",
       "42     Topic2   28.357780       customer   37.478531   0.4461  -5.5616\n",
       "277    Topic2   29.310011         degree   41.698723   0.3724  -5.5286\n",
       "380    Topic2   46.698673           team   94.965546   0.0152  -5.0628\n",
       "331    Topic2   24.948679     management   34.897751   0.3894  -5.6897\n",
       "496    Topic2   26.359402      candidate   41.648109   0.2675  -5.6347\n",
       "377    Topic2   22.629602        support   32.335667   0.3680  -5.7873\n",
       "21     Topic2   24.580305       business   44.980675   0.1207  -5.7046\n",
       "248    Topic2   30.345434           time   85.436554  -0.3102  -5.4939\n",
       "293    Topic2   21.840584      excellent   34.844429   0.2578  -5.8228\n",
       "185    Topic2   24.044834     technology   91.213867  -0.6083  -5.7266\n",
       "357    Topic2   22.371616  qualification   50.828175  -0.0957  -5.7987\n",
       "442    Topic2   23.027758           full   86.992592  -0.6042  -5.7698\n",
       "249    Topic2   22.381056           type   76.892235  -0.5092  -5.7983\n",
       "\n",
       "[138 rows x 6 columns], token_table=      Topic      Freq           Term\n",
       "term                                \n",
       "1         2  0.984983         across\n",
       "494       1  0.979055       advanced\n",
       "8         1  0.995700        android\n",
       "8         2  0.003457        android\n",
       "588       1  0.972907            api\n",
       "495       1  0.991027           apis\n",
       "209       1  0.909074            app\n",
       "209       2  0.087975            app\n",
       "210       1  0.966339    application\n",
       "210       2  0.030677    application\n",
       "402       1  0.960375           apps\n",
       "1578      2  0.994118        article\n",
       "521       1  0.982208           back\n",
       "1394      1  0.061568     background\n",
       "1394      2  0.985083     background\n",
       "1612      2  0.974426          brand\n",
       "263       1  0.998780            bug\n",
       "19        1  0.700612          build\n",
       "19        2  0.295814          build\n",
       "21        1  0.444635       business\n",
       "21        2  0.555794       business\n",
       "1807      2  0.963266       campaign\n",
       "496       1  0.360160      candidate\n",
       "496       2  0.624278      candidate\n",
       "497       1  0.951142           case\n",
       "904       2  0.963280        channel\n",
       "28        1  0.975953           code\n",
       "28        2  0.017745           code\n",
       "32        1  0.079561  communication\n",
       "32        2  0.920630  communication\n",
       "...     ...       ...            ...\n",
       "377       2  0.711289        support\n",
       "380       1  0.505446           team\n",
       "380       2  0.494916           team\n",
       "486       1  0.957618      technical\n",
       "486       2  0.033021      technical\n",
       "185       1  0.734537     technology\n",
       "185       2  0.263118     technology\n",
       "248       1  0.643753           time\n",
       "248       2  0.351138           time\n",
       "781       1  0.050886        twitter\n",
       "781       2  0.915944        twitter\n",
       "249       1  0.715287           type\n",
       "249       2  0.286115           type\n",
       "559       1  0.960371             ui\n",
       "193       1  0.900003  understanding\n",
       "193       2  0.114894  understanding\n",
       "387       1  0.960369           unit\n",
       "516       1  1.001187      usability\n",
       "194       1  0.790114          using\n",
       "194       2  0.210697          using\n",
       "1722      1  0.053164          video\n",
       "1722      2  0.956951          video\n",
       "199       1  0.245697           well\n",
       "199       2  0.764390           well\n",
       "587       1  0.730568        working\n",
       "587       2  0.264516        working\n",
       "1725      1  0.055700         writer\n",
       "1725      2  0.946906         writer\n",
       "396       1  0.022490        writing\n",
       "396       2  0.967063        writing\n",
       "\n",
       "[164 rows x 3 columns], R=30, lambda_step=0.01, plot_opts={'xlab': 'PC1', 'ylab': 'PC2'}, topic_order=[2, 1])"
      ]
     },
     "execution_count": 13,
     "metadata": {},
     "output_type": "execute_result"
    }
   ],
   "source": [
    "# Visualize the topics\n",
    "pyLDAvis.enable_notebook()\n",
    "vis = pyLDAvis.gensim.prepare(ldamodel, doc_term_matrix, dictionary)\n",
    "vis"
   ]
  }
 ],
 "metadata": {
  "kernelspec": {
   "display_name": "Python 3",
   "language": "python",
   "name": "python3"
  },
  "language_info": {
   "codemirror_mode": {
    "name": "ipython",
    "version": 3
   },
   "file_extension": ".py",
   "mimetype": "text/x-python",
   "name": "python",
   "nbconvert_exporter": "python",
   "pygments_lexer": "ipython3",
   "version": "3.7.6"
  }
 },
 "nbformat": 4,
 "nbformat_minor": 2
}
