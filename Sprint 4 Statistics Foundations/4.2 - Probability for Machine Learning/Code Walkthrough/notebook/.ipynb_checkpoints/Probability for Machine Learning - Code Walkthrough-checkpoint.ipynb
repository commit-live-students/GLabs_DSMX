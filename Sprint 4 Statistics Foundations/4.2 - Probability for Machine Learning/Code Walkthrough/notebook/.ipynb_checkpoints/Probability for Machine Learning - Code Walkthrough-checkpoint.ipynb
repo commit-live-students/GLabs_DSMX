{
 "cells": [
  {
   "cell_type": "markdown",
   "metadata": {},
   "source": [
    "# Probability  of the Loan Defaulters\n",
    "\n",
    "For this codeal we will be exploring the publicly available data from LendingClub.com. \n",
    "Lending Club connects people who need money (borrowers) with people who have money (investors). As an investor one would want to invest in people who showed a profile of having a high probability of paying the amount back.\n",
    "\n",
    "\n",
    "## Problem Statement\n",
    "\n",
    "What is the probability that the borrower paid back their loan in full?\n",
    "\n",
    "\n",
    "## About the Dataset\n",
    "\n",
    "The snapshot of the data you will be working on:\n",
    "\n",
    "![dtdataset](../images/dt_dataset.png)\n",
    "\n",
    "\n",
    "|Feature|Description|\n",
    "|-----|-----|\n",
    "|customer.id|ID of the customer|\n",
    "|credit.policy|If the customer meets the credit underwriting criteria of LendingClub.com or not|\n",
    "|purpose|The purpose of the loan(takes values :\"credit_card\", \"debt_consolidation\", \"educational\", \"major_purchase\", \"small_business\", and \"all_other\").|\n",
    "|int.rate|The interest rate of the loan|\n",
    "|installment|The monthly installments owed by the borrower if the loan is funded|\n",
    "|log.annual.inc|The natural log of the self-reported annual income of the borrower|\n",
    "|dti|The debt-to-income ratio of the borrower (amount of debt divided by annual income)|\n",
    "|fico|The FICO credit score of the borrower|\n",
    "|days.with.cr.line|The number of days the borrower has had a credit line.|\n",
    "|revol.bal|The borrower's revolving balance (amount unpaid at the end of the credit card billing cycle)|\n",
    "|revol.util|The borrower's revolving line utilization rate (the amount of the credit line used relative to total credit available)|\n",
    "|pub.rec| The borrower's number of derogatory public records (bankruptcy filings, tax liens, or judgments)\n",
    "|inq.last.6mths| The borrower's number of inquiries by creditors in the last 6 months|\n",
    "|delinq.2yrs| The number of times the borrower had been 30+ days past due on a payment in the past 2 years|\n",
    "|paid.back.loan|Whether the user has paid back loan|\n"
   ]
  },
  {
   "cell_type": "markdown",
   "metadata": {},
   "source": [
    "## Read data and perform Independence check\n",
    "\n",
    "To calculate the joint probability it's very important that conditions are idependent from each other. Les's check whether the condition `fico` credit score is greater than `700` and `purpose == 'debt_consolation'` are independent from each other.\n"
   ]
  },
  {
   "cell_type": "code",
   "execution_count": null,
   "metadata": {},
   "outputs": [],
   "source": []
  },
  {
   "cell_type": "markdown",
   "metadata": {},
   "source": [
    "## Bayes theorem\n",
    "\n",
    "Calculating conditional probabilty is the very important step. Let's calculate the bayes theorem for the  probability of credit policy is yes and the person is given the loan.\n",
    "\n"
   ]
  },
  {
   "cell_type": "code",
   "execution_count": null,
   "metadata": {},
   "outputs": [],
   "source": []
  },
  {
   "cell_type": "markdown",
   "metadata": {},
   "source": [
    "## Visualize Purpose vs Paid back loan\n"
   ]
  },
  {
   "cell_type": "code",
   "execution_count": null,
   "metadata": {},
   "outputs": [],
   "source": []
  },
  {
   "cell_type": "markdown",
   "metadata": {},
   "source": [
    "## Visualization of Installment\n",
    "\n",
    "- Calculate mean and median of installments\n",
    "- Visualise the distribution"
   ]
  },
  {
   "cell_type": "code",
   "execution_count": null,
   "metadata": {
    "scrolled": true
   },
   "outputs": [],
   "source": []
  },
  {
   "cell_type": "markdown",
   "metadata": {},
   "source": [
    "## Any other interesting insights?"
   ]
  },
  {
   "cell_type": "code",
   "execution_count": null,
   "metadata": {},
   "outputs": [],
   "source": []
  }
 ],
 "metadata": {
  "kernelspec": {
   "display_name": "Python 3",
   "language": "python",
   "name": "python3"
  },
  "language_info": {
   "codemirror_mode": {
    "name": "ipython",
    "version": 3
   },
   "file_extension": ".py",
   "mimetype": "text/x-python",
   "name": "python",
   "nbconvert_exporter": "python",
   "pygments_lexer": "ipython3",
   "version": "3.7.6"
  }
 },
 "nbformat": 4,
 "nbformat_minor": 2
}
