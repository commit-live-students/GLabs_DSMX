{
 "cells": [
  {
   "cell_type": "markdown",
   "metadata": {},
   "source": [
    "# Understanding the Descriptive Statistics using Titanic data\n",
    "\n",
    "The sinking of the Titanic is one of the most infamous shipwrecks in history.\n",
    "\n",
    "On April 15, 1912, during her maiden voyage, the widely considered “unsinkable” RMS Titanic sank after colliding with an iceberg. Unfortunately, there weren’t enough lifeboats for everyone onboard, resulting in the death of 1502 out of 2224 passengers and crew.\n",
    "\n",
    "While there was some element of luck involved in surviving, it seems some groups of people were more likely to survive than others.\n",
    "\n",
    "Lets go through the process to understand the basic descriptive statistics using this dataset"
   ]
  },
  {
   "cell_type": "markdown",
   "metadata": {},
   "source": [
    "### Import libraries"
   ]
  },
  {
   "cell_type": "code",
   "execution_count": null,
   "metadata": {},
   "outputs": [],
   "source": [
    "import numpy as np\n",
    "import pandas as pd\n",
    "\n",
    "# import visualization\n",
    "import matplotlib.pyplot as plt\n",
    "import seaborn as sns\n"
   ]
  },
  {
   "cell_type": "markdown",
   "metadata": {},
   "source": [
    "## Read the data and understand the data types"
   ]
  },
  {
   "cell_type": "code",
   "execution_count": null,
   "metadata": {},
   "outputs": [],
   "source": []
  },
  {
   "cell_type": "markdown",
   "metadata": {},
   "source": [
    "## 1. Understanding the basic data types\n",
    "\n",
    "There are 4 main types of the data:\n",
    "\n",
    "* Nominal: the values fall into predetermined categories and can not be sorted. The following columns are nominal for Titanic dataset: Sex, Embarked, Survived.\n",
    "\n",
    "* Ordinal: the values can be sorted, but there is no scale. Pclass variable is the example of ordinal column.\n",
    "\n",
    "* Interval: the values can be sorted and there is a scale, but there is no zero point for the values (column with a temperature measurements in a dataset could be an example of interval data type).\n",
    "\n",
    "* Ratio: the values can be sorted, there is a scale and a zero point for the values. The following columns are ratio: Age, SibSp, Parch, Fare."
   ]
  },
  {
   "cell_type": "code",
   "execution_count": null,
   "metadata": {},
   "outputs": [],
   "source": []
  },
  {
   "cell_type": "markdown",
   "metadata": {},
   "source": [
    "## 2. Central Tendency of Features\n",
    "\n",
    "For interval and ratio data types we can describe th central tandency of the values. Central tendency can be described using the following concepts:\n",
    "\n",
    "**Mean**: calculated average of the values.\n",
    "\n",
    "**Median**: the middle value.\n",
    "\n",
    "**Mode**: the most occuring value. There can be several modes for the variable.\n",
    "\n",
    "### Find the mean, median and mode for the variable age"
   ]
  },
  {
   "cell_type": "code",
   "execution_count": null,
   "metadata": {},
   "outputs": [],
   "source": []
  },
  {
   "cell_type": "markdown",
   "metadata": {},
   "source": [
    "## 3.Dispersion of Data\n",
    "\n",
    "The following terms are used to describe the dispersion of the data:\n",
    "\n",
    "* Range: minumum and maximum values.\n",
    "* Variance: the sum of square distances from each point of the data to the mean.\n",
    "* Standard deviation: the square root of the variance. Standard deviation is widely used because unlike the variance it is expressed in the same units as the values, while the variance is expressed in square units.\n",
    "* Quartiles and Interquartile Range: The data points can be divided into quartiles. The 1st quartile (Q1) splits off the lowest 25% of data from the highest 75%, the 2nd quartile (Q2) cuts data set in half and the 3rd quartile (Q3) splits off the highest 25% of data from the lowest 75%\n",
    "\n",
    "### So let's calculate range, variance, standard deviation and find out and visualize the quartiles for the variable age\n",
    "\n",
    "### Find  the min and max age in the data"
   ]
  },
  {
   "cell_type": "code",
   "execution_count": null,
   "metadata": {},
   "outputs": [],
   "source": []
  },
  {
   "cell_type": "markdown",
   "metadata": {},
   "source": [
    "### Find out the variance of the feature 'Age'\n"
   ]
  },
  {
   "cell_type": "code",
   "execution_count": null,
   "metadata": {},
   "outputs": [],
   "source": []
  },
  {
   "cell_type": "markdown",
   "metadata": {},
   "source": [
    "### Find out the standard deviation of the feature 'Age'"
   ]
  },
  {
   "cell_type": "code",
   "execution_count": null,
   "metadata": {},
   "outputs": [],
   "source": []
  },
  {
   "cell_type": "markdown",
   "metadata": {},
   "source": [
    "## Use the describe method of Pandas dataframe. What are your observation for all the variables?\n",
    "\n",
    "**We can get all the above discussed information and the quartiles using the describe method**\n",
    "\n",
    "**Lets understand the quartiles here**"
   ]
  },
  {
   "cell_type": "code",
   "execution_count": null,
   "metadata": {},
   "outputs": [],
   "source": []
  },
  {
   "cell_type": "markdown",
   "metadata": {},
   "source": [
    "## Visualization of data\n",
    "\n",
    "Calculation of values which describe central tendency and dispertion of the data is very useful for understanding of the data, but these numbers are not very demonstrative. \n",
    "The best way to understand those values is to visualize the data."
   ]
  },
  {
   "cell_type": "markdown",
   "metadata": {},
   "source": [
    "### Bar charts are commonly used to visualize nominal data so plot a bar chart for the feature 'Sex'"
   ]
  },
  {
   "cell_type": "code",
   "execution_count": null,
   "metadata": {},
   "outputs": [],
   "source": []
  },
  {
   "cell_type": "markdown",
   "metadata": {},
   "source": [
    "### Histograms are used to visualize interval and ratio data. Looking at histograms we can find out the range of the data, how the data points are distributed along the range. Plot histogram for 'Age' column:"
   ]
  },
  {
   "cell_type": "code",
   "execution_count": null,
   "metadata": {},
   "outputs": [],
   "source": []
  },
  {
   "cell_type": "markdown",
   "metadata": {},
   "source": [
    "### Box plots are used to visualize the main statistical features of the data: mean value, mode and interquartile range (IQR). Create a box plot for the 'Age' column."
   ]
  },
  {
   "cell_type": "code",
   "execution_count": null,
   "metadata": {},
   "outputs": [],
   "source": []
  },
  {
   "cell_type": "markdown",
   "metadata": {},
   "source": [
    "Box and whisker plots quartiles, and the band inside the box is the second quartile (the median). The ends of whiskers represent the lowest datum still within 1.5 IQR of the lower quartile, and the highest datum still within 1.5 IQR of the upper quartile. Data points outside the whiskers are plotted as small squares. \n",
    "These points are often considered as outliers and removed from the analysis."
   ]
  },
  {
   "cell_type": "markdown",
   "metadata": {},
   "source": [
    "## Understanding Pearson correlation coefficient for numerical features"
   ]
  },
  {
   "cell_type": "code",
   "execution_count": null,
   "metadata": {},
   "outputs": [],
   "source": []
  },
  {
   "cell_type": "markdown",
   "metadata": {},
   "source": [
    "Pearson correlation coefficient has a value between +1 and −1, where 1 is total positive linear correlation, 0 is no linear correlation, and −1 is total negative linear correlation. \n",
    "\n",
    "As we see on our plot there is no strong correlation between numeric variables of the dataset."
   ]
  },
  {
   "cell_type": "code",
   "execution_count": null,
   "metadata": {},
   "outputs": [],
   "source": []
  },
  {
   "cell_type": "markdown",
   "metadata": {},
   "source": [
    "## Discover Statistical Significance\n",
    "\n",
    "### Find out the average value for \"Survided\" column for male and female passengers.\n"
   ]
  },
  {
   "cell_type": "code",
   "execution_count": null,
   "metadata": {},
   "outputs": [],
   "source": []
  },
  {
   "cell_type": "markdown",
   "metadata": {},
   "source": []
  }
 ],
 "metadata": {
  "kernelspec": {
   "display_name": "Python 3",
   "language": "python",
   "name": "python3"
  },
  "language_info": {
   "codemirror_mode": {
    "name": "ipython",
    "version": 3
   },
   "file_extension": ".py",
   "mimetype": "text/x-python",
   "name": "python",
   "nbconvert_exporter": "python",
   "pygments_lexer": "ipython3",
   "version": "3.8.3"
  }
 },
 "nbformat": 4,
 "nbformat_minor": 4
}
