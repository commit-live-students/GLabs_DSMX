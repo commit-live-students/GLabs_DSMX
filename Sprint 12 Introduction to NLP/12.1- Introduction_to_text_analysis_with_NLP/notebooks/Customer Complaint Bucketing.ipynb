{
 "cells": [
  {
   "cell_type": "markdown",
   "metadata": {
    "colab_type": "text",
    "id": "GebRVKZggBMy"
   },
   "source": [
    "## Load the data"
   ]
  },
  {
   "cell_type": "code",
   "execution_count": 0,
   "metadata": {
    "colab": {},
    "colab_type": "code",
    "id": "g-0keyw5_FIj"
   },
   "outputs": [],
   "source": [
    "# NLP Pre-processing techniques or Methods:\n",
    "# Import The Text : reading the textual docs, pdf, word, text, csv, image files, HTML parsing\n",
    "# Non-ASCII characters, encoding= ASCII\n",
    "# UTF-8 characters\n",
    "\n",
    "# Understanding the terminologies in NLP\n",
    "# 1. Words\n",
    "# 2. sentence\n",
    "# 3. Paragraph\n",
    "# 4. Pages\n",
    "# 5. Document\n",
    "# 6. Corpus\n",
    "# 7. Directory\n",
    "\n",
    "# textual data cleaning steps\n",
    "# Sentencization\n",
    "# Toeknization\n",
    "# Stemming\n",
    "# Lemmatization\n",
    "# Stop Word removal\n",
    "# number removal\n",
    "# special symbols removal\n",
    "# vectorization of words\n",
    "# summarized data preparation\n",
    "\n",
    "# Tools for NLP\n",
    "# NLTK\n",
    "# spaCy\n",
    "# Gensim\n",
    "# Google NLP\n",
    "# Stanford NLP\n",
    "# Spark NLP\n",
    "# IBM NLP\n",
    "# Azure NLP\n",
    "\n"
   ]
  },
  {
   "cell_type": "code",
   "execution_count": 0,
   "metadata": {
    "colab": {},
    "colab_type": "code",
    "id": "NSOnFBY3B7CN"
   },
   "outputs": [],
   "source": [
    "import warnings\n",
    "warnings.filterwarnings('ignore')\n",
    "import pandas as pd"
   ]
  },
  {
   "cell_type": "code",
   "execution_count": 0,
   "metadata": {
    "colab": {
     "base_uri": "https://localhost:8080/",
     "height": 105
    },
    "colab_type": "code",
    "executionInfo": {
     "elapsed": 959,
     "status": "ok",
     "timestamp": 1565239016246,
     "user": {
      "displayName": "Bhushan Shewale",
      "photoUrl": "https://lh6.googleusercontent.com/-5a9j-ffSdSw/AAAAAAAAAAI/AAAAAAAAACw/ukiO53_VGNg/s64/photo.jpg",
      "userId": "17273113492750660774"
     },
     "user_tz": -330
    },
    "id": "zihVFJ7FTfwY",
    "outputId": "2a331535-1baa-4940-9213-37a22295e237"
   },
   "outputs": [
    {
     "name": "stdout",
     "output_type": "stream",
     "text": [
      "When my loan was switched over to Navient i was never told that i had a deliquint balance because with XXXX i did not. When going to purchase a vehicle i discovered my credit score had been dropped from the XXXX into the XXXX. I have been faithful at paying my student loan. I was told that Navient was the company i had delinquency with. I contacted Navient to resolve this issue you and kept being told to just contact the credit bureaus and expalin the situation and maybe they could help me. I was so angry that i just hurried and paid the balance off and then after tried to dispute the delinquency with the credit bureaus. I have had so much trouble bringing my credit score back up.\n",
      "\n",
      "\n",
      "['Mortgage', 'Student loan', 'Credit card or prepaid card', 'Credit card', 'Debt collection', 'Credit reporting', 'Credit reporting, credit repair services, or other personal consumer reports', 'Bank account or service', 'Consumer Loan', 'Money transfers', 'Vehicle loan or lease', 'Money transfer, virtual currency, or money service', 'Checking or savings account', 'Payday loan', 'Payday loan, title loan, or personal loan', 'Other financial service', 'Prepaid card']\n"
     ]
    }
   ],
   "source": [
    "import warnings\n",
    "warnings.filterwarnings('ignore')\n",
    "import pandas as pd\n",
    "\n",
    "# Loading of dataset\n",
    "full_data = pd.read_csv('https://raw.githubusercontent.com/bhushan45/customer_complaints/master/customer_complaints.csv')\n",
    "\n",
    "# keeping the relevant columns\n",
    "data = full_data[[\"Consumer complaint narrative\", \"Product\"]]\n",
    "data.columns = [\"X\", \"y\"]\n",
    "data.head()\n",
    "\n",
    "# Printing out the first non-empty value of the X column. Hence the second value, index is 1\n",
    "print(data[\"X\"][1])\n",
    "print(\"\\n\")\n",
    "print(list(data[\"y\"].unique()))\n"
   ]
  },
  {
   "cell_type": "markdown",
   "metadata": {
    "colab_type": "text",
    "id": "K-lNW_11g0Ii"
   },
   "source": [
    "## Tokenize first complaint "
   ]
  },
  {
   "cell_type": "code",
   "execution_count": null,
   "metadata": {
    "colab": {
     "base_uri": "https://localhost:8080/",
     "height": 68
    },
    "colab_type": "code",
    "executionInfo": {
     "elapsed": 1496,
     "status": "ok",
     "timestamp": 1565238165176,
     "user": {
      "displayName": "Bhushan Shewale",
      "photoUrl": "https://lh6.googleusercontent.com/-5a9j-ffSdSw/AAAAAAAAAAI/AAAAAAAAACw/ukiO53_VGNg/s64/photo.jpg",
      "userId": "17273113492750660774"
     },
     "user_tz": -330
    },
    "id": "TnJM7Svwdt28",
    "outputId": "2b24c77e-2b0f-4bb2-83eb-8b72ab387cb7"
   },
   "outputs": [],
   "source": []
  },
  {
   "cell_type": "code",
   "execution_count": 1,
   "metadata": {
    "colab": {
     "base_uri": "https://localhost:8080/",
     "height": 241
    },
    "colab_type": "code",
    "executionInfo": {
     "elapsed": 1018,
     "status": "ok",
     "timestamp": 1565239027568,
     "user": {
      "displayName": "Bhushan Shewale",
      "photoUrl": "https://lh6.googleusercontent.com/-5a9j-ffSdSw/AAAAAAAAAAI/AAAAAAAAACw/ukiO53_VGNg/s64/photo.jpg",
      "userId": "17273113492750660774"
     },
     "user_tz": -330
    },
    "id": "ar5ThoAaTuGX",
    "outputId": "8b05e5bf-87b9-41c6-9a3d-d067af042b82"
   },
   "outputs": [],
   "source": [
    "import nltk\n",
    "from nltk.tokenize import word_tokenize\n",
    "#nltk.download('punkt')\n",
    "\n",
    "# Dropping nan values from dataframe\n",
    "\n",
    "# Storing the first complaint\n",
    "\n",
    "\n",
    "# Printing the first complaint\n",
    "\n",
    "# Using the split command\n",
    "\n",
    "# Using the tokenize command\n"
   ]
  },
  {
   "cell_type": "markdown",
   "metadata": {
    "colab_type": "text",
    "id": "EhXC6jQShPej"
   },
   "source": [
    "## Tokenize into sentences\n"
   ]
  },
  {
   "cell_type": "code",
   "execution_count": 2,
   "metadata": {
    "colab": {
     "base_uri": "https://localhost:8080/",
     "height": 105
    },
    "colab_type": "code",
    "executionInfo": {
     "elapsed": 1036,
     "status": "ok",
     "timestamp": 1565238224733,
     "user": {
      "displayName": "Bhushan Shewale",
      "photoUrl": "https://lh6.googleusercontent.com/-5a9j-ffSdSw/AAAAAAAAAAI/AAAAAAAAACw/ukiO53_VGNg/s64/photo.jpg",
      "userId": "17273113492750660774"
     },
     "user_tz": -330
    },
    "id": "Og-efGyZUPgc",
    "outputId": "03a3ff3a-ccc2-4652-873e-110db06b60f2"
   },
   "outputs": [],
   "source": [
    "# first_complaint is already loaded onto the workspace\n",
    "from nltk.tokenize import sent_tokenize\n",
    "\n",
    "\n",
    "# Tokenizing sentences\n",
    "\n",
    "\n",
    "# Lowering first complaint\n",
    "\n",
    "# Tokenizing first complaint lower\n"
   ]
  },
  {
   "cell_type": "markdown",
   "metadata": {
    "colab_type": "text",
    "id": "wC3eYAB6hGRr"
   },
   "source": [
    "## Vectorizing first complaint"
   ]
  },
  {
   "cell_type": "code",
   "execution_count": 0,
   "metadata": {
    "colab": {
     "base_uri": "https://localhost:8080/",
     "height": 54
    },
    "colab_type": "code",
    "executionInfo": {
     "elapsed": 965,
     "status": "ok",
     "timestamp": 1565238242572,
     "user": {
      "displayName": "Bhushan Shewale",
      "photoUrl": "https://lh6.googleusercontent.com/-5a9j-ffSdSw/AAAAAAAAAAI/AAAAAAAAACw/ukiO53_VGNg/s64/photo.jpg",
      "userId": "17273113492750660774"
     },
     "user_tz": -330
    },
    "id": "6LOwfEzCd-Lu",
    "outputId": "c26a3122-2986-49b1-e3ed-7f1005d97da6"
   },
   "outputs": [
    {
     "name": "stdout",
     "output_type": "stream",
     "text": [
      "Counter({'i': 11, 'the': 8, '.': 7, 'was': 5, 'to': 5, 'and': 5, 'my': 4, 'had': 4, 'credit': 4, 'navient': 3, 'told': 3, 'that': 3, 'with': 3, 'xxxx': 3, 'when': 2, 'loan': 2, 'a': 2, 'balance': 2, 'score': 2, 'been': 2, 'have': 2, 'delinquency': 2, 'just': 2, 'bureaus': 2, 'so': 2, 'switched': 1, 'over': 1, 'never': 1, 'deliquint': 1, 'because': 1, 'did': 1, 'not': 1, 'going': 1, 'purchase': 1, 'vehicle': 1, 'discovered': 1, 'dropped': 1, 'from': 1, 'into': 1, 'faithful': 1, 'at': 1, 'paying': 1, 'student': 1, 'company': 1, 'contacted': 1, 'resolve': 1, 'this': 1, 'issue': 1, 'you': 1, 'kept': 1, 'being': 1, 'contact': 1, 'expalin': 1, 'situation': 1, 'maybe': 1, 'they': 1, 'could': 1, 'help': 1, 'me': 1, 'angry': 1, 'hurried': 1, 'paid': 1, 'off': 1, 'then': 1, 'after': 1, 'tried': 1, 'dispute': 1, 'much': 1, 'trouble': 1, 'bringing': 1, 'back': 1, 'up': 1})\n"
     ]
    }
   ],
   "source": [
    "from collections import Counter\n",
    "\n",
    "\n",
    "# Creating an object of count vectorizer\n"
   ]
  },
  {
   "cell_type": "markdown",
   "metadata": {
    "colab_type": "text",
    "id": "WRBry4WLhjBj"
   },
   "source": [
    "## Data Vectorization"
   ]
  },
  {
   "cell_type": "code",
   "execution_count": 3,
   "metadata": {
    "colab": {
     "base_uri": "https://localhost:8080/",
     "height": 34
    },
    "colab_type": "code",
    "executionInfo": {
     "elapsed": 1519,
     "status": "ok",
     "timestamp": 1565239219616,
     "user": {
      "displayName": "Bhushan Shewale",
      "photoUrl": "https://lh6.googleusercontent.com/-5a9j-ffSdSw/AAAAAAAAAAI/AAAAAAAAACw/ukiO53_VGNg/s64/photo.jpg",
      "userId": "17273113492750660774"
     },
     "user_tz": -330
    },
    "id": "GGlrfEW7eCjm",
    "outputId": "ef4b8464-4ce8-4b67-bc9c-342e1c35378c"
   },
   "outputs": [],
   "source": [
    "# import packages\n",
    "from sklearn.metrics import accuracy_score,roc_auc_score\n",
    "from sklearn.linear_model import LogisticRegression\n",
    "from sklearn.model_selection import train_test_split\n",
    "from sklearn.feature_extraction.text import CountVectorizer\n",
    "from sklearn.preprocessing import LabelEncoder\n",
    "\n",
    "\n"
   ]
  },
  {
   "cell_type": "markdown",
   "metadata": {
    "colab_type": "text",
    "id": "_U6-Wgb-h1Ib"
   },
   "source": [
    "## Removal of stopwords"
   ]
  },
  {
   "cell_type": "code",
   "execution_count": 4,
   "metadata": {
    "colab": {
     "base_uri": "https://localhost:8080/",
     "height": 34
    },
    "colab_type": "code",
    "executionInfo": {
     "elapsed": 1032,
     "status": "ok",
     "timestamp": 1565239275530,
     "user": {
      "displayName": "Bhushan Shewale",
      "photoUrl": "https://lh6.googleusercontent.com/-5a9j-ffSdSw/AAAAAAAAAAI/AAAAAAAAACw/ukiO53_VGNg/s64/photo.jpg",
      "userId": "17273113492750660774"
     },
     "user_tz": -330
    },
    "id": "FfuyBvvzeRIr",
    "outputId": "af21acda-39fe-4d05-9890-dc7a883c4dd9"
   },
   "outputs": [],
   "source": [
    "# import packages\n",
    "from sklearn.feature_extraction.text import TfidfVectorizer\n",
    "\n"
   ]
  },
  {
   "cell_type": "markdown",
   "metadata": {
    "colab_type": "text",
    "id": "kqOyzjOciFux"
   },
   "source": [
    "## TF-IDF Vectorizer using naive bayes"
   ]
  },
  {
   "cell_type": "code",
   "execution_count": 5,
   "metadata": {
    "colab": {
     "base_uri": "https://localhost:8080/",
     "height": 34
    },
    "colab_type": "code",
    "executionInfo": {
     "elapsed": 2066,
     "status": "ok",
     "timestamp": 1565239448459,
     "user": {
      "displayName": "Bhushan Shewale",
      "photoUrl": "https://lh6.googleusercontent.com/-5a9j-ffSdSw/AAAAAAAAAAI/AAAAAAAAACw/ukiO53_VGNg/s64/photo.jpg",
      "userId": "17273113492750660774"
     },
     "user_tz": -330
    },
    "id": "-m_1wK_2epZw",
    "outputId": "bcd6b5e9-e796-4035-945e-a05c76cde2c3"
   },
   "outputs": [],
   "source": [
    "# import packages \n",
    "from sklearn.naive_bayes import MultinomialNB\n",
    "\n",
    "# reading the data\n"
   ]
  },
  {
   "cell_type": "markdown",
   "metadata": {
    "colab_type": "text",
    "id": "PD35Jx4pirW8"
   },
   "source": [
    "## Dealing with imbalaced data"
   ]
  },
  {
   "cell_type": "code",
   "execution_count": 6,
   "metadata": {
    "colab": {
     "base_uri": "https://localhost:8080/",
     "height": 34
    },
    "colab_type": "code",
    "executionInfo": {
     "elapsed": 1388,
     "status": "ok",
     "timestamp": 1565239559111,
     "user": {
      "displayName": "Bhushan Shewale",
      "photoUrl": "https://lh6.googleusercontent.com/-5a9j-ffSdSw/AAAAAAAAAAI/AAAAAAAAACw/ukiO53_VGNg/s64/photo.jpg",
      "userId": "17273113492750660774"
     },
     "user_tz": -330
    },
    "id": "YQqDyvnzfD7R",
    "outputId": "12b5ce1d-003b-4073-d3cd-71a30f0cd2f5"
   },
   "outputs": [
    {
     "name": "stderr",
     "output_type": "stream",
     "text": [
      "Using TensorFlow backend.\n",
      "C:\\Users\\nnair\\miniconda3\\lib\\site-packages\\tensorflow\\python\\framework\\dtypes.py:526: FutureWarning: Passing (type, 1) or '1type' as a synonym of type is deprecated; in a future version of numpy, it will be understood as (type, (1,)) / '(1,)type'.\n",
      "  _np_qint8 = np.dtype([(\"qint8\", np.int8, 1)])\n",
      "C:\\Users\\nnair\\miniconda3\\lib\\site-packages\\tensorflow\\python\\framework\\dtypes.py:527: FutureWarning: Passing (type, 1) or '1type' as a synonym of type is deprecated; in a future version of numpy, it will be understood as (type, (1,)) / '(1,)type'.\n",
      "  _np_quint8 = np.dtype([(\"quint8\", np.uint8, 1)])\n",
      "C:\\Users\\nnair\\miniconda3\\lib\\site-packages\\tensorflow\\python\\framework\\dtypes.py:528: FutureWarning: Passing (type, 1) or '1type' as a synonym of type is deprecated; in a future version of numpy, it will be understood as (type, (1,)) / '(1,)type'.\n",
      "  _np_qint16 = np.dtype([(\"qint16\", np.int16, 1)])\n",
      "C:\\Users\\nnair\\miniconda3\\lib\\site-packages\\tensorflow\\python\\framework\\dtypes.py:529: FutureWarning: Passing (type, 1) or '1type' as a synonym of type is deprecated; in a future version of numpy, it will be understood as (type, (1,)) / '(1,)type'.\n",
      "  _np_quint16 = np.dtype([(\"quint16\", np.uint16, 1)])\n",
      "C:\\Users\\nnair\\miniconda3\\lib\\site-packages\\tensorflow\\python\\framework\\dtypes.py:530: FutureWarning: Passing (type, 1) or '1type' as a synonym of type is deprecated; in a future version of numpy, it will be understood as (type, (1,)) / '(1,)type'.\n",
      "  _np_qint32 = np.dtype([(\"qint32\", np.int32, 1)])\n",
      "C:\\Users\\nnair\\miniconda3\\lib\\site-packages\\tensorflow\\python\\framework\\dtypes.py:535: FutureWarning: Passing (type, 1) or '1type' as a synonym of type is deprecated; in a future version of numpy, it will be understood as (type, (1,)) / '(1,)type'.\n",
      "  np_resource = np.dtype([(\"resource\", np.ubyte, 1)])\n"
     ]
    }
   ],
   "source": [
    "# import package\n",
    "from imblearn.over_sampling import RandomOverSampler\n",
    "from sklearn.naive_bayes import MultinomialNB\n"
   ]
  },
  {
   "cell_type": "markdown",
   "metadata": {
    "colab_type": "text",
    "id": "se-s_soGjFSD"
   },
   "source": [
    "## Linear SVC"
   ]
  },
  {
   "cell_type": "code",
   "execution_count": 7,
   "metadata": {
    "colab": {
     "base_uri": "https://localhost:8080/",
     "height": 34
    },
    "colab_type": "code",
    "executionInfo": {
     "elapsed": 144068,
     "status": "ok",
     "timestamp": 1565239722627,
     "user": {
      "displayName": "Bhushan Shewale",
      "photoUrl": "https://lh6.googleusercontent.com/-5a9j-ffSdSw/AAAAAAAAAAI/AAAAAAAAACw/ukiO53_VGNg/s64/photo.jpg",
      "userId": "17273113492750660774"
     },
     "user_tz": -330
    },
    "id": "f95QeyW3fJzA",
    "outputId": "e4053c8b-53a0-4600-80d6-b4bbe1cc63d1"
   },
   "outputs": [],
   "source": [
    "from sklearn.svm import SVC\n",
    "\n",
    "#Code starts here\n",
    "\n"
   ]
  }
 ],
 "metadata": {
  "colab": {
   "collapsed_sections": [],
   "name": "Introduction_to_nlp_code_along.ipynb",
   "provenance": []
  },
  "kernelspec": {
   "display_name": "Python 3",
   "language": "python",
   "name": "python3"
  },
  "language_info": {
   "codemirror_mode": {
    "name": "ipython",
    "version": 3
   },
   "file_extension": ".py",
   "mimetype": "text/x-python",
   "name": "python",
   "nbconvert_exporter": "python",
   "pygments_lexer": "ipython3",
   "version": "3.7.6"
  }
 },
 "nbformat": 4,
 "nbformat_minor": 1
}
